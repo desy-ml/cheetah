{
 "cells": [
  {
   "cell_type": "code",
   "execution_count": 1,
   "metadata": {},
   "outputs": [],
   "source": [
    "import torch\n",
    "from torch import nn\n",
    "\n",
    "import cheetah"
   ]
  },
  {
   "cell_type": "code",
   "execution_count": 2,
   "metadata": {},
   "outputs": [
    {
     "data": {
      "text/plain": [
       "Quadrupole(length=tensor(0.2000), k1=tensor(4.2000), misalignment=tensor([0., 0.]), tilt=tensor(0.), name=None, device=\"'cpu'\")"
      ]
     },
     "execution_count": 2,
     "metadata": {},
     "output_type": "execute_result"
    }
   ],
   "source": [
    "quadrupole = cheetah.Quadrupole(length=torch.tensor(0.2), k1=torch.tensor(4.2))\n",
    "quadrupole"
   ]
  },
  {
   "cell_type": "code",
   "execution_count": 3,
   "metadata": {},
   "outputs": [
    {
     "data": {
      "text/plain": [
       "tensor(4.2000)"
      ]
     },
     "execution_count": 3,
     "metadata": {},
     "output_type": "execute_result"
    }
   ],
   "source": [
    "quadrupole.k1"
   ]
  },
  {
   "cell_type": "code",
   "execution_count": 4,
   "metadata": {},
   "outputs": [
    {
     "data": {
      "text/plain": [
       "[]"
      ]
     },
     "execution_count": 4,
     "metadata": {},
     "output_type": "execute_result"
    }
   ],
   "source": [
    "list(quadrupole.parameters())"
   ]
  },
  {
   "cell_type": "code",
   "execution_count": 5,
   "metadata": {},
   "outputs": [
    {
     "data": {
      "text/plain": [
       "Quadrupole(length=tensor(0.2000), k1=Parameter containing:\n",
       "tensor(5., requires_grad=True), misalignment=tensor([0., 0.]), tilt=tensor(0.), name=None, device=\"'cpu'\")"
      ]
     },
     "execution_count": 5,
     "metadata": {},
     "output_type": "execute_result"
    }
   ],
   "source": [
    "quadrupole.k1 = nn.Parameter(torch.tensor(5.0))\n",
    "quadrupole"
   ]
  },
  {
   "cell_type": "code",
   "execution_count": 6,
   "metadata": {},
   "outputs": [
    {
     "data": {
      "text/plain": [
       "[Parameter containing:\n",
       " tensor(5., requires_grad=True)]"
      ]
     },
     "execution_count": 6,
     "metadata": {},
     "output_type": "execute_result"
    }
   ],
   "source": [
    "list(quadrupole.parameters())"
   ]
  },
  {
   "cell_type": "code",
   "execution_count": 7,
   "metadata": {},
   "outputs": [
    {
     "data": {
      "text/plain": [
       "Segment(elements=ModuleList(\n",
       "  (0): Quadrupole(length=tensor(0.2000), k1=Parameter containing:\n",
       "  tensor(5., requires_grad=True), misalignment=tensor([0., 0.]), tilt=tensor(0.), name=None, device=\"'cpu'\")\n",
       "), name='unnamed', device='cpu')"
      ]
     },
     "execution_count": 7,
     "metadata": {},
     "output_type": "execute_result"
    }
   ],
   "source": [
    "segment = cheetah.Segment(elements=[quadrupole])\n",
    "segment"
   ]
  },
  {
   "cell_type": "code",
   "execution_count": 8,
   "metadata": {},
   "outputs": [
    {
     "data": {
      "text/plain": [
       "[Parameter containing:\n",
       " tensor(5., requires_grad=True)]"
      ]
     },
     "execution_count": 8,
     "metadata": {},
     "output_type": "execute_result"
    }
   ],
   "source": [
    "list(segment.parameters())"
   ]
  },
  {
   "cell_type": "code",
   "execution_count": 9,
   "metadata": {},
   "outputs": [
    {
     "data": {
      "text/plain": [
       "torch.nn.parameter.Parameter"
      ]
     },
     "execution_count": 9,
     "metadata": {},
     "output_type": "execute_result"
    }
   ],
   "source": [
    "type(segment.elements[0].k1)"
   ]
  },
  {
   "cell_type": "code",
   "execution_count": 10,
   "metadata": {},
   "outputs": [
    {
     "data": {
      "text/plain": [
       "[]"
      ]
     },
     "execution_count": 10,
     "metadata": {},
     "output_type": "execute_result"
    }
   ],
   "source": [
    "class TestModule(nn.Module):\n",
    "    \"\"\"Test\"\"\"\n",
    "\n",
    "    def __init__(self, k1: torch.Tensor = torch.tensor(0.0)) -> None:\n",
    "        super().__init__()\n",
    "\n",
    "        self.k1 = k1\n",
    "\n",
    "\n",
    "test_module = TestModule(k1=torch.tensor(4.2))\n",
    "list(test_module.parameters())"
   ]
  },
  {
   "cell_type": "code",
   "execution_count": 11,
   "metadata": {},
   "outputs": [
    {
     "data": {
      "text/plain": [
       "[Parameter containing:\n",
       " tensor(3.1400, requires_grad=True)]"
      ]
     },
     "execution_count": 11,
     "metadata": {},
     "output_type": "execute_result"
    }
   ],
   "source": [
    "test_module.k1 = nn.Parameter(torch.tensor(3.14))\n",
    "list(test_module.parameters())"
   ]
  },
  {
   "cell_type": "code",
   "execution_count": 12,
   "metadata": {},
   "outputs": [
    {
     "name": "stdout",
     "output_type": "stream",
     "text": [
      "hello\n",
      "'hello'\n"
     ]
    }
   ],
   "source": [
    "s = \"hello\"\n",
    "print(s)\n",
    "print(repr(s))"
   ]
  },
  {
   "cell_type": "code",
   "execution_count": 13,
   "metadata": {},
   "outputs": [],
   "source": [
    "segment = cheetah.Segment(\n",
    "    [\n",
    "        cheetah.Drift(length=torch.tensor(1.0)),\n",
    "        cheetah.Quadrupole(\n",
    "            length=torch.tensor(0.2),\n",
    "            k1=nn.Parameter(torch.tensor(3.142)),\n",
    "            name=\"my_quad\",\n",
    "        ),\n",
    "        cheetah.Drift(length=torch.tensor(1.0)),\n",
    "    ]\n",
    ")\n",
    "incoming_beam = cheetah.ParticleBeam.from_astra(\n",
    "    \"benchmark/astra/ACHIP_EA1_2021.1351.001\"\n",
    ")\n",
    "\n",
    "outgoing_beam = segment.track(incoming_beam)"
   ]
  },
  {
   "cell_type": "code",
   "execution_count": 14,
   "metadata": {},
   "outputs": [
    {
     "data": {
      "text/plain": [
       "ParticleBeam(n=100000, mu_x=tensor(3.5298e-07, grad_fn=<MeanBackward0>), mu_xp=tensor(-4.8779e-07, grad_fn=<MeanBackward0>), mu_y=tensor(-3.2951e-06, grad_fn=<MeanBackward0>), mu_yp=tensor(-1.3088e-06, grad_fn=<MeanBackward0>), sigma_x=tensor(6.1099e-05, grad_fn=<StdBackward0>), sigma_xp=tensor(0.0001, grad_fn=<StdBackward0>), sigma_y=tensor(0.0003, grad_fn=<StdBackward0>), sigma_yp=tensor(0.0001, grad_fn=<StdBackward0>), sigma_s=tensor(8.0274e-06, grad_fn=<StdBackward0>), sigma_p=tensor(0.0023, grad_fn=<StdBackward0>), energy=tensor(1.0732e+08, dtype=torch.float64))"
      ]
     },
     "execution_count": 14,
     "metadata": {},
     "output_type": "execute_result"
    }
   ],
   "source": [
    "outgoing_beam"
   ]
  },
  {
   "cell_type": "code",
   "execution_count": 15,
   "metadata": {},
   "outputs": [
    {
     "data": {
      "text/plain": [
       "tensor([[ 2.5138e-08, -2.9385e-08, -9.6960e-07,  ...,  9.0621e-21,\n",
       "          2.2205e-16,  1.0000e+00],\n",
       "        [ 2.0749e-05, -3.7642e-05, -9.7300e-07,  ...,  2.1451e-06,\n",
       "         -1.0257e-03,  1.0000e+00],\n",
       "        [ 1.6727e-08, -1.2108e-08,  7.5594e-05,  ...,  7.3348e-07,\n",
       "          1.1856e-03,  1.0000e+00],\n",
       "        ...,\n",
       "        [ 7.5297e-05, -1.2659e-04,  3.6216e-04,  ...,  8.0915e-07,\n",
       "         -5.4731e-04,  1.0000e+00],\n",
       "        [ 1.9986e-05, -3.4357e-05,  4.9716e-04,  ...,  1.2477e-06,\n",
       "          1.4368e-03,  1.0000e+00],\n",
       "        [-2.3671e-05,  3.7790e-05,  3.8850e-04,  ...,  6.5052e-06,\n",
       "         -1.8158e-03,  1.0000e+00]], grad_fn=<MmBackward0>)"
      ]
     },
     "execution_count": 15,
     "metadata": {},
     "output_type": "execute_result"
    }
   ],
   "source": [
    "outgoing_beam.particles"
   ]
  },
  {
   "cell_type": "code",
   "execution_count": 16,
   "metadata": {},
   "outputs": [
    {
     "data": {
      "text/plain": [
       "tensor(3.5298e-07, grad_fn=<MeanBackward0>)"
      ]
     },
     "execution_count": 16,
     "metadata": {},
     "output_type": "execute_result"
    }
   ],
   "source": [
    "outgoing_beam.mu_x"
   ]
  },
  {
   "cell_type": "code",
   "execution_count": 17,
   "metadata": {},
   "outputs": [
    {
     "data": {
      "text/plain": [
       "Parameter containing:\n",
       "tensor(3.1420, requires_grad=True)"
      ]
     },
     "execution_count": 17,
     "metadata": {},
     "output_type": "execute_result"
    }
   ],
   "source": [
    "segment.elements[1].k1"
   ]
  },
  {
   "cell_type": "code",
   "execution_count": 18,
   "metadata": {},
   "outputs": [
    {
     "data": {
      "text/plain": [
       "tensor([[ 0.9378,  0.1958,  0.0000,  0.0000,  0.0000,  0.0000,  0.0000],\n",
       "        [-0.6153,  0.9378,  0.0000,  0.0000,  0.0000,  0.0000,  0.0000],\n",
       "        [ 0.0000,  0.0000,  1.0635,  0.2042,  0.0000,  0.0000,  0.0000],\n",
       "        [ 0.0000,  0.0000,  0.6416,  1.0635,  0.0000,  0.0000,  0.0000],\n",
       "        [ 0.0000,  0.0000,  0.0000,  0.0000,  1.0000, -0.0015,  0.0000],\n",
       "        [ 0.0000,  0.0000,  0.0000,  0.0000,  0.0000,  1.0000,  0.0000],\n",
       "        [ 0.0000,  0.0000,  0.0000,  0.0000,  0.0000,  0.0000,  1.0000]],\n",
       "       grad_fn=<CopySlices>)"
      ]
     },
     "execution_count": 18,
     "metadata": {},
     "output_type": "execute_result"
    }
   ],
   "source": [
    "segment.elements[1].transfer_map(energy=6e6)"
   ]
  },
  {
   "cell_type": "code",
   "execution_count": 19,
   "metadata": {},
   "outputs": [
    {
     "data": {
      "text/plain": [
       "tensor(15.7100, grad_fn=<MulBackward0>)"
      ]
     },
     "execution_count": 19,
     "metadata": {},
     "output_type": "execute_result"
    }
   ],
   "source": [
    "segment.elements[1].k1 * 5"
   ]
  },
  {
   "cell_type": "code",
   "execution_count": 20,
   "metadata": {},
   "outputs": [
    {
     "data": {
      "text/plain": [
       "tensor([1.0000, 3.1420, 3.0000])"
      ]
     },
     "execution_count": 20,
     "metadata": {},
     "output_type": "execute_result"
    }
   ],
   "source": [
    "torch.tensor([1.0, segment.elements[1].k1, 3.0])"
   ]
  },
  {
   "cell_type": "code",
   "execution_count": 21,
   "metadata": {},
   "outputs": [
    {
     "data": {
      "text/plain": [
       "tensor([1.0000, 3.1420, 3.0000])"
      ]
     },
     "execution_count": 21,
     "metadata": {},
     "output_type": "execute_result"
    }
   ],
   "source": [
    "torch.Tensor([1.0, segment.elements[1].k1, 3.0])"
   ]
  },
  {
   "cell_type": "code",
   "execution_count": 22,
   "metadata": {},
   "outputs": [
    {
     "data": {
      "text/plain": [
       "tensor([1.0000, 3.1420, 3.0000], grad_fn=<CopySlices>)"
      ]
     },
     "execution_count": 22,
     "metadata": {},
     "output_type": "execute_result"
    }
   ],
   "source": [
    "a = torch.tensor([1.0, 2.0, 3.0])\n",
    "a[1] = segment.elements[1].k1\n",
    "a"
   ]
  },
  {
   "cell_type": "code",
   "execution_count": 23,
   "metadata": {},
   "outputs": [
    {
     "data": {
      "text/plain": [
       "tensor([1., 2.], grad_fn=<StackBackward0>)"
      ]
     },
     "execution_count": 23,
     "metadata": {},
     "output_type": "execute_result"
    }
   ],
   "source": [
    "x = torch.tensor(1.0)\n",
    "x.requires_grad = True\n",
    "y = torch.tensor(2.0)\n",
    "torch.stack([x, y])"
   ]
  },
  {
   "cell_type": "code",
   "execution_count": 24,
   "metadata": {},
   "outputs": [
    {
     "data": {
      "text/plain": [
       "tensor([[1., 2.],\n",
       "        [3., 4.]], grad_fn=<StackBackward0>)"
      ]
     },
     "execution_count": 24,
     "metadata": {},
     "output_type": "execute_result"
    }
   ],
   "source": [
    "xx = torch.tensor(1.0)\n",
    "xy = torch.tensor(2.0)\n",
    "yx = torch.tensor(3.0)\n",
    "yy = torch.tensor(4.0)\n",
    "\n",
    "xy.requires_grad = True\n",
    "\n",
    "torch.stack([torch.stack([xx, xy]), torch.stack([yx, yy])])"
   ]
  },
  {
   "cell_type": "code",
   "execution_count": null,
   "metadata": {},
   "outputs": [],
   "source": []
  }
 ],
 "metadata": {
  "kernelspec": {
   "display_name": "cheetah-dev",
   "language": "python",
   "name": "python3"
  },
  "language_info": {
   "codemirror_mode": {
    "name": "ipython",
    "version": 3
   },
   "file_extension": ".py",
   "mimetype": "text/x-python",
   "name": "python",
   "nbconvert_exporter": "python",
   "pygments_lexer": "ipython3",
   "version": "3.9.16"
  },
  "orig_nbformat": 4
 },
 "nbformat": 4,
 "nbformat_minor": 2
}
