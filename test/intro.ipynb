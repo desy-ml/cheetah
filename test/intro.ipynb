{
 "cells": [
  {
   "cell_type": "code",
   "execution_count": 1,
   "metadata": {},
   "outputs": [
    {
     "name": "stderr",
     "output_type": "stream",
     "text": [
      "[INFO    ] : : \u001b[0mbeam.py: module NUMBA is not installed. Install it to speed up calculation\u001b[0m\n"
     ]
    },
    {
     "name": "stdout",
     "output_type": "stream",
     "text": [
      "math_op.py: module Numba is not installed. Install it if you want speed up correlation calculations\n"
     ]
    },
    {
     "name": "stderr",
     "output_type": "stream",
     "text": [
      "[INFO    ] : : \u001b[0mhigh_order.py: module NUMBA is not installed. Install it to speed up calculation\u001b[0m\n",
      "[INFO    ] : : : : : : : : : : : \u001b[0mradiation_py.py: module NUMBA is not installed. Install it to speed up calculation\u001b[0m\n",
      "[INFO    ] \u001b[0mcsr.py: module NUMBA is not installed. Install it to speed up calculation\u001b[0m\n",
      "[INFO    ] \u001b[0mcsr.py: module PYFFTW is not installed. Install it to speed up calculation.\u001b[0m\n",
      "[INFO    ] \u001b[0mcsr.py: module NUMEXPR is not installed. Install it to speed up calculation\u001b[0m\n",
      "[INFO    ] \u001b[0mwake3D.py: module NUMBA is not installed. Install it to speed up calculation\u001b[0m\n"
     ]
    },
    {
     "name": "stdout",
     "output_type": "stream",
     "text": [
      "initializing ocelot...\n",
      "import: module NUMBA is not installed. Install it to speed up calculation\n",
      "import: module PYFFTW is not installed. Install it to speed up calculation\n",
      "import: module NUMEXPR is not installed. Install it to speed up calculation\n"
     ]
    }
   ],
   "source": [
    "import matplotlib.pyplot as plt\n",
    "import ocelot\n",
    "\n",
    "from cheetah import (\n",
    "    BPM,\n",
    "    Drift,\n",
    "    HorizontalCorrector,\n",
    "    ParameterBeam,\n",
    "    ParticleBeam,\n",
    "    Screen,\n",
    "    Segment,\n",
    "    VerticalCorrector,\n",
    ")\n"
   ]
  },
  {
   "cell_type": "markdown",
   "metadata": {},
   "source": [
    "### Accelerator Segments\n",
    "\n",
    "Let's start with a very simple example creating a small lattice and tracking a beam through it."
   ]
  },
  {
   "cell_type": "code",
   "execution_count": 2,
   "metadata": {},
   "outputs": [],
   "source": [
    "# Create the lattice (which we call segment)\n",
    "segment = Segment(\n",
    "    [\n",
    "        BPM(name=\"BPM1SMATCH\"),\n",
    "        Drift(length=1.0),\n",
    "        BPM(name=\"BPM6SMATCH\"),\n",
    "        Drift(length=1.0),\n",
    "        VerticalCorrector(length=0.3, name=\"V7SMATCH\"),\n",
    "        Drift(length=0.2),\n",
    "        HorizontalCorrector(length=0.3, name=\"H10SMATCH\"),\n",
    "        Drift(length=7.0),\n",
    "        HorizontalCorrector(length=0.3, name=\"H12SMATCH\"),\n",
    "        Drift(length=0.05),\n",
    "        BPM(name=\"BPM13SMATCH\"),\n",
    "    ]\n",
    ")\n"
   ]
  },
  {
   "cell_type": "code",
   "execution_count": 3,
   "metadata": {},
   "outputs": [
    {
     "data": {
      "text/plain": [
       "Segment([BPM(name=\"BPM1SMATCH\"), Drift(length=1.00, name=\"Drift_000001\"), BPM(name=\"BPM6SMATCH\"), Drift(length=1.00, name=\"Drift_000003\"), VerticalCorrector(length=0.30, angle=0.0, name=\"V7SMATCH\"), Drift(length=0.20, name=\"Drift_000005\"), HorizontalCorrector(length=0.30, angle=0.0, name=\"H10SMATCH\"), Drift(length=7.00, name=\"Drift_000007\"), HorizontalCorrector(length=0.30, angle=0.0, name=\"H12SMATCH\"), Drift(length=0.05, name=\"Drift_000009\"), BPM(name=\"BPM13SMATCH\")])"
      ]
     },
     "execution_count": 3,
     "metadata": {},
     "output_type": "execute_result"
    }
   ],
   "source": [
    "# Have a look at it\n",
    "segment\n"
   ]
  },
  {
   "cell_type": "markdown",
   "metadata": {},
   "source": [
    "Elements such as magnets can be accessed by their name. If you didn't pass a name, they will be named automatically to something like `BPM_001`."
   ]
  },
  {
   "cell_type": "code",
   "execution_count": 4,
   "metadata": {},
   "outputs": [
    {
     "data": {
      "text/plain": [
       "VerticalCorrector(length=0.30, angle=0.0, name=\"V7SMATCH\")"
      ]
     },
     "execution_count": 4,
     "metadata": {},
     "output_type": "execute_result"
    }
   ],
   "source": [
    "segment.V7SMATCH\n"
   ]
  },
  {
   "cell_type": "markdown",
   "metadata": {},
   "source": [
    "You can use this to change a magnets strength, for example."
   ]
  },
  {
   "cell_type": "code",
   "execution_count": 5,
   "metadata": {},
   "outputs": [],
   "source": [
    "segment.V7SMATCH.angle = 1e-4\n"
   ]
  },
  {
   "cell_type": "markdown",
   "metadata": {},
   "source": [
    "### Beams"
   ]
  },
  {
   "cell_type": "code",
   "execution_count": 6,
   "metadata": {},
   "outputs": [],
   "source": [
    "# Create a beam\n",
    "beam_1 = ParticleBeam.from_parameters(n=10_000)\n"
   ]
  },
  {
   "cell_type": "code",
   "execution_count": 7,
   "metadata": {},
   "outputs": [
    {
     "data": {
      "text/plain": [
       "ParticleBeam(n=10000, mu_x=-0.000000, mu_xp=0.000000, mu_y=0.000000, mu_yp=-0.000000, sigma_x=0.000000, sigma_xp=0.000000, sigma_y=0.000000, sigma_yp=0.000000, sigma_s=0.000001, sigma_p=0.000001, energy=100000000.000)"
      ]
     },
     "execution_count": 7,
     "metadata": {},
     "output_type": "execute_result"
    }
   ],
   "source": [
    "# Look at it\n",
    "beam_1\n"
   ]
  },
  {
   "cell_type": "code",
   "execution_count": 8,
   "metadata": {},
   "outputs": [
    {
     "data": {
      "text/plain": [
       "ParticleBeam(n=10000, mu_x=0.000000, mu_xp=0.000000, mu_y=0.000785, mu_yp=0.000100, sigma_x=0.000002, sigma_xp=0.000000, sigma_y=0.000002, sigma_yp=0.000000, sigma_s=0.000001, sigma_p=0.000001, energy=100000000.000)"
      ]
     },
     "execution_count": 8,
     "metadata": {},
     "output_type": "execute_result"
    }
   ],
   "source": [
    "# Now do the actual tracking ... out is the beam that you get after tracking through the lattice\n",
    "out = segment(beam_1)\n",
    "out\n"
   ]
  },
  {
   "cell_type": "markdown",
   "metadata": {},
   "source": [
    "Actually, there are two types of beam: `ParticleBeam` and `ParameterBeam`. Particle beam actually simulations loads of single particles. Parameter Beam decribes the beam as a gaussian distribution of particles. By doing this, a Parameter Beam can be tracked much faster, but is also less accurate."
   ]
  },
  {
   "cell_type": "code",
   "execution_count": 9,
   "metadata": {},
   "outputs": [
    {
     "data": {
      "text/plain": [
       "ParameterBeam(mu_x=0.000000, mu_xp=0.000000, mu_y=0.000000, mu_yp=0.000000, sigma_x=0.000000, sigma_xp=0.000000, sigma_y=0.000000, sigma_yp=0.000000, sigma_s=0.000001, sigma_p=0.000001, energy=100000000.000)"
      ]
     },
     "execution_count": 9,
     "metadata": {},
     "output_type": "execute_result"
    }
   ],
   "source": [
    "beam_2 = ParameterBeam.from_parameters()\n",
    "beam_2\n"
   ]
  },
  {
   "cell_type": "code",
   "execution_count": 10,
   "metadata": {},
   "outputs": [
    {
     "data": {
      "text/plain": [
       "ParameterBeam(mu_x=0.000000, mu_xp=0.000000, mu_y=0.000785, mu_yp=0.000100, sigma_x=0.000002, sigma_xp=0.000000, sigma_y=0.000002, sigma_yp=0.000000, sigma_s=0.000001, sigma_p=0.000001, energy=100000000.000)"
      ]
     },
     "execution_count": 10,
     "metadata": {},
     "output_type": "execute_result"
    }
   ],
   "source": [
    "out = segment(beam_2)\n",
    "out\n"
   ]
  },
  {
   "cell_type": "markdown",
   "metadata": {},
   "source": [
    "### Diagnostics\n",
    "\n",
    "Cheetah supports diagnostics like screens and BPMs."
   ]
  },
  {
   "cell_type": "code",
   "execution_count": 11,
   "metadata": {},
   "outputs": [],
   "source": [
    "segment_2 = Segment(\n",
    "    [\n",
    "        Drift(length=1.0),\n",
    "        BPM(name=\"my_bpm\"),\n",
    "        Drift(length=1.0),\n",
    "        Screen(name=\"my_screen\", resolution=(100, 100), pixel_size=(3e-6, 3e-6)),\n",
    "        Drift(length=1.0),\n",
    "    ]\n",
    ")\n"
   ]
  },
  {
   "cell_type": "code",
   "execution_count": 12,
   "metadata": {},
   "outputs": [
    {
     "data": {
      "text/plain": [
       "BPM(name=\"my_bpm\")"
      ]
     },
     "execution_count": 12,
     "metadata": {},
     "output_type": "execute_result"
    }
   ],
   "source": [
    "segment_2.my_bpm\n"
   ]
  },
  {
   "cell_type": "code",
   "execution_count": 13,
   "metadata": {},
   "outputs": [
    {
     "data": {
      "text/plain": [
       "Screen(resolution=(100, 100), pixel_size=(3e-06, 3e-06), binning=1, misalignment=(0, 0), name=\"my_screen\")"
      ]
     },
     "execution_count": 13,
     "metadata": {},
     "output_type": "execute_result"
    }
   ],
   "source": [
    "segment_2.my_screen\n"
   ]
  },
  {
   "cell_type": "markdown",
   "metadata": {},
   "source": [
    "Because screens and BPMs may be expensive to compute, they need to be activated. NOTE that an activated screen also blocks the beam just like it would in the real world."
   ]
  },
  {
   "cell_type": "code",
   "execution_count": 14,
   "metadata": {},
   "outputs": [
    {
     "name": "stdout",
     "output_type": "stream",
     "text": [
      "out = ParticleBeam(n=10000, mu_x=-0.000000, mu_xp=0.000000, mu_y=-0.000000, mu_yp=-0.000000, sigma_x=0.000001, sigma_xp=0.000000, sigma_y=0.000001, sigma_yp=0.000000, sigma_s=0.000001, sigma_p=0.000001, energy=100000000.000)\n",
      "segment_2.my_bpm.reading = (-8.465952938685462e-10, 5.219794041444459e-10)\n"
     ]
    }
   ],
   "source": [
    "# With the BPM active, you can get a reading from it, but the beam also still appears at the end of the lattice.\n",
    "segment_2.my_bpm.is_active = True\n",
    "out = segment_2(beam_1)\n",
    "\n",
    "print(f\"{out = }\")\n",
    "print(f\"{segment_2.my_bpm.reading = }\")\n"
   ]
  },
  {
   "cell_type": "code",
   "execution_count": 15,
   "metadata": {},
   "outputs": [
    {
     "name": "stdout",
     "output_type": "stream",
     "text": [
      "out = \"I'm an empty beam!\"\n",
      "segment_2.my_screen.reading = tensor([[0, 0, 0,  ..., 0, 0, 0],\n",
      "        [0, 0, 0,  ..., 0, 0, 0],\n",
      "        [0, 0, 0,  ..., 0, 0, 0],\n",
      "        ...,\n",
      "        [0, 0, 0,  ..., 0, 0, 0],\n",
      "        [0, 0, 0,  ..., 0, 0, 0],\n",
      "        [0, 0, 0,  ..., 0, 0, 0]])\n"
     ]
    }
   ],
   "source": [
    "# If we now also activate the screen, we can get a reading from it, too, but there will be now beam at the end of the lattice\n",
    "segment_2.my_screen.is_active = True\n",
    "out = segment_2(beam_1)\n",
    "\n",
    "print(f\"{out = }\")\n",
    "print(f\"{segment_2.my_screen.reading = }\")\n"
   ]
  },
  {
   "cell_type": "code",
   "execution_count": 16,
   "metadata": {},
   "outputs": [
    {
     "data": {
      "image/png": "[encoded data removed]",
      "text/plain": [
       "<Figure size 432x288 with 1 Axes>"
      ]
     },
     "metadata": {
      "needs_background": "light"
     },
     "output_type": "display_data"
    }
   ],
   "source": [
    "# A screen reading is basically an image, so you can display it\n",
    "plt.imshow(segment_2.my_screen.reading)\n",
    "plt.show()\n"
   ]
  },
  {
   "cell_type": "markdown",
   "metadata": {},
   "source": [
    "### Compatibility with other simulation codes\n",
    "\n",
    "Most lattices and particle distributions are available in formats from simulation codes like Ocelot and Astra. So we added ways to easily load them."
   ]
  },
  {
   "cell_type": "code",
   "execution_count": 17,
   "metadata": {},
   "outputs": [
    {
     "name": "stdout",
     "output_type": "stream",
     "text": [
      "WARNING: Diagnostic screen was converted with default screen properties.\n",
      "WARNING: Diagnostic screen was converted with default screen properties.\n",
      "WARNING: Diagnostic screen was converted with default screen properties.\n",
      "WARNING: Diagnostic screen was converted with default screen properties.\n",
      "WARNING: Diagnostic screen was converted with default screen properties.\n",
      "WARNING: Diagnostic screen was converted with default screen properties.\n",
      "WARNING: Diagnostic screen was converted with default screen properties.\n",
      "WARNING: Diagnostic screen was converted with default screen properties.\n"
     ]
    },
    {
     "data": {
      "text/plain": [
       "Segment([Drift(length=0.00, name=\"ARLISOLG1\"), Drift(length=0.20, name=\"Drift_ARLISOLG1\"), Drift(length=0.09, name=\"ARLIMSOG1\"), Drift(length=0.09, name=\"ARLIMSOG1\"), Drift(length=0.17, name=\"Drift_ARLIMSOG1p\"), HorizontalCorrector(length=0.00, angle=0.0, name=\"ARLIMCXG1\"), VerticalCorrector(length=0.00, angle=0.0, name=\"ARLIMCXG1\"), Drift(length=0.19, name=\"Drift_ARLIMCVG1\"), Drift(length=0.00, name=\"ARLIBSCL1\"), Drift(length=0.14, name=\"Drift_ARLIBSCL1\"), Drift(length=0.00, name=\"ARLIBAML1\"), Drift(length=0.30, name=\"Drift_ARLIBAML1\"), Drift(length=0.00, name=\"ARLIBSCX1\"), Drift(length=0.19, name=\"Drift_ARLIBSCX1\"), Drift(length=0.00, name=\"ARLISLHG1\"), Drift(length=0.49, name=\"Drift_ARLISLHG1\"), HorizontalCorrector(length=0.00, angle=0.0, name=\"ARLIMCXG2\"), VerticalCorrector(length=0.00, angle=0.0, name=\"ARLIMCXG2\"), Drift(length=0.06, name=\"Drift_ARLIMCVG2\"), Drift(length=0.00, name=\"ARLIBCMG1\"), Drift(length=0.33, name=\"Drift_ARLIBCMG1\"), Screen(resolution=(2448, 2040), pixel_size=(3.5488e-06, 2.5003e-06), binning=1, misalignment=(0, 0), name=\"ARLIBSCR1\"), Drift(length=0.15, name=\"Drift_ARLIBSCR1\"), Drift(length=0.00, name=\"ARLIEOLG1\"), Drift(length=0.00, name=\"ARLISOLS1\"), Cavity(length=4.14, delta_energy=0, name=\"ARLIRSBL1\"), Drift(length=0.02, name=\"Drift_ARLIRSBL1\"), HorizontalCorrector(length=0.00, angle=0.0, name=\"ARLIMCXG3\"), VerticalCorrector(length=0.00, angle=0.0, name=\"ARLIMCXG3\"), Drift(length=0.30, name=\"Drift_ARLIMCVG3\"), Screen(resolution=(2448, 2040), pixel_size=(3.5488e-06, 2.5003e-06), binning=1, misalignment=(0, 0), name=\"ARLIBSCR2\"), Drift(length=0.19, name=\"Drift_ARLIBSCR2\"), HorizontalCorrector(length=0.02, angle=0.0, name=\"ARLIMCHM1\"), Drift(length=0.41, name=\"Drift_ARLIMCHM1\"), BPM(name=\"ARLIBPMG1\"), Drift(length=0.31, name=\"Drift_ARLIBPMG1\"), VerticalCorrector(length=0.02, angle=0.0, name=\"ARLIMCVM1\"), Drift(length=0.09, name=\"Drift_ARLIMCVM1\"), Cavity(length=4.14, delta_energy=0, name=\"ARLIRSBL2\"), Drift(length=0.02, name=\"Drift_ARLIRSBL2\"), HorizontalCorrector(length=0.00, angle=0.0, name=\"ARLIMCXG4A\"), VerticalCorrector(length=0.00, angle=0.0, name=\"ARLIMCXG4B\"), Drift(length=0.30, name=\"Drift_ARLIMCVG4\"), Screen(resolution=(2448, 2040), pixel_size=(3.5488e-06, 2.5003e-06), binning=1, misalignment=(0, 0), name=\"ARLIBSCR3\"), Drift(length=0.19, name=\"Drift_ARLIBSCR3\"), HorizontalCorrector(length=0.02, angle=0.0, name=\"ARLIMCHM2\"), Drift(length=0.41, name=\"Drift_ARLIMCHM1\"), BPM(name=\"ARLIBPMG2\"), Drift(length=0.31, name=\"Drift_ARLIBPMG1\"), VerticalCorrector(length=0.02, angle=0.0, name=\"ARLIMCVM2\"), Drift(length=0.09, name=\"Drift_ARLIMCVM2\"), Drift(length=0.00, name=\"ARLIEOLS1\"), Drift(length=0.00, name=\"AREASOLA1\"), Drift(length=0.18, name=\"Drift_AREASOLA1\"), Quadrupole(length=0.12, k1=0, misalignment=(0, 0), name=\"AREAMQZM1\"), Drift(length=0.43, name=\"Drift_AREAMQZM1\"), Quadrupole(length=0.12, k1=0, misalignment=(0, 0), name=\"AREAMQZM2\"), Drift(length=0.20, name=\"Drift_AREAMQZM2\"), VerticalCorrector(length=0.02, angle=0.0, name=\"AREAMCVM1\"), Drift(length=0.20, name=\"Drift_AREAMCVM1\"), Quadrupole(length=0.12, k1=0, misalignment=(0, 0), name=\"AREAMQZM3\"), Drift(length=0.18, name=\"Drift_AREAMQZM3\"), HorizontalCorrector(length=0.02, angle=0.0, name=\"AREAMCHM1\"), Drift(length=0.45, name=\"Drift_AREAMCHM1\"), Screen(resolution=(2448, 2040), pixel_size=(3.5488e-06, 2.5003e-06), binning=1, misalignment=(0, 0), name=\"AREABSCR1\"), Drift(length=1.38, name=\"Drift_AREABSCR1\"), Drift(length=0.00, name=\"AREAECHA1\"), Drift(length=0.37, name=\"Drift_AREAECHA1\"), HorizontalCorrector(length=0.02, angle=0.0, name=\"AREAMCHM2\"), Drift(length=0.23, name=\"Drift_AREAMCHM2\"), VerticalCorrector(length=0.02, angle=0.0, name=\"AREAMCVM2\"), Drift(length=0.07, name=\"Drift_AREAMCVM2\"), Drift(length=0.00, name=\"AREAEOLA1\"), Drift(length=0.00, name=\"ARMRSOLT1\"), Drift(length=0.17, name=\"Drift_ARMRSOLT1\"), HorizontalCorrector(length=0.02, angle=0.0, name=\"ARMRMCHM1\"), Drift(length=0.37, name=\"Drift_ARMRMCHM1\"), VerticalCorrector(length=0.02, angle=0.0, name=\"ARMRMCVM1\"), Drift(length=0.37, name=\"Drift_ARMRMCVM1\"), BPM(name=\"ARMRBPMG1\"), Drift(length=0.33, name=\"Drift_ARMRBPMG1\"), Quadrupole(length=0.12, k1=0, misalignment=(0, 0), name=\"ARMRMQZM1\"), Drift(length=0.25, name=\"Drift_ARMRMQZM1\"), VerticalCorrector(length=0.02, angle=0.0, name=\"ARMRMCVM2\"), Drift(length=0.36, name=\"Drift_ARMRMCVM2\"), HorizontalCorrector(length=0.02, angle=0.0, name=\"ARMRMCHM2\"), Drift(length=0.27, name=\"Drift_ARMRMCHM2\"), Screen(resolution=(2448, 2040), pixel_size=(3.5488e-06, 2.5003e-06), binning=1, misalignment=(0, 0), name=\"ARMRBSCR1\"), Drift(length=0.18, name=\"Drift_ARMRBSCR1\"), Quadrupole(length=0.12, k1=0, misalignment=(0, 0), name=\"ARMRMQZM2\"), Drift(length=0.25, name=\"Drift_ARMRMQZM1\"), HorizontalCorrector(length=0.02, angle=0.0, name=\"ARMRMCHM3\"), Drift(length=0.15, name=\"Drift_ARMRMCHM3\"), Drift(length=0.00, name=\"ARMRBCMG1\"), Drift(length=0.15, name=\"Drift_ARMRBCMG1\"), VerticalCorrector(length=0.02, angle=0.0, name=\"ARMRMCVM3\"), Drift(length=0.31, name=\"Drift_ARMRMCVM3\"), BPM(name=\"ARMRBPMG2\"), Drift(length=0.33, name=\"Drift_ARMRBPMG1\"), Quadrupole(length=0.12, k1=0, misalignment=(0, 0), name=\"ARMRMQZM3\"), Drift(length=0.22, name=\"Drift_ARMRMQZM3\"), Drift(length=0.00, name=\"ARMRBAML1\"), Drift(length=0.14, name=\"Drift_ARMRBAML1\"), VerticalCorrector(length=0.02, angle=0.0, name=\"ARMRMCVM4\"), Drift(length=0.16, name=\"Drift_ARMRMCVM4\"), Drift(length=0.00, name=\"ARMRTORF1\"), Drift(length=0.13, name=\"Drift_ARMRTORF1\"), HorizontalCorrector(length=0.02, angle=0.0, name=\"ARMRMCHM4\"), Drift(length=0.27, name=\"Drift_ARMRMCHM2\"), Screen(resolution=(2448, 2040), pixel_size=(3.5488e-06, 2.5003e-06), binning=1, misalignment=(0, 0), name=\"ARMRBSCR2\"), Drift(length=0.18, name=\"Drift_ARMRBSCR1\"), Quadrupole(length=0.12, k1=0, misalignment=(0, 0), name=\"ARMRMQZM4\"), Drift(length=0.15, name=\"Drift_ARMRMQZM4\"), Drift(length=0.00, name=\"ARMREOLT1\"), Drift(length=0.00, name=\"ARDGSOLO1\"), Drift(length=1.55, name=\"Drift_ARDGSOLO1\"), Drift(length=0.00, name=\"ARDGEOLO1\"), Drift(length=0.00, name=\"ARMRSOLB1\"), Drift(length=0.23, name=\"Drift_ARMRSOLB1\"), BPM(name=\"ARMRBPMG3\"), Drift(length=0.38, name=\"Drift_ARMRBPMG3\"), Quadrupole(length=0.12, k1=0, misalignment=(0, 0), name=\"ARMRMQZM5\"), Drift(length=0.25, name=\"Drift_ARMRMQZM5\"), VerticalCorrector(length=0.02, angle=0.0, name=\"ARMRMCVM5\"), Drift(length=0.28, name=\"Drift_ARMRMCVM5\"), HorizontalCorrector(length=0.02, angle=0.0, name=\"ARMRMCHM5\"), Drift(length=0.27, name=\"Drift_ARMRMCHM2\"), Screen(resolution=(2448, 2040), pixel_size=(3.5488e-06, 2.5003e-06), binning=1, misalignment=(0, 0), name=\"ARMRBSCR3\"), Drift(length=0.18, name=\"Drift_ARMRBSCR1\"), Quadrupole(length=0.12, k1=0, misalignment=(0, 0), name=\"ARMRMQZM6\"), Drift(length=0.32, name=\"Drift_ARMRMQZM6\"), Drift(length=0.00, name=\"ARMREOLB1\"), Drift(length=0.00, name=\"ARBCSOLC\"), Drift(length=0.27, name=\"Drift_ARBCSOLC\"), Drift(length=0.22, name=\"ARBCMBHB1\"), Drift(length=0.60, name=\"Drift_ARBCMBHB1\"), Drift(length=0.22, name=\"ARBCMBHB2\"), Drift(length=0.56, name=\"Drift_ARBCMBHB2\"), BPM(name=\"ARBCBPML1\"), Drift(length=0.60, name=\"Drift_ARBCBPML1\"), Drift(length=0.00, name=\"ARBCSLHB1\"), Drift(length=0.38, name=\"Drift_ARBCSLHB1\"), Drift(length=0.00, name=\"ARBCSLHS1\"), Drift(length=0.61, name=\"Drift_ARBCSLHS1\"), Drift(length=0.00, name=\"ARBCBSCE1\"), Drift(length=0.55, name=\"Drift_ARBCBSCE1\"), Drift(length=0.22, name=\"ARBCMBHB3\"), Drift(length=0.60, name=\"Drift_ARBCMBHB1\"), Drift(length=0.22, name=\"ARBCMBHB4\"), Drift(length=0.26, name=\"Drift_ARBCMBHB4\"), Drift(length=0.00, name=\"ARBCEOLC\"), Drift(length=0.00, name=\"ARDLSOLM1\"), Drift(length=0.20, name=\"Drift_ARDLSOLM1\"), VerticalCorrector(length=0.02, angle=0.0, name=\"ARDLMCVM1\"), Drift(length=0.16, name=\"Drift_ARDLMCVM1\"), Drift(length=0.00, name=\"ARDLTORF1\"), Drift(length=0.13, name=\"Drift_ARDLTORF1\"), HorizontalCorrector(length=0.02, angle=0.0, name=\"ARDLMCHM1\"), Drift(length=0.25, name=\"Drift_ARMRMQZM1\"), Quadrupole(length=0.12, k1=0, misalignment=(0, 0), name=\"ARDLMQZM1\"), Drift(length=0.36, name=\"Drift_ARDLMQZM1\"), BPM(name=\"ARDLBPMG1\"), Drift(length=0.33, name=\"Drift_ARDLBPMG1\"), Quadrupole(length=0.12, k1=0, misalignment=(0, 0), name=\"ARDLMQZM2\"), Drift(length=0.34, name=\"Drift_ARDLMQZM2\"), Screen(resolution=(2448, 2040), pixel_size=(3.5488e-06, 2.5003e-06), binning=1, misalignment=(0, 0), name=\"ARDLBSCR1\"), Drift(length=0.53, name=\"Drift_ARDLBSCR1\"), Drift(length=1.00, name=\"ARDLRXBD1\"), Drift(length=0.09, name=\"Drift_ARDLRXBD1\"), Drift(length=1.00, name=\"ARDLRXBD2\"), Drift(length=0.65, name=\"Drift_ARDLRXBD2\"), Drift(length=0.00, name=\"ARDLBSCE1\"), Drift(length=0.54, name=\"Drift_ARDLBSCE1\"), BPM(name=\"ARDLBPMG2\"), Drift(length=0.47, name=\"Drift_ARDLBPMG2\"), VerticalCorrector(length=0.02, angle=0.0, name=\"ARDLMCVM2\"), Drift(length=0.25, name=\"Drift_ARMRMQZM1\"), Quadrupole(length=0.12, k1=0, misalignment=(0, 0), name=\"ARDLMQZM3\"), Drift(length=0.61, name=\"Drift_ARDLMQZM3\"), HorizontalCorrector(length=0.02, angle=0.0, name=\"ARDLMCHM2\"), Drift(length=0.25, name=\"Drift_ARMRMQZM1\"), Quadrupole(length=0.12, k1=0, misalignment=(0, 0), name=\"ARDLMQZM4\"), Drift(length=0.15, name=\"Drift_ARDLMQZM4\"), Drift(length=0.00, name=\"ARDLEOLM1\"), Drift(length=0.00, name=\"ARSHSOLH1\"), Drift(length=0.87, name=\"Drift_ARSHSOLH1\"), Drift(length=0.44, name=\"ARSHMBHO1\"), Drift(length=1.11, name=\"Drift_ARSHMBHO1\"), Drift(length=0.00, name=\"ARSHBSCE2\"), Drift(length=-0.87, name=\"Drift_ARSHBSCE2\"), Drift(length=0.00, name=\"ARSHBSCE1\"), Drift(length=0.04, name=\"Drift_ARSHBSCE1\"), Drift(length=0.00, name=\"ARSHEOLH1\"), Drift(length=0.89, name=\"Drift_ARSHEOLH1\"), Drift(length=0.00, name=\"ARSHEOLH2\")])"
      ]
     },
     "execution_count": 17,
     "metadata": {},
     "output_type": "execute_result"
    }
   ],
   "source": [
    "# The ARES lattice is defined using Ocelot in ARESlatticeStage3v1_9.py. We can load is as a Cheetah segment like so. Note that the warnings are presented because Cheetah simulates the pixels of a screen, which Ocelot cannot do. Therefore, things like resolution and pixel size are not defined in the Ocelot lattice and Cheetah uses default values when converting.\n",
    "import ARESlatticeStage3v1_9 as ares\n",
    "\n",
    "ares_segment = Segment.from_ocelot(ares.cell)\n",
    "ares_segment\n"
   ]
  },
  {
   "cell_type": "code",
   "execution_count": 18,
   "metadata": {},
   "outputs": [
    {
     "data": {
      "text/plain": [
       "ParticleBeam(n=100000, mu_x=0.000001, mu_xp=0.000000, mu_y=-0.000002, mu_yp=-0.000000, sigma_x=0.000175, sigma_xp=0.000004, sigma_y=0.000175, sigma_yp=0.000004, sigma_s=0.000008, sigma_p=0.002280, energy=107315902.444)"
      ]
     },
     "execution_count": 18,
     "metadata": {},
     "output_type": "execute_result"
    }
   ],
   "source": [
    "# Similar conversions can be done for beams (both to a ParticleBeam and a ParameterBeam)\n",
    "astra_beam = ParticleBeam.from_astra(\"../benchmark/astra/ACHIP_EA1_2021.1351.001\")\n",
    "astra_beam\n"
   ]
  },
  {
   "cell_type": "code",
   "execution_count": 19,
   "metadata": {},
   "outputs": [
    {
     "data": {
      "text/plain": [
       "ParameterBeam(mu_x=0.000000, mu_xp=0.000000, mu_y=0.000000, mu_yp=0.000000, sigma_x=0.000232, sigma_xp=0.000204, sigma_y=0.000232, sigma_yp=0.000204, sigma_s=0.001734, sigma_p=0.002626, energy=6557938.998)"
      ]
     },
     "execution_count": 19,
     "metadata": {},
     "output_type": "execute_result"
    }
   ],
   "source": [
    "ocelot_p_array = ocelot.load_particle_array(\"sc_beam.npz\")\n",
    "ocelot_beam = ParameterBeam.from_ocelot(ocelot_p_array)\n",
    "ocelot_beam\n"
   ]
  },
  {
   "cell_type": "markdown",
   "metadata": {},
   "source": [
    "### Plotting\n",
    "\n",
    "We even have a little plot function that lets you see your beam through the lattice by showing you equally spaces reference particles."
   ]
  },
  {
   "cell_type": "code",
   "execution_count": 20,
   "metadata": {},
   "outputs": [
    {
     "data": {
      "image/png": "[encoded data removed]",
      "text/plain": [
       "<Figure size 432x288 with 3 Axes>"
      ]
     },
     "metadata": {
      "needs_background": "light"
     },
     "output_type": "display_data"
    }
   ],
   "source": [
    "segment.plot_overview(beam=astra_beam)\n"
   ]
  },
  {
   "cell_type": "code",
   "execution_count": null,
   "metadata": {},
   "outputs": [],
   "source": []
  }
 ],
 "metadata": {
  "kernelspec": {
   "display_name": "Python 3.9.13 ('cheetah-test')",
   "language": "python",
   "name": "python3"
  },
  "language_info": {
   "codemirror_mode": {
    "name": "ipython",
    "version": 3
   },
   "file_extension": ".py",
   "mimetype": "text/x-python",
   "name": "python",
   "nbconvert_exporter": "python",
   "pygments_lexer": "ipython3",
   "version": "3.9.13"
  },
  "orig_nbformat": 4,
  "vscode": {
   "interpreter": {
    "hash": "947d9ee3b458d99f0eb80dac10135f6d6a35887bd0ce9fb941e727a4631c373a"
   }
  }
 },
 "nbformat": 4,
 "nbformat_minor": 2
}
