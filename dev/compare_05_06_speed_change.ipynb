{
 "cells": [
  {
   "cell_type": "code",
   "execution_count": 2,
   "id": "653c1ffb",
   "metadata": {},
   "outputs": [],
   "source": [
    "from typing import Optional, Union\n",
    "\n",
    "import numpy as np\n",
    "import torch\n",
    "from scipy import constants\n",
    "\n",
    "import cheetah\n",
    "from cheetah import Species\n",
    "from cheetah.utils import compute_relativistic_factors\n",
    "import jax.numpy as jnp\n",
    "import jax"
   ]
  },
  {
   "cell_type": "code",
   "execution_count": 2,
   "id": "041707b3",
   "metadata": {},
   "outputs": [],
   "source": [
    "%load_ext line_profiler\n",
    "%load_ext pyinstrument"
   ]
  },
  {
   "cell_type": "code",
   "execution_count": 3,
   "id": "233971f4",
   "metadata": {},
   "outputs": [],
   "source": [
    "REST_ENERGY_PYTHON = (\n",
    "    constants.electron_mass * constants.speed_of_light**2 / constants.elementary_charge\n",
    ")  # electron mass\n",
    "REST_ENERGY_TORCH = torch.tensor(\n",
    "    constants.electron_mass * constants.speed_of_light**2 / constants.elementary_charge\n",
    ")  # electron mass"
   ]
  },
  {
   "cell_type": "code",
   "execution_count": 4,
   "id": "0a3a2c29",
   "metadata": {},
   "outputs": [],
   "source": [
    "def base_rmatrix(\n",
    "    length: torch.Tensor,\n",
    "    k1: torch.Tensor,\n",
    "    hx: torch.Tensor,\n",
    "    tilt: Optional[torch.Tensor] = None,\n",
    "    energy: Optional[torch.Tensor] = None,\n",
    "    device: Union[str, torch.device] = \"auto\",\n",
    ") -> torch.Tensor:\n",
    "    \"\"\"\n",
    "    Create a universal transfer matrix for a beamline element.\n",
    "    :param length: Length of the element in m.\n",
    "    :param k1: Quadrupole strength in 1/m**2.\n",
    "    :param hx: Curvature (1/radius) of the element in 1/m**2.\n",
    "    :param tilt: Roation of the element relative to the longitudinal axis in rad.\n",
    "    :param energy: Beam energy in eV.\n",
    "    :param device: Device where the transfer matrix is created. If \"auto\", the device\n",
    "        is selected automatically.\n",
    "    :return: Transfer matrix for the element.\n",
    "    \"\"\"\n",
    "\n",
    "    tilt = tilt if tilt is not None else torch.tensor(0.0)\n",
    "    energy = energy if energy is not None else torch.tensor(0.0)\n",
    "\n",
    "    if device == \"auto\":\n",
    "        device = \"cuda\" if torch.cuda.is_available() else \"cpu\"\n",
    "    gamma = energy / REST_ENERGY_TORCH\n",
    "    igamma2 = 1 / gamma**2 if gamma != 0 else torch.tensor(0.0)\n",
    "\n",
    "    beta = torch.sqrt(1 - igamma2)\n",
    "\n",
    "    kx2 = k1 + hx**2\n",
    "    ky2 = -k1\n",
    "    kx = torch.sqrt(torch.complex(kx2, torch.tensor(0.0)))\n",
    "    ky = torch.sqrt(torch.complex(ky2, torch.tensor(0.0)))\n",
    "    cx = torch.cos(kx * length).real\n",
    "    cy = torch.cos(ky * length).real\n",
    "    sy = (torch.sin(ky * length) / ky).real if ky != 0 else length\n",
    "\n",
    "    if kx != 0:\n",
    "        sx = (torch.sin(kx * length) / kx).real\n",
    "        dx = hx / kx2 * (1.0 - cx)\n",
    "        r56 = hx**2 * (length - sx) / kx2 / beta**2\n",
    "    else:\n",
    "        sx = length\n",
    "        dx = length**2 * hx / 2\n",
    "        r56 = hx**2 * length**3 / 6 / beta**2\n",
    "\n",
    "    r56 -= length / beta**2 * igamma2\n",
    "\n",
    "    R = torch.eye(7, dtype=torch.float32, device=device)\n",
    "    R[0, 0] = cx\n",
    "    R[0, 1] = sx\n",
    "    R[0, 5] = dx / beta\n",
    "    R[1, 0] = -kx2 * sx\n",
    "    R[1, 1] = cx\n",
    "    R[1, 5] = sx * hx / beta\n",
    "    R[2, 2] = cy\n",
    "    R[2, 3] = sy\n",
    "    R[3, 2] = -ky2 * sy\n",
    "    R[3, 3] = cy\n",
    "    R[4, 0] = sx * hx / beta\n",
    "    R[4, 1] = dx / beta\n",
    "    R[4, 5] = r56\n",
    "\n",
    "    return R"
   ]
  },
  {
   "cell_type": "code",
   "execution_count": 5,
   "id": "51537578",
   "metadata": {},
   "outputs": [
    {
     "name": "stdout",
     "output_type": "stream",
     "text": [
      "139 μs ± 401 ns per loop (mean ± std. dev. of 7 runs, 10,000 loops each)\n"
     ]
    }
   ],
   "source": [
    "%%timeit\n",
    "_ = base_rmatrix(\n",
    "    length=torch.tensor(1.0),\n",
    "    k1=torch.tensor(4.2),\n",
    "    hx=torch.tensor(0.0),\n",
    "    )"
   ]
  },
  {
   "cell_type": "code",
   "execution_count": 6,
   "id": "91fb48e6",
   "metadata": {},
   "outputs": [],
   "source": [
    "my_length = torch.tensor(1.0)\n",
    "my_k1 = torch.tensor(4.2)\n",
    "my_hx = torch.tensor(0.0)"
   ]
  },
  {
   "cell_type": "code",
   "execution_count": 7,
   "id": "49f28ae6",
   "metadata": {},
   "outputs": [
    {
     "name": "stdout",
     "output_type": "stream",
     "text": [
      "134 μs ± 452 ns per loop (mean ± std. dev. of 7 runs, 10,000 loops each)\n"
     ]
    }
   ],
   "source": [
    "%%timeit\n",
    "_ = base_rmatrix(\n",
    "    length=my_length,\n",
    "    k1=my_k1,\n",
    "    hx=my_hx,\n",
    ")"
   ]
  },
  {
   "cell_type": "code",
   "execution_count": 8,
   "id": "753556ce",
   "metadata": {},
   "outputs": [],
   "source": [
    "def base_rmatrix(\n",
    "    length: float,\n",
    "    k1: float,\n",
    "    hx: float,\n",
    "    tilt: float = 0.0,\n",
    "    energy: float = 0.0,\n",
    "    device: Union[str, torch.device] = \"auto\",\n",
    "):\n",
    "    if device == \"auto\":\n",
    "        device = \"cuda\" if torch.cuda.is_available() else \"cpu\"\n",
    "    gamma = energy / REST_ENERGY_PYTHON\n",
    "    igamma2 = 1 / gamma**2 if gamma != 0 else 0\n",
    "\n",
    "    beta = np.sqrt(1 - igamma2)\n",
    "\n",
    "    kx2 = k1 + hx**2\n",
    "    ky2 = -k1\n",
    "    kx = np.sqrt(kx2 + 0.0j)\n",
    "    ky = np.sqrt(ky2 + 0.0j)\n",
    "    cx = np.cos(kx * length).real\n",
    "    cy = np.cos(ky * length).real\n",
    "    sy = (np.sin(ky * length) / ky).real if ky != 0 else length\n",
    "\n",
    "    if kx != 0:\n",
    "        sx = (np.sin(kx * length) / kx).real\n",
    "        dx = hx / kx2 * (1.0 - cx)\n",
    "        r56 = hx**2 * (length - sx) / kx2 / beta**2\n",
    "    else:\n",
    "        sx = length\n",
    "        dx = length**2 * hx / 2\n",
    "        r56 = hx**2 * length**3 / 6 / beta**2\n",
    "\n",
    "    r56 -= length / beta**2 * igamma2\n",
    "\n",
    "    R = torch.tensor(\n",
    "        [\n",
    "            [cx, sx, 0, 0, 0, dx / beta, 0],\n",
    "            [-kx2 * sx, cx, 0, 0, 0, sx * hx / beta, 0],\n",
    "            [0, 0, cy, sy, 0, 0, 0],\n",
    "            [0, 0, -ky2 * sy, cy, 0, 0, 0],\n",
    "            [sx * hx / beta, dx / beta, 0, 0, 1, r56, 0],\n",
    "            [0, 0, 0, 0, 0, 1, 0],\n",
    "            [0, 0, 0, 0, 0, 0, 1],\n",
    "        ],\n",
    "        dtype=torch.float32,\n",
    "        device=device,\n",
    "    )\n",
    "\n",
    "    return R"
   ]
  },
  {
   "cell_type": "code",
   "execution_count": 9,
   "id": "7aba9412",
   "metadata": {},
   "outputs": [
    {
     "name": "stdout",
     "output_type": "stream",
     "text": [
      "12.6 μs ± 12.4 ns per loop (mean ± std. dev. of 7 runs, 100,000 loops each)\n"
     ]
    }
   ],
   "source": [
    "%%timeit\n",
    "_ = base_rmatrix(\n",
    "    length=1.0,\n",
    "    k1=4.2,\n",
    "    hx=0.0,\n",
    "    tilt=0.0,\n",
    "    energy=0.0)"
   ]
  },
  {
   "cell_type": "code",
   "execution_count": 10,
   "id": "a6574903",
   "metadata": {},
   "outputs": [],
   "source": [
    "def base_rmatrix(\n",
    "    length: torch.Tensor,\n",
    "    k1: torch.Tensor,\n",
    "    hx: torch.Tensor,\n",
    "    species: Species,\n",
    "    tilt: torch.Tensor | None = None,\n",
    "    energy: torch.Tensor | None = None,\n",
    ") -> torch.Tensor:\n",
    "    \"\"\"\n",
    "    Create a first order universal transfer map for a beamline element.\n",
    "\n",
    "    :param length: Length of the element in m.\n",
    "    :param k1: Quadrupole strength in 1/m**2.\n",
    "    :param hx: Curvature (1/radius) of the element in 1/m.\n",
    "    :param species: Particle species of the beam.\n",
    "    :param tilt: Roation of the element relative to the longitudinal axis in rad.\n",
    "    :param energy: Beam energy in eV.\n",
    "    :return: First order transfer map for the element.\n",
    "    \"\"\"\n",
    "    device = length.device\n",
    "    dtype = length.dtype\n",
    "\n",
    "    zero = torch.tensor(0.0, device=device, dtype=dtype)\n",
    "\n",
    "    tilt = tilt if tilt is not None else zero\n",
    "    energy = energy if energy is not None else zero\n",
    "\n",
    "    _, igamma2, beta = compute_relativistic_factors(energy, species.mass_eV)\n",
    "\n",
    "    kx2 = k1 + hx**2\n",
    "    ky2 = -k1\n",
    "    kx = torch.sqrt(torch.complex(kx2, zero))\n",
    "    ky = torch.sqrt(torch.complex(ky2, zero))\n",
    "    cx = torch.cos(kx * length).real\n",
    "    cy = torch.cos(ky * length).real\n",
    "    sx = (torch.sinc(kx * length / torch.pi) * length).real\n",
    "    sy = (torch.sinc(ky * length / torch.pi) * length).real\n",
    "    dx = torch.where(kx2 != 0, hx / kx2 * (1.0 - cx), zero)\n",
    "    r56 = torch.where(kx2 != 0, hx**2 * (length - sx) / kx2 / beta**2, zero)\n",
    "\n",
    "    r56 = r56 - length / beta**2 * igamma2\n",
    "\n",
    "    vector_shape = torch.broadcast_shapes(\n",
    "        length.shape, k1.shape, hx.shape, tilt.shape, energy.shape\n",
    "    )\n",
    "\n",
    "    R = torch.eye(7, dtype=dtype, device=device).repeat(*vector_shape, 1, 1)\n",
    "    R[..., 0, 0] = cx\n",
    "    R[..., 0, 1] = sx\n",
    "    R[..., 0, 5] = dx / beta\n",
    "    R[..., 1, 0] = -kx2 * sx\n",
    "    R[..., 1, 1] = cx\n",
    "    R[..., 1, 5] = sx * hx / beta\n",
    "    R[..., 2, 2] = cy\n",
    "    R[..., 2, 3] = sy\n",
    "    R[..., 3, 2] = -ky2 * sy\n",
    "    R[..., 3, 3] = cy\n",
    "    R[..., 4, 0] = sx * hx / beta\n",
    "    R[..., 4, 1] = dx / beta\n",
    "    R[..., 4, 5] = r56\n",
    "\n",
    "    return R"
   ]
  },
  {
   "cell_type": "code",
   "execution_count": 11,
   "id": "36a6f427",
   "metadata": {},
   "outputs": [],
   "source": [
    "my_length = torch.tensor(1.0)\n",
    "my_k1 = torch.tensor(4.2)\n",
    "my_hx = torch.tensor(0.0)\n",
    "my_species = Species(\"electron\")"
   ]
  },
  {
   "cell_type": "code",
   "execution_count": 12,
   "id": "32cdaaf4",
   "metadata": {},
   "outputs": [
    {
     "name": "stdout",
     "output_type": "stream",
     "text": [
      "228 μs ± 38 μs per loop (mean ± std. dev. of 7 runs, 1 loop each)\n"
     ]
    }
   ],
   "source": [
    "%%timeit\n",
    "_ = base_rmatrix(\n",
    "    length=my_length,\n",
    "    k1=my_k1,\n",
    "    hx=my_hx,\n",
    "    species=my_species\n",
    "    )"
   ]
  },
  {
   "cell_type": "code",
   "execution_count": 13,
   "id": "b7832381",
   "metadata": {},
   "outputs": [
    {
     "name": "stdout",
     "output_type": "stream",
     "text": [
      "Timer unit: 1e-09 s\n",
      "\n",
      "Total time: 0.002546 s\n",
      "File: /var/folders/z8/vzg_1dr50gg1zchydp1styc00000gn/T/ipykernel_84847/33921839.py\n",
      "Function: base_rmatrix at line 1\n",
      "\n",
      "Line #      Hits         Time  Per Hit   % Time  Line Contents\n",
      "==============================================================\n",
      "     1                                           def base_rmatrix(\n",
      "     2                                               length: torch.Tensor,\n",
      "     3                                               k1: torch.Tensor,\n",
      "     4                                               hx: torch.Tensor,\n",
      "     5                                               species: Species,\n",
      "     6                                               tilt: torch.Tensor | None = None,\n",
      "     7                                               energy: torch.Tensor | None = None,\n",
      "     8                                           ) -> torch.Tensor:\n",
      "     9                                               \"\"\"\n",
      "    10                                               Create a first order universal transfer map for a beamline element.\n",
      "    11                                           \n",
      "    12                                               :param length: Length of the element in m.\n",
      "    13                                               :param k1: Quadrupole strength in 1/m**2.\n",
      "    14                                               :param hx: Curvature (1/radius) of the element in 1/m.\n",
      "    15                                               :param species: Particle species of the beam.\n",
      "    16                                               :param tilt: Roation of the element relative to the longitudinal axis in rad.\n",
      "    17                                               :param energy: Beam energy in eV.\n",
      "    18                                               :return: First order transfer map for the element.\n",
      "    19                                               \"\"\"\n",
      "    20         1       4000.0   4000.0      0.2      device = length.device\n",
      "    21         1       2000.0   2000.0      0.1      dtype = length.dtype\n",
      "    22                                           \n",
      "    23         1      29000.0  29000.0      1.1      zero = torch.tensor(0.0, device=device, dtype=dtype)\n",
      "    24                                           \n",
      "    25         1       1000.0   1000.0      0.0      tilt = tilt if tilt is not None else zero\n",
      "    26         1       1000.0   1000.0      0.0      energy = energy if energy is not None else zero\n",
      "    27                                           \n",
      "    28         1     330000.0 330000.0     13.0      _, igamma2, beta = compute_relativistic_factors(energy, species.mass_eV)\n",
      "    29                                           \n",
      "    30         1      40000.0  40000.0      1.6      kx2 = k1 + hx**2\n",
      "    31         1     287000.0 287000.0     11.3      ky2 = -k1\n",
      "    32         1     665000.0 665000.0     26.1      kx = torch.sqrt(torch.complex(kx2, zero))\n",
      "    33         1      15000.0  15000.0      0.6      ky = torch.sqrt(torch.complex(ky2, zero))\n",
      "    34         1     163000.0 163000.0      6.4      cx = torch.cos(kx * length).real\n",
      "    35         1     638000.0 638000.0     25.1      cy = torch.cos(ky * length).real\n",
      "    36         1      37000.0  37000.0      1.5      sx = (torch.sinc(kx * length / torch.pi) * length).real\n",
      "    37         1      18000.0  18000.0      0.7      sy = (torch.sinc(ky * length / torch.pi) * length).real\n",
      "    38         1      82000.0  82000.0      3.2      dx = torch.where(kx2 != 0, hx / kx2 * (1.0 - cx), zero)\n",
      "    39         1      35000.0  35000.0      1.4      r56 = torch.where(kx2 != 0, hx**2 * (length - sx) / kx2 / beta**2, zero)\n",
      "    40                                           \n",
      "    41         1       9000.0   9000.0      0.4      r56 = r56 - length / beta**2 * igamma2\n",
      "    42                                           \n",
      "    43         2      57000.0  28500.0      2.2      vector_shape = torch.broadcast_shapes(\n",
      "    44         1       3000.0   3000.0      0.1          length.shape, k1.shape, hx.shape, tilt.shape, energy.shape\n",
      "    45                                               )\n",
      "    46                                           \n",
      "    47         1      36000.0  36000.0      1.4      R = torch.eye(7, dtype=dtype, device=device).repeat(*vector_shape, 1, 1)\n",
      "    48         1      17000.0  17000.0      0.7      R[..., 0, 0] = cx\n",
      "    49         1       5000.0   5000.0      0.2      R[..., 0, 1] = sx\n",
      "    50         1       7000.0   7000.0      0.3      R[..., 0, 5] = dx / beta\n",
      "    51         1       9000.0   9000.0      0.4      R[..., 1, 0] = -kx2 * sx\n",
      "    52         1       4000.0   4000.0      0.2      R[..., 1, 1] = cx\n",
      "    53         1      11000.0  11000.0      0.4      R[..., 1, 5] = sx * hx / beta\n",
      "    54         1       5000.0   5000.0      0.2      R[..., 2, 2] = cy\n",
      "    55         1       4000.0   4000.0      0.2      R[..., 2, 3] = sy\n",
      "    56         1      11000.0  11000.0      0.4      R[..., 3, 2] = -ky2 * sy\n",
      "    57         1       4000.0   4000.0      0.2      R[..., 3, 3] = cy\n",
      "    58         1       8000.0   8000.0      0.3      R[..., 4, 0] = sx * hx / beta\n",
      "    59         1       6000.0   6000.0      0.2      R[..., 4, 1] = dx / beta\n",
      "    60         1       3000.0   3000.0      0.1      R[..., 4, 5] = r56\n",
      "    61                                           \n",
      "    62         1          0.0      0.0      0.0      return R"
     ]
    }
   ],
   "source": [
    "%lprun -f base_rmatrix base_rmatrix(length=my_length, k1=my_k1, hx=my_hx, species=my_species)"
   ]
  },
  {
   "cell_type": "code",
   "execution_count": 14,
   "id": "3158568a",
   "metadata": {},
   "outputs": [],
   "source": [
    "# %%pyinstrument --interval=0.0000001\n",
    "# _ = base_rmatrix(\n",
    "#     length=my_length,\n",
    "#     k1=my_k1,\n",
    "#     hx=my_hx,\n",
    "#     species=my_species\n",
    "# )"
   ]
  },
  {
   "cell_type": "code",
   "execution_count": 15,
   "id": "daaa03fd",
   "metadata": {},
   "outputs": [],
   "source": [
    "energy = torch.tensor(1e9)  # 1 GeV\n",
    "species = Species(\"electron\")"
   ]
  },
  {
   "cell_type": "code",
   "execution_count": 19,
   "id": "b9547a54",
   "metadata": {},
   "outputs": [],
   "source": [
    "_, _, _ = compute_relativistic_factors(energy, species.mass_eV)"
   ]
  },
  {
   "cell_type": "code",
   "execution_count": 22,
   "id": "10e80796",
   "metadata": {},
   "outputs": [
    {
     "name": "stdout",
     "output_type": "stream",
     "text": [
      "21.3 μs ± 380 ns per loop (mean ± std. dev. of 7 runs, 10,000 loops each)\n"
     ]
    }
   ],
   "source": [
    "%%timeit\n",
    "_, _, _ = compute_relativistic_factors(energy, species.mass_eV)"
   ]
  },
  {
   "cell_type": "code",
   "execution_count": 30,
   "id": "95ba329f",
   "metadata": {},
   "outputs": [],
   "source": [
    "# %lprun -f compute_relativistic_factors compute_relativistic_factors(energy, species.mass_eV)"
   ]
  },
  {
   "cell_type": "code",
   "execution_count": 18,
   "id": "8f6bc891",
   "metadata": {},
   "outputs": [],
   "source": [
    "def base_rmatrix(\n",
    "    length: torch.Tensor,\n",
    "    k1: torch.Tensor,\n",
    "    hx: torch.Tensor,\n",
    "    species: Species,\n",
    "    tilt: torch.Tensor | None = None,\n",
    "    energy: torch.Tensor | None = None,\n",
    ") -> torch.Tensor:\n",
    "    \"\"\"\n",
    "    Create a first order universal transfer map for a beamline element.\n",
    "\n",
    "    :param length: Length of the element in m.\n",
    "    :param k1: Quadrupole strength in 1/m**2.\n",
    "    :param hx: Curvature (1/radius) of the element in 1/m.\n",
    "    :param species: Particle species of the beam.\n",
    "    :param tilt: Roation of the element relative to the longitudinal axis in rad.\n",
    "    :param energy: Beam energy in eV.\n",
    "    :return: First order transfer map for the element.\n",
    "    \"\"\"\n",
    "    device = length.device\n",
    "    dtype = length.dtype\n",
    "\n",
    "    zero = torch.tensor(0.0, device=device, dtype=dtype)\n",
    "\n",
    "    tilt = tilt if tilt is not None else zero\n",
    "    energy = energy if energy is not None else zero\n",
    "\n",
    "    _, igamma2, beta = compute_relativistic_factors(energy, species.mass_eV)\n",
    "\n",
    "    kx2 = k1 + hx**2\n",
    "    ky2 = -k1\n",
    "    kx = torch.sqrt(torch.complex(kx2, zero))\n",
    "    ky = torch.sqrt(torch.complex(ky2, zero))\n",
    "    cx = torch.cos(kx * length).real\n",
    "    cy = torch.cos(ky * length).real\n",
    "    sx = (torch.sinc(kx * length / torch.pi) * length).real\n",
    "    sy = (torch.sinc(ky * length / torch.pi) * length).real\n",
    "    dx = torch.where(kx2 != 0, hx / kx2 * (1.0 - cx), zero)\n",
    "    r56 = torch.where(kx2 != 0, hx**2 * (length - sx) / kx2 / beta**2, zero)\n",
    "\n",
    "    r56 = r56 - length / beta**2 * igamma2\n",
    "    cx, sx, dx, cy, sy, r56 = torch.broadcast_tensors(cx, sx, dx, cy, sy, r56)\n",
    "\n",
    "    R = torch.eye(7, dtype=dtype, device=device).repeat(*cx.shape, 1, 1)\n",
    "    R[\n",
    "        ...,\n",
    "        (0, 0, 0, 1, 1, 1, 2, 2, 3, 3, 4, 4, 4),\n",
    "        (0, 1, 5, 0, 1, 5, 2, 3, 2, 3, 0, 1, 5),\n",
    "    ] = torch.stack(\n",
    "        [\n",
    "            cx,\n",
    "            sx,\n",
    "            dx / beta,\n",
    "            -kx2 * sx,\n",
    "            cx,\n",
    "            sx * hx / beta,\n",
    "            cy,\n",
    "            sy,\n",
    "            -ky2 * sy,\n",
    "            cy,\n",
    "            sx * hx / beta,\n",
    "            dx / beta,\n",
    "            r56,\n",
    "        ],\n",
    "        dim=-1,\n",
    "    )\n",
    "\n",
    "    return R"
   ]
  },
  {
   "cell_type": "code",
   "execution_count": 19,
   "id": "2b8b511c",
   "metadata": {},
   "outputs": [],
   "source": [
    "my_length = torch.tensor(1.0)\n",
    "my_k1 = torch.tensor(4.2)\n",
    "my_hx = torch.tensor(0.0)\n",
    "my_species = Species(\"electron\")"
   ]
  },
  {
   "cell_type": "code",
   "execution_count": 20,
   "id": "61954304",
   "metadata": {},
   "outputs": [
    {
     "name": "stdout",
     "output_type": "stream",
     "text": [
      "187 μs ± 8.09 μs per loop (mean ± std. dev. of 7 runs, 1,000 loops each)\n"
     ]
    }
   ],
   "source": [
    "%%timeit\n",
    "_ = base_rmatrix(\n",
    "    length=my_length,\n",
    "    k1=my_k1,\n",
    "    hx=my_hx,\n",
    "    species=my_species,\n",
    ")"
   ]
  },
  {
   "cell_type": "code",
   "execution_count": 21,
   "id": "79129293",
   "metadata": {},
   "outputs": [],
   "source": [
    "cx = 1.0\n",
    "cy = 2.0\n",
    "sx = 3.0\n",
    "sy = 4.0\n",
    "dx = 5.0\n",
    "dy = 6.0\n",
    "beta = 7.0\n",
    "kx2 = 8.0\n",
    "ky2 = 9.0\n",
    "hx = 7.0\n",
    "hy = 8.0\n",
    "r56 = 9.0"
   ]
  },
  {
   "cell_type": "code",
   "execution_count": 22,
   "id": "d13df8c7",
   "metadata": {},
   "outputs": [
    {
     "name": "stdout",
     "output_type": "stream",
     "text": [
      "12.3 μs ± 775 ns per loop (mean ± std. dev. of 7 runs, 100,000 loops each)\n"
     ]
    }
   ],
   "source": [
    "%%timeit\n",
    "R = torch.tensor(\n",
    "        [\n",
    "            [cx, sx, 0, 0, 0, dx / beta, 0],\n",
    "            [-kx2 * sx, cx, 0, 0, 0, sx * hx / beta, 0],\n",
    "            [0, 0, cy, sy, 0, 0, 0],\n",
    "            [0, 0, -ky2 * sy, cy, 0, 0, 0],\n",
    "            [sx * hx / beta, dx / beta, 0, 0, 1, r56, 0],\n",
    "            [0, 0, 0, 0, 0, 1, 0],\n",
    "            [0, 0, 0, 0, 0, 0, 1],\n",
    "        ]\n",
    "    )"
   ]
  },
  {
   "cell_type": "code",
   "execution_count": 23,
   "id": "d562dcf7",
   "metadata": {},
   "outputs": [],
   "source": [
    "cx = torch.tensor(1.0)\n",
    "cy = torch.tensor(2.0)\n",
    "sx = torch.tensor(3.0)\n",
    "sy = torch.tensor(4.0)\n",
    "dx = torch.tensor(5.0)\n",
    "dy = torch.tensor(6.0)\n",
    "beta = torch.tensor(7.0)\n",
    "kx2 = torch.tensor(8.0)\n",
    "ky2 = torch.tensor(9.0)\n",
    "hx = torch.tensor(7.0)\n",
    "hy = torch.tensor(8.0)\n",
    "r56 = torch.tensor(9.0)"
   ]
  },
  {
   "cell_type": "code",
   "execution_count": 24,
   "id": "6ba3b285",
   "metadata": {},
   "outputs": [
    {
     "name": "stdout",
     "output_type": "stream",
     "text": [
      "54.6 μs ± 8.14 μs per loop (mean ± std. dev. of 7 runs, 10,000 loops each)\n"
     ]
    }
   ],
   "source": [
    "%%timeit\n",
    "R = torch.eye(7)\n",
    "R[0, 0] = cx\n",
    "R[0, 1] = sx\n",
    "R[0, 5] = dx / beta\n",
    "R[1, 0] = -kx2 * sx\n",
    "R[1, 1] = cx\n",
    "R[1, 5] = sx * hx / beta\n",
    "R[2, 2] = cy\n",
    "R[2, 3] = sy\n",
    "R[3, 2] = -ky2 * sy\n",
    "R[3, 3] = cy\n",
    "R[4, 0] = sx * hx / beta\n",
    "R[4, 1] = dx / beta\n",
    "R[4, 5] = r56"
   ]
  },
  {
   "cell_type": "code",
   "execution_count": 25,
   "id": "e4107e3f",
   "metadata": {},
   "outputs": [],
   "source": [
    "length = my_length\n",
    "k1 = my_k1\n",
    "hx = my_hx\n",
    "species = my_species\n",
    "another_tilt = None\n",
    "another_energy = None"
   ]
  },
  {
   "cell_type": "code",
   "execution_count": 26,
   "id": "4c862d33",
   "metadata": {},
   "outputs": [
    {
     "name": "stdout",
     "output_type": "stream",
     "text": [
      "117 μs ± 18.7 μs per loop (mean ± std. dev. of 7 runs, 10,000 loops each)\n"
     ]
    }
   ],
   "source": [
    "%%timeit\n",
    "zero = torch.tensor(0.0)\n",
    "\n",
    "tilt = another_tilt if another_tilt is not None else zero\n",
    "energy = another_energy if another_energy is not None else zero\n",
    "\n",
    "_, igamma2, beta = compute_relativistic_factors(energy, species.mass_eV)\n",
    "\n",
    "kx2 = k1 + hx**2\n",
    "ky2 = -k1\n",
    "kx = torch.sqrt(torch.complex(kx2, zero))\n",
    "ky = torch.sqrt(torch.complex(ky2, zero))\n",
    "cx = torch.cos(kx * length).real\n",
    "cy = torch.cos(ky * length).real\n",
    "sx = (torch.sinc(kx * length / torch.pi) * length).real\n",
    "sy = (torch.sinc(ky * length / torch.pi) * length).real\n",
    "dx = torch.where(kx2 != 0, hx / kx2 * (1.0 - cx), zero)\n",
    "r56 = torch.where(kx2 != 0, hx**2 * (length - sx) / kx2 / beta**2, zero)\n",
    "\n",
    "r56 = r56 - length / beta**2 * igamma2\n",
    "\n",
    "vector_shape = torch.broadcast_shapes(\n",
    "    length.shape, k1.shape, hx.shape, tilt.shape, energy.shape\n",
    ")"
   ]
  },
  {
   "cell_type": "code",
   "execution_count": 27,
   "id": "6fe2a522",
   "metadata": {},
   "outputs": [],
   "source": [
    "vector_shape = torch.broadcast_shapes(\n",
    "    cx.shape,\n",
    "    cy.shape,\n",
    "    sx.shape,\n",
    "    sy.shape,\n",
    "    dx.shape,\n",
    "    dy.shape,\n",
    "    beta.shape,\n",
    "    kx2.shape,\n",
    "    ky2.shape,\n",
    "    hx.shape,\n",
    "    hy.shape,\n",
    "    r56.shape,\n",
    ")"
   ]
  },
  {
   "cell_type": "code",
   "execution_count": 31,
   "id": "27c6bcf8",
   "metadata": {},
   "outputs": [
    {
     "name": "stdout",
     "output_type": "stream",
     "text": [
      "51.8 μs ± 94.7 ns per loop (mean ± std. dev. of 7 runs, 10,000 loops each)\n"
     ]
    }
   ],
   "source": [
    "%%timeit\n",
    "R = torch.eye(7).repeat(*vector_shape, 1, 1)\n",
    "R[..., 0, 0] = cx\n",
    "R[..., 0, 1] = sx\n",
    "R[..., 0, 5] = dx / beta\n",
    "R[..., 1, 0] = -kx2 * sx\n",
    "R[..., 1, 1] = cx\n",
    "R[..., 1, 5] = sx * hx / beta\n",
    "R[..., 2, 2] = cy\n",
    "R[..., 2, 3] = sy\n",
    "R[..., 3, 2] = -ky2 * sy\n",
    "R[..., 3, 3] = cy\n",
    "R[..., 4, 0] = sx * hx / beta\n",
    "R[..., 4, 1] = dx / beta\n",
    "R[..., 4, 5] = r56"
   ]
  },
  {
   "cell_type": "code",
   "execution_count": 24,
   "id": "19add1c6",
   "metadata": {},
   "outputs": [
    {
     "name": "stdout",
     "output_type": "stream",
     "text": [
      "44 μs ± 232 ns per loop (mean ± std. dev. of 7 runs, 10,000 loops each)\n"
     ]
    }
   ],
   "source": [
    "%%timeit\n",
    "# make reusable 0/1 tensors on the right device/dtype, keeping graph intact\n",
    "z = torch.zeros_like(cx)\n",
    "o = torch.ones_like(cx)\n",
    "\n",
    "row0 = torch.stack([cx, sx, z, z, z, dx / beta, z])\n",
    "row1 = torch.stack([-kx2 * sx, cx, z, z, z, sx * hx / beta, z])\n",
    "row2 = torch.stack([z, z, cy, sy, z, z, z])\n",
    "row3 = torch.stack([z, z, -ky2 * sy, cy, z, z, z])\n",
    "row4 = torch.stack([sx * hx / beta, dx / beta, z, z, o, r56, z])\n",
    "row5 = torch.stack([z, z, z, z, z, o, z])\n",
    "row6 = torch.stack([z, z, z, z, z, z, o])\n",
    "\n",
    "R = torch.stack([row0, row1, row2, row3, row4, row5, row6])"
   ]
  },
  {
   "cell_type": "code",
   "execution_count": 25,
   "id": "9430b0a3",
   "metadata": {},
   "outputs": [
    {
     "name": "stdout",
     "output_type": "stream",
     "text": [
      "35.4 μs ± 6.31 μs per loop (mean ± std. dev. of 7 runs, 10,000 loops each)\n"
     ]
    }
   ],
   "source": [
    "%%timeit\n",
    "R = torch.eye(7)\n",
    "rows = torch.tensor([0,0,0,1,1,1,2,2,3,3,4,4,4])\n",
    "cols = torch.tensor([0,1,5,0,1,5,2,3,2,3,0,1,5])\n",
    "vals = torch.stack([\n",
    "    cx, sx, dx/beta,\n",
    "    -kx2*sx, cx, sx*hx/beta,\n",
    "    cy, sy,\n",
    "    -ky2*sy, cy,\n",
    "    sx*hx/beta, dx/beta, r56\n",
    "])\n",
    "R.index_put_((rows, cols), vals, accumulate=False)  # single kernel, autograd-safe"
   ]
  },
  {
   "cell_type": "code",
   "execution_count": 38,
   "id": "b625f9b6",
   "metadata": {},
   "outputs": [
    {
     "name": "stdout",
     "output_type": "stream",
     "text": [
      "32.5 μs ± 157 ns per loop (mean ± std. dev. of 7 runs, 10,000 loops each)\n"
     ]
    }
   ],
   "source": [
    "%%timeit\n",
    "R = torch.eye(7).repeat(*vector_shape, 1, 1)\n",
    "rows = [0,0,0,1,1,1,2,2,3,3,4,4,4]\n",
    "cols = [0,1,5,0,1,5,2,3,2,3,0,1,5]\n",
    "vals = torch.stack([\n",
    "    cx, sx, dx/beta,\n",
    "    -kx2*sx, cx, sx*hx/beta,\n",
    "    cy, sy,\n",
    "    -ky2*sy, cy,\n",
    "    sx*hx/beta, dx/beta, r56\n",
    "])\n",
    "R[rows, cols] = vals  # single kernel, autograd-safe\n"
   ]
  },
  {
   "cell_type": "code",
   "execution_count": 27,
   "id": "9c3d2d45",
   "metadata": {},
   "outputs": [],
   "source": [
    "# Build once (e.g., module __init__)\n",
    "def make_basis(dtype, device):\n",
    "    B = torch.zeros(10, 7, 7, dtype=dtype, device=device)\n",
    "    # 0: cx -> (0,0), (1,1)\n",
    "    B[0, 0, 0] = 1\n",
    "    B[0, 1, 1] = 1\n",
    "    # 1: sx -> (0,1)\n",
    "    B[1, 0, 1] = 1\n",
    "    # 2: -kx2*sx -> (1,0)\n",
    "    B[2, 1, 0] = 1\n",
    "    # 3: cy -> (2,2), (3,3)\n",
    "    B[3, 2, 2] = 1\n",
    "    B[3, 3, 3] = 1\n",
    "    # 4: sy -> (2,3)\n",
    "    B[4, 2, 3] = 1\n",
    "    # 5: -ky2*sy -> (3,2)\n",
    "    B[5, 3, 2] = 1\n",
    "    # 6: dx/beta -> (0,5), (4,1)\n",
    "    B[6, 0, 5] = 1\n",
    "    B[6, 4, 1] = 1\n",
    "    # 7: sx*hx/beta -> (1,5), (4,0)\n",
    "    B[7, 1, 5] = 1\n",
    "    B[7, 4, 0] = 1\n",
    "    # 8: r56 -> (4,5)\n",
    "    B[8, 4, 5] = 1\n",
    "    # 9: constant ones -> (4,4), (5,5), (6,6)\n",
    "    B[9, 4, 4] = 1\n",
    "    B[9, 5, 5] = 1\n",
    "    B[9, 6, 6] = 1\n",
    "    return B\n",
    "\n",
    "\n",
    "# call-time (autograd-safe, single fused op)\n",
    "def build_R(cx, sx, dx, beta, kx2, cy, sy, ky2, hx, r56, B):\n",
    "    one = cx.new_ones(())\n",
    "    s = torch.stack(\n",
    "        [\n",
    "            cx,  # 0\n",
    "            sx,  # 1\n",
    "            -kx2 * sx,  # 2\n",
    "            cy,  # 3\n",
    "            sy,  # 4\n",
    "            -ky2 * sy,  # 5\n",
    "            dx / beta,  # 6\n",
    "            sx * hx / beta,  # 7\n",
    "            r56,  # 8\n",
    "            one,  # 9 (constant)\n",
    "        ]\n",
    "    )\n",
    "    # single kernel does the whole linear combo\n",
    "    R = torch.tensordot(s, B, dims=([0], [0]))  # shape [7, 7]\n",
    "    return R"
   ]
  },
  {
   "cell_type": "code",
   "execution_count": 28,
   "id": "d42059dd",
   "metadata": {},
   "outputs": [],
   "source": [
    "B = make_basis(dtype=cx.dtype, device=cx.device)\n",
    "one = cx.new_ones(())"
   ]
  },
  {
   "cell_type": "code",
   "execution_count": 29,
   "id": "80797452",
   "metadata": {},
   "outputs": [
    {
     "name": "stdout",
     "output_type": "stream",
     "text": [
      "21.8 μs ± 668 ns per loop (mean ± std. dev. of 7 runs, 10,000 loops each)\n"
     ]
    }
   ],
   "source": [
    "%%timeit\n",
    "s = torch.stack(\n",
    "    [\n",
    "        cx,  # 0\n",
    "        sx,  # 1\n",
    "        -kx2 * sx,  # 2\n",
    "        cy,  # 3\n",
    "        sy,  # 4\n",
    "        -ky2 * sy,  # 5\n",
    "        dx / beta,  # 6\n",
    "        sx * hx / beta,  # 7\n",
    "        r56,  # 8\n",
    "        one,  # 9 (constant)\n",
    "    ]\n",
    ")\n",
    "# single kernel does the whole linear combo\n",
    "R = torch.tensordot(s, B, dims=([0], [0]))  # shape [7, 7]"
   ]
  },
  {
   "cell_type": "code",
   "execution_count": 30,
   "id": "f4ba0284",
   "metadata": {},
   "outputs": [],
   "source": [
    "class MyNormalClass:\n",
    "    def __init__(self, value: torch.Tensor):\n",
    "        self.value = value\n",
    "\n",
    "\n",
    "class MyModuleClass(torch.nn.Module):\n",
    "    def __init__(self, value: torch.Tensor):\n",
    "        super().__init__()\n",
    "        self.value = value"
   ]
  },
  {
   "cell_type": "code",
   "execution_count": 31,
   "id": "f07733c2",
   "metadata": {},
   "outputs": [
    {
     "name": "stdout",
     "output_type": "stream",
     "text": [
      "1.87 μs ± 3.56 ns per loop (mean ± std. dev. of 7 runs, 1,000,000 loops each)\n"
     ]
    }
   ],
   "source": [
    "%%timeit\n",
    "obj = MyNormalClass(value=torch.tensor(1.0))"
   ]
  },
  {
   "cell_type": "code",
   "execution_count": 32,
   "id": "6daf1d29",
   "metadata": {},
   "outputs": [
    {
     "name": "stdout",
     "output_type": "stream",
     "text": [
      "6.81 μs ± 20.5 ns per loop (mean ± std. dev. of 7 runs, 100,000 loops each)\n"
     ]
    }
   ],
   "source": [
    "%%timeit\n",
    "obj = MyModuleClass(value=torch.tensor(1.0))"
   ]
  },
  {
   "cell_type": "code",
   "execution_count": 33,
   "id": "b8134a08",
   "metadata": {},
   "outputs": [],
   "source": [
    "gamma = torch.tensor(1.0)"
   ]
  },
  {
   "cell_type": "code",
   "execution_count": 34,
   "id": "89581b45",
   "metadata": {},
   "outputs": [
    {
     "name": "stdout",
     "output_type": "stream",
     "text": [
      "5.32 μs ± 18.4 ns per loop (mean ± std. dev. of 7 runs, 100,000 loops each)\n"
     ]
    }
   ],
   "source": [
    "%%timeit\n",
    "igamma2 = 1 / gamma**2"
   ]
  },
  {
   "cell_type": "code",
   "execution_count": 35,
   "id": "79750772",
   "metadata": {},
   "outputs": [
    {
     "name": "stdout",
     "output_type": "stream",
     "text": [
      "10.6 μs ± 26.1 ns per loop (mean ± std. dev. of 7 runs, 100,000 loops each)\n"
     ]
    }
   ],
   "source": [
    "%%timeit\n",
    "igamma2 = torch.where(gamma == 0.0, 0.0, 1 / gamma**2)"
   ]
  },
  {
   "cell_type": "code",
   "execution_count": 55,
   "id": "45b850e1",
   "metadata": {},
   "outputs": [],
   "source": [
    "k1_py = 4.2\n",
    "hx_py = 1e-6\n",
    "\n",
    "k1_th = torch.tensor(k1_py)\n",
    "hx_th = torch.tensor(hx_py)\n",
    "\n",
    "k1_np = np.array(k1_py)\n",
    "hx_np = np.array(hx_py)\n",
    "\n",
    "k1_jx = jnp.array(k1_py)\n",
    "hx_jx = jnp.array(hx_py)"
   ]
  },
  {
   "cell_type": "code",
   "execution_count": 65,
   "id": "892d70b0",
   "metadata": {},
   "outputs": [],
   "source": [
    "def py_fun(k1, hx):\n",
    "    kx2 = k1 + hx**2\n",
    "    return kx2\n",
    "\n",
    "\n",
    "def th_fun(k1, hx):\n",
    "    kx2 = k1 + hx**2\n",
    "    return kx2\n",
    "\n",
    "\n",
    "@torch.compile\n",
    "def compiled_th_fun(k1, hx):\n",
    "    kx2 = k1 + hx**2\n",
    "    return kx2\n",
    "\n",
    "\n",
    "def np_fun(k1, hx):\n",
    "    kx2 = k1 + hx**2\n",
    "    return kx2\n",
    "\n",
    "\n",
    "def jx_fun(k1, hx):\n",
    "    kx2 = k1 + hx**2\n",
    "    return kx2\n",
    "\n",
    "\n",
    "@jax.jit\n",
    "def compiled_jx_fun(k1, hx):\n",
    "    kx2 = k1 + hx**2\n",
    "    return kx2"
   ]
  },
  {
   "cell_type": "code",
   "execution_count": 67,
   "id": "829eddab",
   "metadata": {},
   "outputs": [
    {
     "name": "stdout",
     "output_type": "stream",
     "text": [
      "101 ns ± 0.135 ns per loop (mean ± std. dev. of 7 runs, 10,000,000 loops each)\n"
     ]
    }
   ],
   "source": [
    "%%timeit\n",
    "_ = py_fun(k1_py, hx_py)"
   ]
  },
  {
   "cell_type": "code",
   "execution_count": 73,
   "id": "121c71b1",
   "metadata": {},
   "outputs": [
    {
     "name": "stdout",
     "output_type": "stream",
     "text": [
      "2.63 μs ± 32.2 ns per loop (mean ± std. dev. of 7 runs, 100,000 loops each)\n"
     ]
    }
   ],
   "source": [
    "%%timeit\n",
    "_ = th_fun(k1_th, hx_th)"
   ]
  },
  {
   "cell_type": "code",
   "execution_count": 76,
   "id": "33150744",
   "metadata": {},
   "outputs": [
    {
     "name": "stdout",
     "output_type": "stream",
     "text": [
      "14 μs ± 105 ns per loop (mean ± std. dev. of 7 runs, 100,000 loops each)\n"
     ]
    }
   ],
   "source": [
    "%%timeit\n",
    "_ = compiled_th_fun(k1_th, hx_th)"
   ]
  },
  {
   "cell_type": "code",
   "execution_count": 80,
   "id": "f466c699",
   "metadata": {},
   "outputs": [
    {
     "name": "stdout",
     "output_type": "stream",
     "text": [
      "967 ns ± 123 ns per loop (mean ± std. dev. of 7 runs, 1,000,000 loops each)\n"
     ]
    }
   ],
   "source": [
    "%%timeit\n",
    "_ = np_fun(k1_np, hx_np)"
   ]
  },
  {
   "cell_type": "code",
   "execution_count": 82,
   "id": "63d5db6f",
   "metadata": {},
   "outputs": [
    {
     "name": "stdout",
     "output_type": "stream",
     "text": [
      "35.1 μs ± 240 ns per loop (mean ± std. dev. of 7 runs, 10,000 loops each)\n"
     ]
    }
   ],
   "source": [
    "%%timeit\n",
    "_ = jx_fun(k1_jx, hx_jx)"
   ]
  },
  {
   "cell_type": "code",
   "execution_count": 85,
   "id": "05042aff",
   "metadata": {},
   "outputs": [
    {
     "name": "stdout",
     "output_type": "stream",
     "text": [
      "4.94 μs ± 43.1 ns per loop (mean ± std. dev. of 7 runs, 100,000 loops each)\n"
     ]
    }
   ],
   "source": [
    "%%timeit\n",
    "_ = compiled_jx_fun(k1_jx, hx_jx)"
   ]
  },
  {
   "cell_type": "code",
   "execution_count": 56,
   "id": "d3cf3f40",
   "metadata": {},
   "outputs": [
    {
     "name": "stdout",
     "output_type": "stream",
     "text": [
      "63.5 ns ± 0.0816 ns per loop (mean ± std. dev. of 7 runs, 10,000,000 loops each)\n"
     ]
    }
   ],
   "source": [
    "%%timeit\n",
    "kx2_py = k1_py + hx_py**2"
   ]
  },
  {
   "cell_type": "code",
   "execution_count": 57,
   "id": "66cd1b05",
   "metadata": {},
   "outputs": [
    {
     "name": "stdout",
     "output_type": "stream",
     "text": [
      "2.57 μs ± 33 ns per loop (mean ± std. dev. of 7 runs, 100,000 loops each)\n"
     ]
    }
   ],
   "source": [
    "%%timeit\n",
    "kx2_th = k1_th + hx_th**2"
   ]
  },
  {
   "cell_type": "code",
   "execution_count": 58,
   "id": "d2c2527c",
   "metadata": {},
   "outputs": [
    {
     "name": "stdout",
     "output_type": "stream",
     "text": [
      "777 ns ± 7.05 ns per loop (mean ± std. dev. of 7 runs, 1,000,000 loops each)\n"
     ]
    }
   ],
   "source": [
    "%%timeit\n",
    "kx2_np = k1_np + hx_np**2"
   ]
  },
  {
   "cell_type": "code",
   "execution_count": 62,
   "id": "69ef8222",
   "metadata": {},
   "outputs": [
    {
     "name": "stdout",
     "output_type": "stream",
     "text": [
      "34 μs ± 381 ns per loop (mean ± std. dev. of 7 runs, 10,000 loops each)\n"
     ]
    }
   ],
   "source": [
    "%%timeit\n",
    "kx2_jx = k1_jx + hx_jx**2"
   ]
  },
  {
   "cell_type": "code",
   "execution_count": 2,
   "id": "a5fac884",
   "metadata": {},
   "outputs": [],
   "source": [
    "def gelu(x):\n",
    "    return x * 0.5 * (1.0 + torch.erf(x / 1.41421))\n",
    "\n",
    "\n",
    "@torch.compile\n",
    "def gelu_comp(x):\n",
    "    return x * 0.5 * (1.0 + torch.erf(x / 1.41421))"
   ]
  },
  {
   "cell_type": "code",
   "execution_count": 3,
   "id": "e3653a82",
   "metadata": {},
   "outputs": [],
   "source": [
    "x1 = torch.tensor(1.0)\n",
    "x2 = torch.randn(100, 100)\n",
    "\n",
    "_ = gelu(x1)\n",
    "# _ = gelu(x2)\n",
    "# _ = gelu_comp(x1)\n",
    "_ = gelu_comp(x2)"
   ]
  },
  {
   "cell_type": "code",
   "execution_count": 4,
   "id": "9d7d64c6",
   "metadata": {},
   "outputs": [],
   "source": [
    "_ = gelu_comp(x1)"
   ]
  },
  {
   "cell_type": "code",
   "execution_count": 8,
   "id": "f770b3e3",
   "metadata": {},
   "outputs": [
    {
     "name": "stdout",
     "output_type": "stream",
     "text": [
      "8.04 μs ± 70 ns per loop (mean ± std. dev. of 7 runs, 100,000 loops each)\n"
     ]
    }
   ],
   "source": [
    "%%timeit\n",
    "_ = gelu(x1)"
   ]
  },
  {
   "cell_type": "code",
   "execution_count": 9,
   "id": "c3a83527",
   "metadata": {},
   "outputs": [
    {
     "name": "stdout",
     "output_type": "stream",
     "text": [
      "7.96 μs ± 182 ns per loop (mean ± std. dev. of 7 runs, 100,000 loops each)\n"
     ]
    }
   ],
   "source": [
    "%%timeit\n",
    "_ = gelu_comp(x1)"
   ]
  },
  {
   "cell_type": "code",
   "execution_count": 12,
   "id": "1689a73c",
   "metadata": {},
   "outputs": [
    {
     "name": "stdout",
     "output_type": "stream",
     "text": [
      "64.8 μs ± 241 ns per loop (mean ± std. dev. of 7 runs, 10,000 loops each)\n"
     ]
    }
   ],
   "source": [
    "%%timeit\n",
    "_ = gelu(x2)"
   ]
  },
  {
   "cell_type": "code",
   "execution_count": 13,
   "id": "86661502",
   "metadata": {},
   "outputs": [
    {
     "name": "stdout",
     "output_type": "stream",
     "text": [
      "30.5 μs ± 77.3 ns per loop (mean ± std. dev. of 7 runs, 10,000 loops each)\n"
     ]
    }
   ],
   "source": [
    "%%timeit\n",
    "_ = gelu_comp(x2)"
   ]
  },
  {
   "cell_type": "code",
   "execution_count": 2,
   "id": "ca1fb8e6",
   "metadata": {},
   "outputs": [],
   "source": [
    "@torch.compile\n",
    "def compute_relativistic_beta(\n",
    "    energy: torch.Tensor, particle_mass_eV: torch.Tensor\n",
    ") -> torch.Tensor:\n",
    "    return torch.sqrt(1 - (particle_mass_eV / energy) ** 2)\n",
    "\n",
    "\n",
    "@torch.compile\n",
    "def compute_relativistic_igamma2(\n",
    "    energy: torch.Tensor, particle_mass_eV: torch.Tensor\n",
    ") -> torch.Tensor:\n",
    "    return (particle_mass_eV / energy) ** 2\n",
    "\n",
    "\n",
    "@torch.compile\n",
    "def compute_relativistic_gamma(\n",
    "    energy: torch.Tensor, particle_mass_eV: torch.Tensor\n",
    ") -> torch.Tensor:\n",
    "    return energy / particle_mass_eV\n",
    "\n",
    "\n",
    "@torch.compile\n",
    "def compute_relativistic_beta_comp(\n",
    "    energy: torch.Tensor, particle_mass_eV: torch.Tensor\n",
    ") -> torch.Tensor:\n",
    "    return torch.sqrt(1 - (particle_mass_eV / energy) ** 2)\n",
    "\n",
    "\n",
    "@torch.compile\n",
    "def compute_relativistic_igamma2_comp(\n",
    "    energy: torch.Tensor, particle_mass_eV: torch.Tensor\n",
    ") -> torch.Tensor:\n",
    "    return (particle_mass_eV / energy) ** 2\n",
    "\n",
    "\n",
    "@torch.compile\n",
    "def compute_relativistic_gamma_comp(\n",
    "    energy: torch.Tensor, particle_mass_eV: torch.Tensor\n",
    ") -> torch.Tensor:\n",
    "    return energy / particle_mass_eV\n",
    "\n",
    "\n",
    "my_energy = torch.tensor(1e9)  # 1 GeV\n",
    "my_mass = torch.tensor(0.511e6)  # electron mass in eV\n",
    "\n",
    "_ = compute_relativistic_beta(my_energy, my_mass)\n",
    "_ = compute_relativistic_igamma2(my_energy, my_mass)\n",
    "_ = compute_relativistic_gamma(my_energy, my_mass)\n",
    "\n",
    "_ = compute_relativistic_beta_comp(my_energy, my_mass)\n",
    "_ = compute_relativistic_igamma2_comp(my_energy, my_mass)\n",
    "_ = compute_relativistic_gamma_comp(my_energy, my_mass)"
   ]
  },
  {
   "cell_type": "code",
   "execution_count": 17,
   "id": "322b2382",
   "metadata": {},
   "outputs": [
    {
     "name": "stdout",
     "output_type": "stream",
     "text": [
      "8.21 μs ± 5.4 ns per loop (mean ± std. dev. of 7 runs, 100,000 loops each)\n"
     ]
    }
   ],
   "source": [
    "%%timeit\n",
    "_ = compute_relativistic_beta(my_energy, my_mass)"
   ]
  },
  {
   "cell_type": "code",
   "execution_count": 18,
   "id": "737ae0b3",
   "metadata": {},
   "outputs": [
    {
     "name": "stdout",
     "output_type": "stream",
     "text": [
      "8.32 μs ± 45.6 ns per loop (mean ± std. dev. of 7 runs, 100,000 loops each)\n"
     ]
    }
   ],
   "source": [
    "%%timeit\n",
    "_ = compute_relativistic_beta_comp(my_energy, my_mass)"
   ]
  },
  {
   "cell_type": "code",
   "execution_count": 21,
   "id": "833f052d",
   "metadata": {},
   "outputs": [
    {
     "name": "stdout",
     "output_type": "stream",
     "text": [
      "8.23 μs ± 28.5 ns per loop (mean ± std. dev. of 7 runs, 100,000 loops each)\n"
     ]
    }
   ],
   "source": [
    "%%timeit\n",
    "_ = compute_relativistic_gamma(my_energy, my_mass)"
   ]
  },
  {
   "cell_type": "code",
   "execution_count": 22,
   "id": "a231950c",
   "metadata": {},
   "outputs": [
    {
     "name": "stdout",
     "output_type": "stream",
     "text": [
      "8.06 μs ± 10.6 ns per loop (mean ± std. dev. of 7 runs, 100,000 loops each)\n"
     ]
    }
   ],
   "source": [
    "%%timeit\n",
    "_ = compute_relativistic_gamma_comp(my_energy, my_mass)"
   ]
  },
  {
   "cell_type": "code",
   "execution_count": 11,
   "id": "75cb4f76",
   "metadata": {},
   "outputs": [],
   "source": [
    "compute_relativistic_factors_compiled = torch.compile(\n",
    "    compute_relativistic_factors, mode=\"max-autotune\"\n",
    ")\n",
    "\n",
    "# Run 3 times to try and get over warmup\n",
    "_ = compute_relativistic_factors_compiled(my_energy, my_mass)\n",
    "_ = compute_relativistic_factors_compiled(my_energy, my_mass)\n",
    "_ = compute_relativistic_factors_compiled(my_energy, my_mass)"
   ]
  },
  {
   "cell_type": "code",
   "execution_count": 12,
   "id": "3bc76cc1",
   "metadata": {},
   "outputs": [
    {
     "name": "stdout",
     "output_type": "stream",
     "text": [
      "10.9 μs ± 115 ns per loop (mean ± std. dev. of 7 runs, 100,000 loops each)\n"
     ]
    }
   ],
   "source": [
    "%%timeit\n",
    "_ = compute_relativistic_factors(my_energy, my_mass)"
   ]
  },
  {
   "cell_type": "code",
   "execution_count": 13,
   "id": "ccac4be8",
   "metadata": {},
   "outputs": [
    {
     "name": "stdout",
     "output_type": "stream",
     "text": [
      "10.4 μs ± 124 ns per loop (mean ± std. dev. of 7 runs, 100,000 loops each)\n"
     ]
    }
   ],
   "source": [
    "%%timeit\n",
    "_ = compute_relativistic_factors_compiled(my_energy, my_mass)"
   ]
  },
  {
   "cell_type": "code",
   "execution_count": 14,
   "id": "3de2ad9a",
   "metadata": {},
   "outputs": [],
   "source": [
    "expanded_energy = my_energy.expand(1000)\n",
    "expanded_mass = my_mass.expand(1000)"
   ]
  },
  {
   "cell_type": "code",
   "execution_count": 15,
   "id": "38771362",
   "metadata": {},
   "outputs": [
    {
     "name": "stdout",
     "output_type": "stream",
     "text": [
      "13.3 μs ± 1.78 μs per loop (mean ± std. dev. of 7 runs, 100,000 loops each)\n"
     ]
    }
   ],
   "source": [
    "%%timeit\n",
    "_ = compute_relativistic_factors(expanded_energy, expanded_mass)"
   ]
  },
  {
   "cell_type": "code",
   "execution_count": 16,
   "id": "198eac3e",
   "metadata": {},
   "outputs": [
    {
     "name": "stdout",
     "output_type": "stream",
     "text": [
      "13.5 μs ± 11.4 ns per loop (mean ± std. dev. of 7 runs, 100,000 loops each)\n"
     ]
    }
   ],
   "source": [
    "%%timeit\n",
    "_ = compute_relativistic_factors_compiled(expanded_energy, expanded_mass)"
   ]
  },
  {
   "cell_type": "code",
   "execution_count": 10,
   "id": "09032a4c",
   "metadata": {},
   "outputs": [],
   "source": [
    "my_energy = torch.tensor(1e9)  # 1 GeV\n",
    "my_mass = torch.tensor(0.511e6)  # electron mass in eV\n",
    "my_gamma = my_energy / my_mass\n",
    "my_igamma2 = 1 / my_gamma**2"
   ]
  },
  {
   "cell_type": "code",
   "execution_count": 7,
   "id": "5e33fdf3",
   "metadata": {},
   "outputs": [
    {
     "name": "stdout",
     "output_type": "stream",
     "text": [
      "1.06 μs ± 1.52 ns per loop (mean ± std. dev. of 7 runs, 1,000,000 loops each)\n"
     ]
    }
   ],
   "source": [
    "%%timeit\n",
    "gamma = my_energy / my_mass"
   ]
  },
  {
   "cell_type": "code",
   "execution_count": 9,
   "id": "4bfb6c45",
   "metadata": {},
   "outputs": [
    {
     "name": "stdout",
     "output_type": "stream",
     "text": [
      "1.08 μs ± 2.59 ns per loop (mean ± std. dev. of 7 runs, 1,000,000 loops each)\n"
     ]
    }
   ],
   "source": [
    "%%timeit\n",
    "gamma = torch.div(my_energy, my_mass)"
   ]
  },
  {
   "cell_type": "code",
   "execution_count": 17,
   "id": "a526197a",
   "metadata": {},
   "outputs": [
    {
     "name": "stdout",
     "output_type": "stream",
     "text": [
      "6.17 μs ± 810 ns per loop (mean ± std. dev. of 7 runs, 100,000 loops each)\n"
     ]
    }
   ],
   "source": [
    "%%timeit\n",
    "igamma2 = 1 / my_gamma**2"
   ]
  },
  {
   "cell_type": "code",
   "execution_count": 16,
   "id": "b0a4c481",
   "metadata": {},
   "outputs": [
    {
     "name": "stdout",
     "output_type": "stream",
     "text": [
      "2.1 μs ± 5.93 ns per loop (mean ± std. dev. of 7 runs, 100,000 loops each)\n"
     ]
    }
   ],
   "source": [
    "%%timeit\n",
    "igamma2 = torch.square(torch.reciprocal(my_gamma))"
   ]
  },
  {
   "cell_type": "code",
   "execution_count": 18,
   "id": "bd53044c",
   "metadata": {},
   "outputs": [
    {
     "name": "stdout",
     "output_type": "stream",
     "text": [
      "2.07 μs ± 6.45 ns per loop (mean ± std. dev. of 7 runs, 100,000 loops each)\n"
     ]
    }
   ],
   "source": [
    "%%timeit\n",
    "igamma2 = torch.reciprocal(torch.square(my_gamma))"
   ]
  },
  {
   "cell_type": "code",
   "execution_count": 19,
   "id": "2b3b86ad",
   "metadata": {},
   "outputs": [
    {
     "name": "stdout",
     "output_type": "stream",
     "text": [
      "5 μs ± 18.8 ns per loop (mean ± std. dev. of 7 runs, 100,000 loops each)\n"
     ]
    }
   ],
   "source": [
    "%%timeit\n",
    "igamma2 = 1 / torch.square(my_gamma)"
   ]
  },
  {
   "cell_type": "code",
   "execution_count": 21,
   "id": "ddbd59b4",
   "metadata": {},
   "outputs": [
    {
     "name": "stdout",
     "output_type": "stream",
     "text": [
      "2.34 μs ± 7.16 ns per loop (mean ± std. dev. of 7 runs, 100,000 loops each)\n"
     ]
    }
   ],
   "source": [
    "%%timeit\n",
    "igamma2 = torch.reciprocal(my_gamma**2)"
   ]
  },
  {
   "cell_type": "code",
   "execution_count": 25,
   "id": "219f4e6a",
   "metadata": {},
   "outputs": [],
   "source": [
    "def compute_relativistic_factors_1(\n",
    "    energy: torch.Tensor, particle_mass_eV: torch.Tensor\n",
    ") -> tuple[torch.Tensor, torch.Tensor, torch.Tensor]:\n",
    "    \"\"\"\n",
    "    Computes the relativistic factors gamma, inverse gamma squared and beta for\n",
    "    particles.\n",
    "\n",
    "    :param energy: Energy in eV.\n",
    "    :param particle_mass_eV: Mass of the particle in eV.\n",
    "    :return: gamma, igamma2, beta.\n",
    "    \"\"\"\n",
    "    gamma = energy / particle_mass_eV\n",
    "    igamma2 = 1 / gamma**2  # Division by zero not handled because not physical\n",
    "    beta = torch.sqrt(1 - igamma2)\n",
    "\n",
    "    return gamma, igamma2, beta\n",
    "\n",
    "\n",
    "def compute_relativistic_factors_2(\n",
    "    energy: torch.Tensor, particle_mass_eV: torch.Tensor\n",
    ") -> tuple[torch.Tensor, torch.Tensor, torch.Tensor]:\n",
    "    \"\"\"\n",
    "    Computes the relativistic factors gamma, inverse gamma squared and beta for\n",
    "    particles.\n",
    "\n",
    "    :param energy: Energy in eV.\n",
    "    :param particle_mass_eV: Mass of the particle in eV.\n",
    "    :return: gamma, igamma2, beta.\n",
    "    \"\"\"\n",
    "    gamma = energy / particle_mass_eV\n",
    "    # Division by zero not physical\n",
    "    # reciprocal and square save on kernel launches\n",
    "    igamma2 = torch.reciprocal(torch.square(gamma))\n",
    "    beta = torch.sqrt(1 - igamma2)\n",
    "\n",
    "    return gamma, igamma2, beta"
   ]
  },
  {
   "cell_type": "code",
   "execution_count": 26,
   "id": "0e35187f",
   "metadata": {},
   "outputs": [
    {
     "name": "stdout",
     "output_type": "stream",
     "text": [
      "10.7 μs ± 29.4 ns per loop (mean ± std. dev. of 7 runs, 100,000 loops each)\n"
     ]
    }
   ],
   "source": [
    "%%timeit\n",
    "_ = compute_relativistic_factors_1(my_energy, my_mass)"
   ]
  },
  {
   "cell_type": "code",
   "execution_count": 27,
   "id": "251b8b31",
   "metadata": {},
   "outputs": [
    {
     "name": "stdout",
     "output_type": "stream",
     "text": [
      "7.41 μs ± 20.2 ns per loop (mean ± std. dev. of 7 runs, 100,000 loops each)\n"
     ]
    }
   ],
   "source": [
    "%%timeit\n",
    "_ = compute_relativistic_factors_2(my_energy, my_mass)"
   ]
  },
  {
   "cell_type": "code",
   "execution_count": 29,
   "id": "1579c5e7",
   "metadata": {},
   "outputs": [],
   "source": [
    "length = torch.tensor(1.0)"
   ]
  },
  {
   "cell_type": "code",
   "execution_count": 32,
   "id": "5b71274f",
   "metadata": {},
   "outputs": [
    {
     "name": "stdout",
     "output_type": "stream",
     "text": [
      "1.61 μs ± 4.74 ns per loop (mean ± std. dev. of 7 runs, 1,000,000 loops each)\n"
     ]
    }
   ],
   "source": [
    "%%timeit\n",
    "zero = torch.tensor(0.0)"
   ]
  },
  {
   "cell_type": "code",
   "execution_count": 33,
   "id": "dfd1b137",
   "metadata": {},
   "outputs": [
    {
     "name": "stdout",
     "output_type": "stream",
     "text": [
      "812 ns ± 3.38 ns per loop (mean ± std. dev. of 7 runs, 1,000,000 loops each)\n"
     ]
    }
   ],
   "source": [
    "%%timeit\n",
    "zero = length.new_zeros(())"
   ]
  },
  {
   "cell_type": "code",
   "execution_count": 34,
   "id": "72e7a7dd",
   "metadata": {},
   "outputs": [],
   "source": [
    "tilt_1 = None\n",
    "tilt_2 = torch.tensor(0.3)\n",
    "zero = tilt_2.new_zeros(())"
   ]
  },
  {
   "cell_type": "code",
   "execution_count": 38,
   "id": "07c8a009",
   "metadata": {},
   "outputs": [
    {
     "name": "stdout",
     "output_type": "stream",
     "text": [
      "9.48 ns ± 0.0631 ns per loop (mean ± std. dev. of 7 runs, 100,000,000 loops each)\n"
     ]
    }
   ],
   "source": [
    "%%timeit\n",
    "tilt = tilt_1 if tilt_1 is not None else zero"
   ]
  },
  {
   "cell_type": "code",
   "execution_count": null,
   "id": "050e374a",
   "metadata": {},
   "outputs": [
    {
     "name": "stdout",
     "output_type": "stream",
     "text": [
      "9.58 ns ± 0.0134 ns per loop (mean ± std. dev. of 7 runs, 100,000,000 loops each)\n"
     ]
    }
   ],
   "source": [
    "%%timeit\n",
    "tilt_2 = tilt_2 if tilt_2 is not None else zero"
   ]
  },
  {
   "cell_type": "code",
   "execution_count": 39,
   "id": "a292e8c2",
   "metadata": {},
   "outputs": [
    {
     "name": "stdout",
     "output_type": "stream",
     "text": [
      "10.1 ns ± 0.032 ns per loop (mean ± std. dev. of 7 runs, 100,000,000 loops each)\n"
     ]
    }
   ],
   "source": [
    "%%timeit\n",
    "tilt = zero if tilt_1 is None else tilt_1"
   ]
  },
  {
   "cell_type": "code",
   "execution_count": 40,
   "id": "8a80bdf7",
   "metadata": {},
   "outputs": [
    {
     "name": "stdout",
     "output_type": "stream",
     "text": [
      "9.21 ns ± 0.0319 ns per loop (mean ± std. dev. of 7 runs, 100,000,000 loops each)\n"
     ]
    }
   ],
   "source": [
    "%%timeit\n",
    "tilt = zero if tilt_2 is None else tilt_2"
   ]
  },
  {
   "cell_type": "code",
   "execution_count": 47,
   "id": "710b9e2d",
   "metadata": {},
   "outputs": [
    {
     "name": "stdout",
     "output_type": "stream",
     "text": [
      "9.45 ns ± 0.00709 ns per loop (mean ± std. dev. of 7 runs, 100,000,000 loops each)\n"
     ]
    }
   ],
   "source": [
    "%%timeit\n",
    "if tilt_1 is None:\n",
    "    tilt = zero"
   ]
  },
  {
   "cell_type": "code",
   "execution_count": 48,
   "id": "d2f9eccc",
   "metadata": {},
   "outputs": [
    {
     "name": "stdout",
     "output_type": "stream",
     "text": [
      "5.63 ns ± 0.0114 ns per loop (mean ± std. dev. of 7 runs, 100,000,000 loops each)\n"
     ]
    }
   ],
   "source": [
    "%%timeit\n",
    "if tilt_2 is None:\n",
    "    tilt = zero"
   ]
  },
  {
   "cell_type": "code",
   "execution_count": 49,
   "id": "58dc4193",
   "metadata": {},
   "outputs": [
    {
     "name": "stdout",
     "output_type": "stream",
     "text": [
      "12.1 ns ± 0.00842 ns per loop (mean ± std. dev. of 7 runs, 100,000,000 loops each)\n"
     ]
    }
   ],
   "source": [
    "%%timeit\n",
    "tilt = tilt_1 or zero"
   ]
  },
  {
   "cell_type": "code",
   "execution_count": 50,
   "id": "f0fcf24a",
   "metadata": {},
   "outputs": [
    {
     "name": "stdout",
     "output_type": "stream",
     "text": [
      "301 ns ± 6.42 ns per loop (mean ± std. dev. of 7 runs, 1,000,000 loops each)\n"
     ]
    }
   ],
   "source": [
    "%%timeit\n",
    "tilt = tilt_2 or zero"
   ]
  },
  {
   "cell_type": "code",
   "execution_count": 55,
   "id": "c6bd6c6c",
   "metadata": {},
   "outputs": [],
   "source": [
    "k1 = torch.tensor(4.2)\n",
    "hx = torch.tensor(0.0)"
   ]
  },
  {
   "cell_type": "code",
   "execution_count": 56,
   "id": "95e7fe67",
   "metadata": {},
   "outputs": [
    {
     "name": "stdout",
     "output_type": "stream",
     "text": [
      "2.47 μs ± 8.38 ns per loop (mean ± std. dev. of 7 runs, 100,000 loops each)\n"
     ]
    }
   ],
   "source": [
    "%%timeit\n",
    "kx2 = k1 + hx**2"
   ]
  },
  {
   "cell_type": "code",
   "execution_count": 57,
   "id": "efe4f765",
   "metadata": {},
   "outputs": [
    {
     "name": "stdout",
     "output_type": "stream",
     "text": [
      "2.15 μs ± 2 ns per loop (mean ± std. dev. of 7 runs, 100,000 loops each)\n"
     ]
    }
   ],
   "source": [
    "%%timeit\n",
    "kx2 = k1 + torch.square(hx)"
   ]
  },
  {
   "cell_type": "code",
   "execution_count": 58,
   "id": "85d37457",
   "metadata": {},
   "outputs": [
    {
     "name": "stdout",
     "output_type": "stream",
     "text": [
      "2.17 μs ± 4.02 ns per loop (mean ± std. dev. of 7 runs, 100,000 loops each)\n"
     ]
    }
   ],
   "source": [
    "%%timeit\n",
    "kx2 = torch.add(k1, torch.square(hx))"
   ]
  },
  {
   "cell_type": "code",
   "execution_count": 73,
   "id": "b860a909",
   "metadata": {},
   "outputs": [],
   "source": [
    "kx2 = torch.tensor(4.2)\n",
    "kx2_is_not_zero = kx2 != 0\n",
    "hx = torch.tensor(0.0)\n",
    "length = torch.tensor(1.0)\n",
    "sx = torch.tensor(0.42)\n",
    "sy = torch.tensor(0.52)\n",
    "ibeta2 = torch.tensor(1.0)\n",
    "zero = torch.tensor(0.0)\n",
    "igamma2 = torch.tensor(0.3)\n",
    "cx = torch.tensor(0.5)\n",
    "cy = torch.tensor(0.6)\n",
    "dx = torch.tensor(0.1)"
   ]
  },
  {
   "cell_type": "code",
   "execution_count": 77,
   "id": "9972bc3c",
   "metadata": {},
   "outputs": [
    {
     "name": "stdout",
     "output_type": "stream",
     "text": [
      "10 μs ± 19.7 ns per loop (mean ± std. dev. of 7 runs, 100,000 loops each)\n"
     ]
    }
   ],
   "source": [
    "%%timeit\n",
    "r56 = torch.where(\n",
    "    kx2_is_not_zero, torch.square(hx) * (length - sx) / kx2 * ibeta2, zero\n",
    ")\n",
    "r56 = r56 - length * ibeta2 * igamma2"
   ]
  },
  {
   "cell_type": "code",
   "execution_count": 78,
   "id": "fc911874",
   "metadata": {},
   "outputs": [
    {
     "name": "stdout",
     "output_type": "stream",
     "text": [
      "10.2 μs ± 21.2 ns per loop (mean ± std. dev. of 7 runs, 100,000 loops each)\n"
     ]
    }
   ],
   "source": [
    "%%timeit\n",
    "r56 = torch.where(\n",
    "    kx2_is_not_zero, torch.square(hx) * (length - sx) / kx2 * ibeta2, zero\n",
    ") - length * ibeta2 * igamma2"
   ]
  },
  {
   "cell_type": "code",
   "execution_count": 80,
   "id": "4d956d1f",
   "metadata": {},
   "outputs": [
    {
     "name": "stdout",
     "output_type": "stream",
     "text": [
      "9.09 μs ± 19.1 ns per loop (mean ± std. dev. of 7 runs, 100,000 loops each)\n"
     ]
    }
   ],
   "source": [
    "%%timeit\n",
    "r56 = (torch.where(\n",
    "    kx2_is_not_zero, torch.square(hx) * (length - sx) / kx2, zero\n",
    ") - length * igamma2) * ibeta2"
   ]
  },
  {
   "cell_type": "code",
   "execution_count": 14,
   "id": "bcdb5f5b",
   "metadata": {},
   "outputs": [],
   "source": [
    "cx = torch.tensor(0.5)"
   ]
  },
  {
   "cell_type": "code",
   "execution_count": 15,
   "id": "7aa165d6",
   "metadata": {},
   "outputs": [
    {
     "name": "stdout",
     "output_type": "stream",
     "text": [
      "5.67 μs ± 6.12 ns per loop (mean ± std. dev. of 7 runs, 100,000 loops each)\n"
     ]
    }
   ],
   "source": [
    "%%timeit\n",
    "R = torch.eye(7, dtype=cx.dtype, device=cx.device).repeat(*cx.shape, 1, 1)"
   ]
  },
  {
   "cell_type": "code",
   "execution_count": 16,
   "id": "68e3b51a",
   "metadata": {},
   "outputs": [
    {
     "name": "stdout",
     "output_type": "stream",
     "text": [
      "4.67 μs ± 16.9 ns per loop (mean ± std. dev. of 7 runs, 100,000 loops each)\n"
     ]
    }
   ],
   "source": [
    "%%timeit\n",
    "R = (\n",
    "    torch.eye(7, dtype=cx.dtype, device=cx.device)\n",
    "    .expand(*cx.shape, 7, 7)\n",
    "    .clone()\n",
    ")"
   ]
  },
  {
   "cell_type": "code",
   "execution_count": 2,
   "id": "a21fca15",
   "metadata": {},
   "outputs": [],
   "source": [
    "cavity = cheetah.Cavity(length=torch.tensor(1.0), voltage=torch.tensor([1e6, 0.0]))\n",
    "species = cheetah.Species(\"electron\")\n",
    "energy = torch.tensor(1e9)  # 1 GeV"
   ]
  },
  {
   "cell_type": "code",
   "execution_count": 5,
   "id": "e593e890",
   "metadata": {},
   "outputs": [
    {
     "name": "stdout",
     "output_type": "stream",
     "text": [
      "231 μs ± 1.18 μs per loop (mean ± std. dev. of 7 runs, 1,000 loops each)\n"
     ]
    }
   ],
   "source": [
    "%%timeit\n",
    "cavity.first_order_transfer_map(energy=energy, species=species)"
   ]
  },
  {
   "cell_type": "code",
   "execution_count": 6,
   "id": "7fb4d268",
   "metadata": {},
   "outputs": [
    {
     "data": {
      "text/plain": [
       "tensor([[[ 9.9950e-01,  9.9951e-01,  0.0000e+00,  0.0000e+00,  0.0000e+00,\n",
       "           0.0000e+00,  0.0000e+00],\n",
       "         [-3.7447e-07,  9.9950e-01,  0.0000e+00,  0.0000e+00,  0.0000e+00,\n",
       "           0.0000e+00,  0.0000e+00],\n",
       "         [ 0.0000e+00,  0.0000e+00,  9.9950e-01,  9.9951e-01,  0.0000e+00,\n",
       "           0.0000e+00,  0.0000e+00],\n",
       "         [ 0.0000e+00,  0.0000e+00, -3.7447e-07,  9.9950e-01,  0.0000e+00,\n",
       "           0.0000e+00,  0.0000e+00],\n",
       "         [ 0.0000e+00,  0.0000e+00,  0.0000e+00,  0.0000e+00,  1.0000e+00,\n",
       "          -2.6073e-07,  0.0000e+00],\n",
       "         [ 0.0000e+00,  0.0000e+00,  0.0000e+00,  0.0000e+00,  0.0000e+00,\n",
       "           9.9900e-01,  0.0000e+00],\n",
       "         [ 0.0000e+00,  0.0000e+00,  0.0000e+00,  0.0000e+00,  0.0000e+00,\n",
       "           0.0000e+00,  1.0000e+00]],\n",
       "\n",
       "        [[ 1.0000e+00,         nan,  0.0000e+00,  0.0000e+00,  0.0000e+00,\n",
       "           0.0000e+00,  0.0000e+00],\n",
       "         [-0.0000e+00,  1.0000e+00,  0.0000e+00,  0.0000e+00,  0.0000e+00,\n",
       "           0.0000e+00,  0.0000e+00],\n",
       "         [ 0.0000e+00,  0.0000e+00,  1.0000e+00,         nan,  0.0000e+00,\n",
       "           0.0000e+00,  0.0000e+00],\n",
       "         [ 0.0000e+00,  0.0000e+00, -0.0000e+00,  1.0000e+00,  0.0000e+00,\n",
       "           0.0000e+00,  0.0000e+00],\n",
       "         [ 0.0000e+00,  0.0000e+00,  0.0000e+00,  0.0000e+00,         nan,\n",
       "          -2.6112e-07,  0.0000e+00],\n",
       "         [ 0.0000e+00,  0.0000e+00,  0.0000e+00,  0.0000e+00,  0.0000e+00,\n",
       "           1.0000e+00,  0.0000e+00],\n",
       "         [ 0.0000e+00,  0.0000e+00,  0.0000e+00,  0.0000e+00,  0.0000e+00,\n",
       "           0.0000e+00,  1.0000e+00]]])"
      ]
     },
     "execution_count": 6,
     "metadata": {},
     "output_type": "execute_result"
    }
   ],
   "source": [
    "cavity.first_order_transfer_map(energy=energy, species=species)"
   ]
  },
  {
   "cell_type": "code",
   "execution_count": 7,
   "id": "b8edf3cd",
   "metadata": {},
   "outputs": [],
   "source": [
    "k1 = torch.tensor(4.2)\n",
    "hx = torch.tensor(0.3)"
   ]
  },
  {
   "cell_type": "code",
   "execution_count": 11,
   "id": "59a99078",
   "metadata": {},
   "outputs": [
    {
     "name": "stdout",
     "output_type": "stream",
     "text": [
      "1.33 μs ± 13.2 ns per loop (mean ± std. dev. of 7 runs, 1,000,000 loops each)\n"
     ]
    }
   ],
   "source": [
    "%%timeit\n",
    "_ = hx**2"
   ]
  },
  {
   "cell_type": "code",
   "execution_count": 12,
   "id": "4b223a4f",
   "metadata": {},
   "outputs": [
    {
     "name": "stdout",
     "output_type": "stream",
     "text": [
      "1.02 μs ± 1.43 ns per loop (mean ± std. dev. of 7 runs, 1,000,000 loops each)\n"
     ]
    }
   ],
   "source": [
    "%%timeit\n",
    "_ = hx * hx"
   ]
  },
  {
   "cell_type": "code",
   "execution_count": 13,
   "id": "dd5bf5eb",
   "metadata": {},
   "outputs": [
    {
     "name": "stdout",
     "output_type": "stream",
     "text": [
      "1.05 μs ± 2.41 ns per loop (mean ± std. dev. of 7 runs, 1,000,000 loops each)\n"
     ]
    }
   ],
   "source": [
    "%%timeit\n",
    "_ = torch.square(hx)"
   ]
  },
  {
   "cell_type": "code",
   "execution_count": null,
   "id": "bfeb379d",
   "metadata": {},
   "outputs": [],
   "source": []
  }
 ],
 "metadata": {
  "kernelspec": {
   "display_name": "cheetah-dev",
   "language": "python",
   "name": "python3"
  },
  "language_info": {
   "codemirror_mode": {
    "name": "ipython",
    "version": 3
   },
   "file_extension": ".py",
   "mimetype": "text/x-python",
   "name": "python",
   "nbconvert_exporter": "python",
   "pygments_lexer": "ipython3",
   "version": "3.13.5"
  }
 },
 "nbformat": 4,
 "nbformat_minor": 5
}
