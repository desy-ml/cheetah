{
 "cells": [
  {
   "cell_type": "code",
   "execution_count": 1,
   "id": "653c1ffb",
   "metadata": {},
   "outputs": [],
   "source": [
    "from typing import Optional, Union\n",
    "\n",
    "import numpy as np\n",
    "import torch\n",
    "from scipy import constants\n",
    "\n",
    "from cheetah import Species\n",
    "from cheetah.utils import compute_relativistic_factors"
   ]
  },
  {
   "cell_type": "code",
   "execution_count": 2,
   "id": "041707b3",
   "metadata": {},
   "outputs": [],
   "source": [
    "%load_ext line_profiler"
   ]
  },
  {
   "cell_type": "code",
   "execution_count": 3,
   "id": "233971f4",
   "metadata": {},
   "outputs": [],
   "source": [
    "REST_ENERGY_PYTHON = (\n",
    "    constants.electron_mass * constants.speed_of_light**2 / constants.elementary_charge\n",
    ")  # electron mass\n",
    "REST_ENERGY_TORCH = torch.tensor(\n",
    "    constants.electron_mass * constants.speed_of_light**2 / constants.elementary_charge\n",
    ")  # electron mass"
   ]
  },
  {
   "cell_type": "code",
   "execution_count": 4,
   "id": "0a3a2c29",
   "metadata": {},
   "outputs": [],
   "source": [
    "def base_rmatrix(\n",
    "    length: torch.Tensor,\n",
    "    k1: torch.Tensor,\n",
    "    hx: torch.Tensor,\n",
    "    tilt: Optional[torch.Tensor] = None,\n",
    "    energy: Optional[torch.Tensor] = None,\n",
    "    device: Union[str, torch.device] = \"auto\",\n",
    ") -> torch.Tensor:\n",
    "    \"\"\"\n",
    "    Create a universal transfer matrix for a beamline element.\n",
    "    :param length: Length of the element in m.\n",
    "    :param k1: Quadrupole strength in 1/m**2.\n",
    "    :param hx: Curvature (1/radius) of the element in 1/m**2.\n",
    "    :param tilt: Roation of the element relative to the longitudinal axis in rad.\n",
    "    :param energy: Beam energy in eV.\n",
    "    :param device: Device where the transfer matrix is created. If \"auto\", the device\n",
    "        is selected automatically.\n",
    "    :return: Transfer matrix for the element.\n",
    "    \"\"\"\n",
    "\n",
    "    tilt = tilt if tilt is not None else torch.tensor(0.0)\n",
    "    energy = energy if energy is not None else torch.tensor(0.0)\n",
    "\n",
    "    if device == \"auto\":\n",
    "        device = \"cuda\" if torch.cuda.is_available() else \"cpu\"\n",
    "    gamma = energy / REST_ENERGY_TORCH\n",
    "    igamma2 = 1 / gamma**2 if gamma != 0 else torch.tensor(0.0)\n",
    "\n",
    "    beta = torch.sqrt(1 - igamma2)\n",
    "\n",
    "    kx2 = k1 + hx**2\n",
    "    ky2 = -k1\n",
    "    kx = torch.sqrt(torch.complex(kx2, torch.tensor(0.0)))\n",
    "    ky = torch.sqrt(torch.complex(ky2, torch.tensor(0.0)))\n",
    "    cx = torch.cos(kx * length).real\n",
    "    cy = torch.cos(ky * length).real\n",
    "    sy = (torch.sin(ky * length) / ky).real if ky != 0 else length\n",
    "\n",
    "    if kx != 0:\n",
    "        sx = (torch.sin(kx * length) / kx).real\n",
    "        dx = hx / kx2 * (1.0 - cx)\n",
    "        r56 = hx**2 * (length - sx) / kx2 / beta**2\n",
    "    else:\n",
    "        sx = length\n",
    "        dx = length**2 * hx / 2\n",
    "        r56 = hx**2 * length**3 / 6 / beta**2\n",
    "\n",
    "    r56 -= length / beta**2 * igamma2\n",
    "\n",
    "    R = torch.eye(7, dtype=torch.float32, device=device)\n",
    "    R[0, 0] = cx\n",
    "    R[0, 1] = sx\n",
    "    R[0, 5] = dx / beta\n",
    "    R[1, 0] = -kx2 * sx\n",
    "    R[1, 1] = cx\n",
    "    R[1, 5] = sx * hx / beta\n",
    "    R[2, 2] = cy\n",
    "    R[2, 3] = sy\n",
    "    R[3, 2] = -ky2 * sy\n",
    "    R[3, 3] = cy\n",
    "    R[4, 0] = sx * hx / beta\n",
    "    R[4, 1] = dx / beta\n",
    "    R[4, 5] = r56\n",
    "\n",
    "    return R"
   ]
  },
  {
   "cell_type": "code",
   "execution_count": 5,
   "id": "51537578",
   "metadata": {},
   "outputs": [
    {
     "name": "stdout",
     "output_type": "stream",
     "text": [
      "140 μs ± 214 ns per loop (mean ± std. dev. of 7 runs, 10,000 loops each)\n"
     ]
    }
   ],
   "source": [
    "%%timeit\n",
    "_ = base_rmatrix(\n",
    "    length=torch.tensor(1.0),\n",
    "    k1=torch.tensor(4.2),\n",
    "    hx=torch.tensor(0.0),\n",
    "    )"
   ]
  },
  {
   "cell_type": "code",
   "execution_count": 6,
   "id": "91fb48e6",
   "metadata": {},
   "outputs": [],
   "source": [
    "my_length = torch.tensor(1.0)\n",
    "my_k1 = torch.tensor(4.2)\n",
    "my_hx = torch.tensor(0.0)"
   ]
  },
  {
   "cell_type": "code",
   "execution_count": 7,
   "id": "49f28ae6",
   "metadata": {},
   "outputs": [
    {
     "name": "stdout",
     "output_type": "stream",
     "text": [
      "135 μs ± 328 ns per loop (mean ± std. dev. of 7 runs, 10,000 loops each)\n"
     ]
    }
   ],
   "source": [
    "%%timeit\n",
    "_ = base_rmatrix(\n",
    "    length=my_length,\n",
    "    k1=my_k1,\n",
    "    hx=my_hx,\n",
    ")"
   ]
  },
  {
   "cell_type": "code",
   "execution_count": 8,
   "id": "753556ce",
   "metadata": {},
   "outputs": [],
   "source": [
    "def base_rmatrix(\n",
    "    length: float,\n",
    "    k1: float,\n",
    "    hx: float,\n",
    "    tilt: float = 0.0,\n",
    "    energy: float = 0.0,\n",
    "    device: Union[str, torch.device] = \"auto\",\n",
    "):\n",
    "    if device == \"auto\":\n",
    "        device = \"cuda\" if torch.cuda.is_available() else \"cpu\"\n",
    "    gamma = energy / REST_ENERGY_PYTHON\n",
    "    igamma2 = 1 / gamma**2 if gamma != 0 else 0\n",
    "\n",
    "    beta = np.sqrt(1 - igamma2)\n",
    "\n",
    "    kx2 = k1 + hx**2\n",
    "    ky2 = -k1\n",
    "    kx = np.sqrt(kx2 + 0.0j)\n",
    "    ky = np.sqrt(ky2 + 0.0j)\n",
    "    cx = np.cos(kx * length).real\n",
    "    cy = np.cos(ky * length).real\n",
    "    sy = (np.sin(ky * length) / ky).real if ky != 0 else length\n",
    "\n",
    "    if kx != 0:\n",
    "        sx = (np.sin(kx * length) / kx).real\n",
    "        dx = hx / kx2 * (1.0 - cx)\n",
    "        r56 = hx**2 * (length - sx) / kx2 / beta**2\n",
    "    else:\n",
    "        sx = length\n",
    "        dx = length**2 * hx / 2\n",
    "        r56 = hx**2 * length**3 / 6 / beta**2\n",
    "\n",
    "    r56 -= length / beta**2 * igamma2\n",
    "\n",
    "    R = torch.tensor(\n",
    "        [\n",
    "            [cx, sx, 0, 0, 0, dx / beta, 0],\n",
    "            [-kx2 * sx, cx, 0, 0, 0, sx * hx / beta, 0],\n",
    "            [0, 0, cy, sy, 0, 0, 0],\n",
    "            [0, 0, -ky2 * sy, cy, 0, 0, 0],\n",
    "            [sx * hx / beta, dx / beta, 0, 0, 1, r56, 0],\n",
    "            [0, 0, 0, 0, 0, 1, 0],\n",
    "            [0, 0, 0, 0, 0, 0, 1],\n",
    "        ],\n",
    "        dtype=torch.float32,\n",
    "        device=device,\n",
    "    )\n",
    "\n",
    "    return R"
   ]
  },
  {
   "cell_type": "code",
   "execution_count": 9,
   "id": "7aba9412",
   "metadata": {},
   "outputs": [
    {
     "name": "stdout",
     "output_type": "stream",
     "text": [
      "11.5 μs ± 16.5 ns per loop (mean ± std. dev. of 7 runs, 100,000 loops each)\n"
     ]
    }
   ],
   "source": [
    "%%timeit\n",
    "_ = base_rmatrix(\n",
    "    length=1.0,\n",
    "    k1=4.2,\n",
    "    hx=0.0,\n",
    "    tilt=0.0,\n",
    "    energy=0.0)"
   ]
  },
  {
   "cell_type": "code",
   "execution_count": 10,
   "id": "a6574903",
   "metadata": {},
   "outputs": [],
   "source": [
    "def base_rmatrix(\n",
    "    length: torch.Tensor,\n",
    "    k1: torch.Tensor,\n",
    "    hx: torch.Tensor,\n",
    "    species: Species,\n",
    "    tilt: torch.Tensor | None = None,\n",
    "    energy: torch.Tensor | None = None,\n",
    ") -> torch.Tensor:\n",
    "    \"\"\"\n",
    "    Create a first order universal transfer map for a beamline element.\n",
    "\n",
    "    :param length: Length of the element in m.\n",
    "    :param k1: Quadrupole strength in 1/m**2.\n",
    "    :param hx: Curvature (1/radius) of the element in 1/m.\n",
    "    :param species: Particle species of the beam.\n",
    "    :param tilt: Roation of the element relative to the longitudinal axis in rad.\n",
    "    :param energy: Beam energy in eV.\n",
    "    :return: First order transfer map for the element.\n",
    "    \"\"\"\n",
    "    device = length.device\n",
    "    dtype = length.dtype\n",
    "\n",
    "    zero = torch.tensor(0.0, device=device, dtype=dtype)\n",
    "\n",
    "    tilt = tilt if tilt is not None else zero\n",
    "    energy = energy if energy is not None else zero\n",
    "\n",
    "    _, igamma2, beta = compute_relativistic_factors(energy, species.mass_eV)\n",
    "\n",
    "    kx2 = k1 + hx**2\n",
    "    ky2 = -k1\n",
    "    kx = torch.sqrt(torch.complex(kx2, zero))\n",
    "    ky = torch.sqrt(torch.complex(ky2, zero))\n",
    "    cx = torch.cos(kx * length).real\n",
    "    cy = torch.cos(ky * length).real\n",
    "    sx = (torch.sinc(kx * length / torch.pi) * length).real\n",
    "    sy = (torch.sinc(ky * length / torch.pi) * length).real\n",
    "    dx = torch.where(kx2 != 0, hx / kx2 * (1.0 - cx), zero)\n",
    "    r56 = torch.where(kx2 != 0, hx**2 * (length - sx) / kx2 / beta**2, zero)\n",
    "\n",
    "    r56 = r56 - length / beta**2 * igamma2\n",
    "\n",
    "    vector_shape = torch.broadcast_shapes(\n",
    "        length.shape, k1.shape, hx.shape, tilt.shape, energy.shape\n",
    "    )\n",
    "\n",
    "    R = torch.eye(7, dtype=dtype, device=device).repeat(*vector_shape, 1, 1)\n",
    "    R[..., 0, 0] = cx\n",
    "    R[..., 0, 1] = sx\n",
    "    R[..., 0, 5] = dx / beta\n",
    "    R[..., 1, 0] = -kx2 * sx\n",
    "    R[..., 1, 1] = cx\n",
    "    R[..., 1, 5] = sx * hx / beta\n",
    "    R[..., 2, 2] = cy\n",
    "    R[..., 2, 3] = sy\n",
    "    R[..., 3, 2] = -ky2 * sy\n",
    "    R[..., 3, 3] = cy\n",
    "    R[..., 4, 0] = sx * hx / beta\n",
    "    R[..., 4, 1] = dx / beta\n",
    "    R[..., 4, 5] = r56\n",
    "\n",
    "    return R"
   ]
  },
  {
   "cell_type": "code",
   "execution_count": 11,
   "id": "36a6f427",
   "metadata": {},
   "outputs": [],
   "source": [
    "my_length = torch.tensor(1.0)\n",
    "my_k1 = torch.tensor(4.2)\n",
    "my_hx = torch.tensor(0.0)\n",
    "my_species = Species(\"electron\")"
   ]
  },
  {
   "cell_type": "code",
   "execution_count": 12,
   "id": "32cdaaf4",
   "metadata": {},
   "outputs": [
    {
     "name": "stdout",
     "output_type": "stream",
     "text": [
      "145 μs ± 211 ns per loop (mean ± std. dev. of 7 runs, 10,000 loops each)\n"
     ]
    }
   ],
   "source": [
    "%%timeit\n",
    "_ = base_rmatrix(\n",
    "    length=my_length,\n",
    "    k1=my_k1,\n",
    "    hx=my_hx,\n",
    "    species=my_species\n",
    "    )"
   ]
  },
  {
   "cell_type": "code",
   "execution_count": 13,
   "id": "b7832381",
   "metadata": {},
   "outputs": [
    {
     "name": "stdout",
     "output_type": "stream",
     "text": [
      "Timer unit: 1e-09 s\n",
      "\n",
      "Total time: 0.001929 s\n",
      "File: /var/folders/z8/vzg_1dr50gg1zchydp1styc00000gn/T/ipykernel_82502/33921839.py\n",
      "Function: base_rmatrix at line 1\n",
      "\n",
      "Line #      Hits         Time  Per Hit   % Time  Line Contents\n",
      "==============================================================\n",
      "     1                                           def base_rmatrix(\n",
      "     2                                               length: torch.Tensor,\n",
      "     3                                               k1: torch.Tensor,\n",
      "     4                                               hx: torch.Tensor,\n",
      "     5                                               species: Species,\n",
      "     6                                               tilt: torch.Tensor | None = None,\n",
      "     7                                               energy: torch.Tensor | None = None,\n",
      "     8                                           ) -> torch.Tensor:\n",
      "     9                                               \"\"\"\n",
      "    10                                               Create a first order universal transfer map for a beamline element.\n",
      "    11                                           \n",
      "    12                                               :param length: Length of the element in m.\n",
      "    13                                               :param k1: Quadrupole strength in 1/m**2.\n",
      "    14                                               :param hx: Curvature (1/radius) of the element in 1/m.\n",
      "    15                                               :param species: Particle species of the beam.\n",
      "    16                                               :param tilt: Roation of the element relative to the longitudinal axis in rad.\n",
      "    17                                               :param energy: Beam energy in eV.\n",
      "    18                                               :return: First order transfer map for the element.\n",
      "    19                                               \"\"\"\n",
      "    20         1       3000.0   3000.0      0.2      device = length.device\n",
      "    21         1       1000.0   1000.0      0.1      dtype = length.dtype\n",
      "    22                                           \n",
      "    23         1      31000.0  31000.0      1.6      zero = torch.tensor(0.0, device=device, dtype=dtype)\n",
      "    24                                           \n",
      "    25         1       1000.0   1000.0      0.1      tilt = tilt if tilt is not None else zero\n",
      "    26         1          0.0      0.0      0.0      energy = energy if energy is not None else zero\n",
      "    27                                           \n",
      "    28         1    1549000.0 1.55e+06     80.3      _, igamma2, beta = compute_relativistic_factors(energy, species.mass_eV)\n",
      "    29                                           \n",
      "    30         1      10000.0  10000.0      0.5      kx2 = k1 + hx**2\n",
      "    31         1       4000.0   4000.0      0.2      ky2 = -k1\n",
      "    32         1       9000.0   9000.0      0.5      kx = torch.sqrt(torch.complex(kx2, zero))\n",
      "    33         1       3000.0   3000.0      0.2      ky = torch.sqrt(torch.complex(ky2, zero))\n",
      "    34         1      26000.0  26000.0      1.3      cx = torch.cos(kx * length).real\n",
      "    35         1       8000.0   8000.0      0.4      cy = torch.cos(ky * length).real\n",
      "    36         1      19000.0  19000.0      1.0      sx = (torch.sinc(kx * length / torch.pi) * length).real\n",
      "    37         1      14000.0  14000.0      0.7      sy = (torch.sinc(ky * length / torch.pi) * length).real\n",
      "    38         1      28000.0  28000.0      1.5      dx = torch.where(kx2 != 0, hx / kx2 * (1.0 - cx), zero)\n",
      "    39         1      18000.0  18000.0      0.9      r56 = torch.where(kx2 != 0, hx**2 * (length - sx) / kx2 / beta**2, zero)\n",
      "    40                                           \n",
      "    41         1       7000.0   7000.0      0.4      r56 = r56 - length / beta**2 * igamma2\n",
      "    42                                           \n",
      "    43         2      49000.0  24500.0      2.5      vector_shape = torch.broadcast_shapes(\n",
      "    44         1       1000.0   1000.0      0.1          length.shape, k1.shape, hx.shape, tilt.shape, energy.shape\n",
      "    45                                               )\n",
      "    46                                           \n",
      "    47         1      29000.0  29000.0      1.5      R = torch.eye(7, dtype=dtype, device=device).repeat(*vector_shape, 1, 1)\n",
      "    48         1       9000.0   9000.0      0.5      R[..., 0, 0] = cx\n",
      "    49         1       5000.0   5000.0      0.3      R[..., 0, 1] = sx\n",
      "    50         1       6000.0   6000.0      0.3      R[..., 0, 5] = dx / beta\n",
      "    51         1       7000.0   7000.0      0.4      R[..., 1, 0] = -kx2 * sx\n",
      "    52         1       4000.0   4000.0      0.2      R[..., 1, 1] = cx\n",
      "    53         1      31000.0  31000.0      1.6      R[..., 1, 5] = sx * hx / beta\n",
      "    54         1      20000.0  20000.0      1.0      R[..., 2, 2] = cy\n",
      "    55         1       5000.0   5000.0      0.3      R[..., 2, 3] = sy\n",
      "    56         1      12000.0  12000.0      0.6      R[..., 3, 2] = -ky2 * sy\n",
      "    57         1       3000.0   3000.0      0.2      R[..., 3, 3] = cy\n",
      "    58         1       9000.0   9000.0      0.5      R[..., 4, 0] = sx * hx / beta\n",
      "    59         1       5000.0   5000.0      0.3      R[..., 4, 1] = dx / beta\n",
      "    60         1       3000.0   3000.0      0.2      R[..., 4, 5] = r56\n",
      "    61                                           \n",
      "    62         1          0.0      0.0      0.0      return R"
     ]
    }
   ],
   "source": [
    "%lprun -f base_rmatrix base_rmatrix(length=my_length, k1=my_k1, hx=my_hx, species=my_species)"
   ]
  },
  {
   "cell_type": "code",
   "execution_count": 15,
   "id": "daaa03fd",
   "metadata": {},
   "outputs": [],
   "source": [
    "energy = torch.tensor(1e9)  # 1 GeV\n",
    "species = Species(\"electron\")"
   ]
  },
  {
   "cell_type": "code",
   "execution_count": 18,
   "id": "10e80796",
   "metadata": {},
   "outputs": [
    {
     "name": "stdout",
     "output_type": "stream",
     "text": [
      "11.3 μs ± 102 ns per loop (mean ± std. dev. of 7 runs, 100,000 loops each)\n"
     ]
    }
   ],
   "source": [
    "%%timeit\n",
    "_, _, _ = compute_relativistic_factors(energy, species.mass_eV)"
   ]
  },
  {
   "cell_type": "code",
   "execution_count": 27,
   "id": "95ba329f",
   "metadata": {},
   "outputs": [
    {
     "name": "stdout",
     "output_type": "stream",
     "text": [
      "Timer unit: 1e-09 s\n",
      "\n",
      "Total time: 0.001464 s\n",
      "File: /Users/jankaiser/Documents/DESY/cheetah/cheetah/utils/physics.py\n",
      "Function: compute_relativistic_factors at line 4\n",
      "\n",
      "Line #      Hits         Time  Per Hit   % Time  Line Contents\n",
      "==============================================================\n",
      "     4                                           def compute_relativistic_factors(\n",
      "     5                                               energy: torch.Tensor, particle_mass_eV: torch.Tensor\n",
      "     6                                           ) -> tuple[torch.Tensor, torch.Tensor, torch.Tensor]:\n",
      "     7                                               \"\"\"\n",
      "     8                                               Computes the relativistic factors gamma, inverse gamma squared and beta for\n",
      "     9                                               particles.\n",
      "    10                                           \n",
      "    11                                               :param energy: Energy in eV.\n",
      "    12                                               :param particle_mass_eV: Mass of the particle in eV.\n",
      "    13                                               :return: gamma, igamma2, beta.\n",
      "    14                                               \"\"\"\n",
      "    15         1      29000.0  29000.0      2.0      gamma = energy / particle_mass_eV\n",
      "    16         1     511000.0 511000.0     34.9      igamma2 = 1 / gamma**2\n",
      "    17         1     923000.0 923000.0     63.0      beta = torch.sqrt(1 - igamma2)\n",
      "    18                                           \n",
      "    19         1       1000.0   1000.0      0.1      return gamma, igamma2, beta"
     ]
    }
   ],
   "source": [
    "%lprun -f compute_relativistic_factors compute_relativistic_factors(energy, species.mass_eV)"
   ]
  },
  {
   "cell_type": "code",
   "execution_count": 12,
   "id": "79129293",
   "metadata": {},
   "outputs": [],
   "source": [
    "cx = 1.0\n",
    "cy = 2.0\n",
    "sx = 3.0\n",
    "sy = 4.0\n",
    "dx = 5.0\n",
    "dy = 6.0\n",
    "beta = 7.0\n",
    "kx2 = 8.0\n",
    "ky2 = 9.0\n",
    "hx = 7.0\n",
    "hy = 8.0\n",
    "r56 = 9.0"
   ]
  },
  {
   "cell_type": "code",
   "execution_count": 13,
   "id": "d13df8c7",
   "metadata": {},
   "outputs": [
    {
     "name": "stdout",
     "output_type": "stream",
     "text": [
      "9.22 μs ± 34.5 ns per loop (mean ± std. dev. of 7 runs, 100,000 loops each)\n"
     ]
    }
   ],
   "source": [
    "%%timeit\n",
    "R = torch.tensor(\n",
    "        [\n",
    "            [cx, sx, 0, 0, 0, dx / beta, 0],\n",
    "            [-kx2 * sx, cx, 0, 0, 0, sx * hx / beta, 0],\n",
    "            [0, 0, cy, sy, 0, 0, 0],\n",
    "            [0, 0, -ky2 * sy, cy, 0, 0, 0],\n",
    "            [sx * hx / beta, dx / beta, 0, 0, 1, r56, 0],\n",
    "            [0, 0, 0, 0, 0, 1, 0],\n",
    "            [0, 0, 0, 0, 0, 0, 1],\n",
    "        ]\n",
    "    )"
   ]
  },
  {
   "cell_type": "code",
   "execution_count": 14,
   "id": "d562dcf7",
   "metadata": {},
   "outputs": [],
   "source": [
    "cx = torch.tensor(1.0)\n",
    "cy = torch.tensor(2.0)\n",
    "sx = torch.tensor(3.0)\n",
    "sy = torch.tensor(4.0)\n",
    "dx = torch.tensor(5.0)\n",
    "dy = torch.tensor(6.0)\n",
    "beta = torch.tensor(7.0)\n",
    "kx2 = torch.tensor(8.0)\n",
    "ky2 = torch.tensor(9.0)\n",
    "hx = torch.tensor(7.0)\n",
    "hy = torch.tensor(8.0)\n",
    "r56 = torch.tensor(9.0)"
   ]
  },
  {
   "cell_type": "code",
   "execution_count": 15,
   "id": "6ba3b285",
   "metadata": {},
   "outputs": [
    {
     "name": "stdout",
     "output_type": "stream",
     "text": [
      "47.5 μs ± 88 ns per loop (mean ± std. dev. of 7 runs, 10,000 loops each)\n"
     ]
    }
   ],
   "source": [
    "%%timeit\n",
    "R = torch.eye(7)\n",
    "R[0, 0] = cx\n",
    "R[0, 1] = sx\n",
    "R[0, 5] = dx / beta\n",
    "R[1, 0] = -kx2 * sx\n",
    "R[1, 1] = cx\n",
    "R[1, 5] = sx * hx / beta\n",
    "R[2, 2] = cy\n",
    "R[2, 3] = sy\n",
    "R[3, 2] = -ky2 * sy\n",
    "R[3, 3] = cy\n",
    "R[4, 0] = sx * hx / beta\n",
    "R[4, 1] = dx / beta\n",
    "R[4, 5] = r56"
   ]
  },
  {
   "cell_type": "code",
   "execution_count": 16,
   "id": "19add1c6",
   "metadata": {},
   "outputs": [
    {
     "name": "stdout",
     "output_type": "stream",
     "text": [
      "43.5 μs ± 56.1 ns per loop (mean ± std. dev. of 7 runs, 10,000 loops each)\n"
     ]
    }
   ],
   "source": [
    "%%timeit\n",
    "# make reusable 0/1 tensors on the right device/dtype, keeping graph intact\n",
    "z = torch.zeros_like(cx)\n",
    "o = torch.ones_like(cx)\n",
    "\n",
    "row0 = torch.stack([cx, sx, z, z, z, dx / beta, z])\n",
    "row1 = torch.stack([-kx2 * sx, cx, z, z, z, sx * hx / beta, z])\n",
    "row2 = torch.stack([z, z, cy, sy, z, z, z])\n",
    "row3 = torch.stack([z, z, -ky2 * sy, cy, z, z, z])\n",
    "row4 = torch.stack([sx * hx / beta, dx / beta, z, z, o, r56, z])\n",
    "row5 = torch.stack([z, z, z, z, z, o, z])\n",
    "row6 = torch.stack([z, z, z, z, z, z, o])\n",
    "\n",
    "R = torch.stack([row0, row1, row2, row3, row4, row5, row6])"
   ]
  },
  {
   "cell_type": "code",
   "execution_count": 17,
   "id": "9430b0a3",
   "metadata": {},
   "outputs": [
    {
     "name": "stdout",
     "output_type": "stream",
     "text": [
      "29.4 μs ± 81.6 ns per loop (mean ± std. dev. of 7 runs, 10,000 loops each)\n"
     ]
    }
   ],
   "source": [
    "%%timeit\n",
    "R = torch.eye(7)\n",
    "rows = torch.tensor([0,0,0,1,1,1,2,2,3,3,4,4,4])\n",
    "cols = torch.tensor([0,1,5,0,1,5,2,3,2,3,0,1,5])\n",
    "vals = torch.stack([\n",
    "    cx, sx, dx/beta,\n",
    "    -kx2*sx, cx, sx*hx/beta,\n",
    "    cy, sy,\n",
    "    -ky2*sy, cy,\n",
    "    sx*hx/beta, dx/beta, r56\n",
    "])\n",
    "R.index_put_((rows, cols), vals, accumulate=False)  # single kernel, autograd-safe"
   ]
  },
  {
   "cell_type": "code",
   "execution_count": 18,
   "id": "b625f9b6",
   "metadata": {},
   "outputs": [
    {
     "name": "stdout",
     "output_type": "stream",
     "text": [
      "28.3 μs ± 135 ns per loop (mean ± std. dev. of 7 runs, 10,000 loops each)\n"
     ]
    }
   ],
   "source": [
    "%%timeit\n",
    "R = torch.eye(7)\n",
    "rows = [0,0,0,1,1,1,2,2,3,3,4,4,4]\n",
    "cols = [0,1,5,0,1,5,2,3,2,3,0,1,5]\n",
    "vals = torch.stack([\n",
    "    cx, sx, dx/beta,\n",
    "    -kx2*sx, cx, sx*hx/beta,\n",
    "    cy, sy,\n",
    "    -ky2*sy, cy,\n",
    "    sx*hx/beta, dx/beta, r56\n",
    "])\n",
    "R[rows, cols] = vals  # single kernel, autograd-safe\n"
   ]
  },
  {
   "cell_type": "code",
   "execution_count": 19,
   "id": "9c3d2d45",
   "metadata": {},
   "outputs": [],
   "source": [
    "# Build once (e.g., module __init__)\n",
    "def make_basis(dtype, device):\n",
    "    B = torch.zeros(10, 7, 7, dtype=dtype, device=device)\n",
    "    # 0: cx -> (0,0), (1,1)\n",
    "    B[0, 0, 0] = 1\n",
    "    B[0, 1, 1] = 1\n",
    "    # 1: sx -> (0,1)\n",
    "    B[1, 0, 1] = 1\n",
    "    # 2: -kx2*sx -> (1,0)\n",
    "    B[2, 1, 0] = 1\n",
    "    # 3: cy -> (2,2), (3,3)\n",
    "    B[3, 2, 2] = 1\n",
    "    B[3, 3, 3] = 1\n",
    "    # 4: sy -> (2,3)\n",
    "    B[4, 2, 3] = 1\n",
    "    # 5: -ky2*sy -> (3,2)\n",
    "    B[5, 3, 2] = 1\n",
    "    # 6: dx/beta -> (0,5), (4,1)\n",
    "    B[6, 0, 5] = 1\n",
    "    B[6, 4, 1] = 1\n",
    "    # 7: sx*hx/beta -> (1,5), (4,0)\n",
    "    B[7, 1, 5] = 1\n",
    "    B[7, 4, 0] = 1\n",
    "    # 8: r56 -> (4,5)\n",
    "    B[8, 4, 5] = 1\n",
    "    # 9: constant ones -> (4,4), (5,5), (6,6)\n",
    "    B[9, 4, 4] = 1\n",
    "    B[9, 5, 5] = 1\n",
    "    B[9, 6, 6] = 1\n",
    "    return B\n",
    "\n",
    "\n",
    "# call-time (autograd-safe, single fused op)\n",
    "def build_R(cx, sx, dx, beta, kx2, cy, sy, ky2, hx, r56, B):\n",
    "    one = cx.new_ones(())\n",
    "    s = torch.stack(\n",
    "        [\n",
    "            cx,  # 0\n",
    "            sx,  # 1\n",
    "            -kx2 * sx,  # 2\n",
    "            cy,  # 3\n",
    "            sy,  # 4\n",
    "            -ky2 * sy,  # 5\n",
    "            dx / beta,  # 6\n",
    "            sx * hx / beta,  # 7\n",
    "            r56,  # 8\n",
    "            one,  # 9 (constant)\n",
    "        ]\n",
    "    )\n",
    "    # single kernel does the whole linear combo\n",
    "    R = torch.tensordot(s, B, dims=([0], [0]))  # shape [7, 7]\n",
    "    return R"
   ]
  },
  {
   "cell_type": "code",
   "execution_count": 20,
   "id": "d42059dd",
   "metadata": {},
   "outputs": [],
   "source": [
    "B = make_basis(dtype=cx.dtype, device=cx.device)\n",
    "one = cx.new_ones(())"
   ]
  },
  {
   "cell_type": "code",
   "execution_count": 21,
   "id": "80797452",
   "metadata": {},
   "outputs": [
    {
     "name": "stdout",
     "output_type": "stream",
     "text": [
      "20.6 μs ± 87.9 ns per loop (mean ± std. dev. of 7 runs, 10,000 loops each)\n"
     ]
    }
   ],
   "source": [
    "%%timeit\n",
    "s = torch.stack(\n",
    "    [\n",
    "        cx,  # 0\n",
    "        sx,  # 1\n",
    "        -kx2 * sx,  # 2\n",
    "        cy,  # 3\n",
    "        sy,  # 4\n",
    "        -ky2 * sy,  # 5\n",
    "        dx / beta,  # 6\n",
    "        sx * hx / beta,  # 7\n",
    "        r56,  # 8\n",
    "        one,  # 9 (constant)\n",
    "    ]\n",
    ")\n",
    "# single kernel does the whole linear combo\n",
    "R = torch.tensordot(s, B, dims=([0], [0]))  # shape [7, 7]"
   ]
  },
  {
   "cell_type": "code",
   "execution_count": 22,
   "id": "f4ba0284",
   "metadata": {},
   "outputs": [],
   "source": [
    "class MyNormalClass:\n",
    "    def __init__(self, value: torch.Tensor):\n",
    "        self.value = value\n",
    "\n",
    "\n",
    "class MyModuleClass(torch.nn.Module):\n",
    "    def __init__(self, value: torch.Tensor):\n",
    "        super().__init__()\n",
    "        self.value = value"
   ]
  },
  {
   "cell_type": "code",
   "execution_count": 23,
   "id": "f07733c2",
   "metadata": {},
   "outputs": [
    {
     "name": "stdout",
     "output_type": "stream",
     "text": [
      "2.09 μs ± 275 ns per loop (mean ± std. dev. of 7 runs, 1,000,000 loops each)\n"
     ]
    }
   ],
   "source": [
    "%%timeit\n",
    "obj = MyNormalClass(value=torch.tensor(1.0))"
   ]
  },
  {
   "cell_type": "code",
   "execution_count": 24,
   "id": "6daf1d29",
   "metadata": {},
   "outputs": [
    {
     "name": "stdout",
     "output_type": "stream",
     "text": [
      "5.73 μs ± 31.4 ns per loop (mean ± std. dev. of 7 runs, 100,000 loops each)\n"
     ]
    }
   ],
   "source": [
    "%%timeit\n",
    "obj = MyModuleClass(value=torch.tensor(1.0))"
   ]
  },
  {
   "cell_type": "code",
   "execution_count": null,
   "id": "398c26bd",
   "metadata": {},
   "outputs": [],
   "source": []
  }
 ],
 "metadata": {
  "kernelspec": {
   "display_name": "cheetah-dev",
   "language": "python",
   "name": "python3"
  },
  "language_info": {
   "codemirror_mode": {
    "name": "ipython",
    "version": 3
   },
   "file_extension": ".py",
   "mimetype": "text/x-python",
   "name": "python",
   "nbconvert_exporter": "python",
   "pygments_lexer": "ipython3",
   "version": "3.13.5"
  }
 },
 "nbformat": 4,
 "nbformat_minor": 5
}
