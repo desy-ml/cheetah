{
 "cells": [
  {
   "cell_type": "code",
   "execution_count": 1,
   "id": "ef4ab4c6",
   "metadata": {},
   "outputs": [],
   "source": [
    "import torch\n",
    "import cheetah"
   ]
  },
  {
   "cell_type": "code",
   "execution_count": 2,
   "id": "7f76927b",
   "metadata": {},
   "outputs": [],
   "source": [
    "k1 = torch.linspace(torch.tensor(-1.0), torch.tensor(1.0), steps=101)\n",
    "# k1 = torch.zeros(101)\n",
    "hx = torch.tensor(0.0)\n",
    "tilt = torch.tensor(1.0)\n",
    "length = torch.tensor(1.0)\n",
    "species = cheetah.Species(name=\"electron\")"
   ]
  },
  {
   "cell_type": "code",
   "execution_count": 3,
   "id": "30265a95",
   "metadata": {},
   "outputs": [
    {
     "data": {
      "text/plain": [
       "tensor([[ 1.0000e+00,  1.0000e+00,  9.3208e-09,  9.3208e-09,  0.0000e+00,\n",
       "          0.0000e+00,  0.0000e+00],\n",
       "        [ 9.3016e-09,  1.0000e+00, -2.0324e-08,  9.3208e-09,  0.0000e+00,\n",
       "          0.0000e+00,  0.0000e+00],\n",
       "        [ 9.3208e-09,  9.3208e-09,  1.0000e+00,  1.0000e+00,  0.0000e+00,\n",
       "          0.0000e+00,  0.0000e+00],\n",
       "        [-2.0324e-08,  9.3208e-09, -9.3016e-09,  1.0000e+00,  0.0000e+00,\n",
       "          0.0000e+00,  0.0000e+00],\n",
       "        [ 0.0000e+00,  0.0000e+00,  0.0000e+00,  0.0000e+00,  1.0000e+00,\n",
       "          0.0000e+00,  0.0000e+00],\n",
       "        [ 0.0000e+00,  0.0000e+00,  0.0000e+00,  0.0000e+00,  0.0000e+00,\n",
       "          1.0000e+00,  0.0000e+00],\n",
       "        [ 0.0000e+00,  0.0000e+00,  0.0000e+00,  0.0000e+00,  0.0000e+00,\n",
       "          0.0000e+00,  1.0000e+00]])"
      ]
     },
     "execution_count": 3,
     "metadata": {},
     "output_type": "execute_result"
    }
   ],
   "source": [
    "cheetah.track_methods.base_rmatrix(\n",
    "    k1=k1, hx=hx, tilt=tilt, species=species, length=length\n",
    ")[50]"
   ]
  },
  {
   "cell_type": "code",
   "execution_count": 4,
   "id": "f7ffb8c2",
   "metadata": {},
   "outputs": [
    {
     "data": {
      "text/plain": [
       "tensor([[ 1.0000e+00,  1.0000e+00,  9.3208e-09,  9.3208e-09,  0.0000e+00,\n",
       "          0.0000e+00,  0.0000e+00],\n",
       "        [ 9.3016e-09,  1.0000e+00, -2.0324e-08,  9.3208e-09,  0.0000e+00,\n",
       "          0.0000e+00,  0.0000e+00],\n",
       "        [ 9.3208e-09,  9.3208e-09,  1.0000e+00,  1.0000e+00,  0.0000e+00,\n",
       "          0.0000e+00,  0.0000e+00],\n",
       "        [-2.0324e-08,  9.3208e-09, -9.3016e-09,  1.0000e+00,  0.0000e+00,\n",
       "          0.0000e+00,  0.0000e+00],\n",
       "        [ 0.0000e+00,  0.0000e+00,  0.0000e+00,  0.0000e+00,  1.0000e+00,\n",
       "          0.0000e+00,  0.0000e+00],\n",
       "        [ 0.0000e+00,  0.0000e+00,  0.0000e+00,  0.0000e+00,  0.0000e+00,\n",
       "          1.0000e+00,  0.0000e+00],\n",
       "        [ 0.0000e+00,  0.0000e+00,  0.0000e+00,  0.0000e+00,  0.0000e+00,\n",
       "          0.0000e+00,  1.0000e+00]])"
      ]
     },
     "execution_count": 4,
     "metadata": {},
     "output_type": "execute_result"
    }
   ],
   "source": [
    "cheetah.track_methods.base_rmatrix2(\n",
    "    k1=k1, hx=hx, tilt=tilt, species=species, length=length\n",
    ")[50]"
   ]
  },
  {
   "cell_type": "code",
   "execution_count": 5,
   "id": "26ca5c28",
   "metadata": {},
   "outputs": [
    {
     "data": {
      "text/plain": [
       "tensor([[ 1.0000e+00,  1.0000e+00,  9.3208e-09,  9.3208e-09,  0.0000e+00,\n",
       "          0.0000e+00,  0.0000e+00],\n",
       "        [ 9.3016e-09,  1.0000e+00, -2.0324e-08,  9.3208e-09,  0.0000e+00,\n",
       "          0.0000e+00,  0.0000e+00],\n",
       "        [ 9.3208e-09,  9.3208e-09,  1.0000e+00,  1.0000e+00,  0.0000e+00,\n",
       "          0.0000e+00,  0.0000e+00],\n",
       "        [-2.0324e-08,  9.3208e-09, -9.3016e-09,  1.0000e+00,  0.0000e+00,\n",
       "          0.0000e+00,  0.0000e+00],\n",
       "        [ 0.0000e+00,  0.0000e+00,  0.0000e+00,  0.0000e+00,  1.0000e+00,\n",
       "          0.0000e+00,  0.0000e+00],\n",
       "        [ 0.0000e+00,  0.0000e+00,  0.0000e+00,  0.0000e+00,  0.0000e+00,\n",
       "          1.0000e+00,  0.0000e+00],\n",
       "        [ 0.0000e+00,  0.0000e+00,  0.0000e+00,  0.0000e+00,  0.0000e+00,\n",
       "          0.0000e+00,  1.0000e+00]])"
      ]
     },
     "execution_count": 5,
     "metadata": {},
     "output_type": "execute_result"
    }
   ],
   "source": [
    "cheetah.track_methods.base_rmatrix3(\n",
    "    k1=k1, hx=hx, tilt=tilt, species=species, length=length\n",
    ")[50]"
   ]
  },
  {
   "cell_type": "code",
   "execution_count": 6,
   "id": "9b1b8a8d",
   "metadata": {},
   "outputs": [
    {
     "data": {
      "text/plain": [
       "tensor([[ 1.0000e+00,  1.0000e+00,  9.3208e-09,  9.3208e-09,  0.0000e+00,\n",
       "          0.0000e+00,  0.0000e+00],\n",
       "        [ 9.3016e-09,  1.0000e+00, -2.0324e-08,  9.3208e-09,  0.0000e+00,\n",
       "          0.0000e+00,  0.0000e+00],\n",
       "        [ 9.3208e-09,  9.3208e-09,  1.0000e+00,  1.0000e+00,  0.0000e+00,\n",
       "          0.0000e+00,  0.0000e+00],\n",
       "        [-2.0324e-08,  9.3208e-09, -9.3016e-09,  1.0000e+00,  0.0000e+00,\n",
       "          0.0000e+00,  0.0000e+00],\n",
       "        [ 0.0000e+00,  0.0000e+00,  0.0000e+00,  0.0000e+00,  1.0000e+00,\n",
       "          0.0000e+00,  0.0000e+00],\n",
       "        [ 0.0000e+00,  0.0000e+00,  0.0000e+00,  0.0000e+00,  0.0000e+00,\n",
       "          1.0000e+00,  0.0000e+00],\n",
       "        [ 0.0000e+00,  0.0000e+00,  0.0000e+00,  0.0000e+00,  0.0000e+00,\n",
       "          0.0000e+00,  1.0000e+00]])"
      ]
     },
     "execution_count": 6,
     "metadata": {},
     "output_type": "execute_result"
    }
   ],
   "source": [
    "cheetah.track_methods.base_rmatrix4(\n",
    "    k1=k1, hx=hx, tilt=tilt, species=species, length=length\n",
    ")[50]"
   ]
  },
  {
   "cell_type": "code",
   "execution_count": 7,
   "id": "4b9618f5",
   "metadata": {},
   "outputs": [
    {
     "name": "stdout",
     "output_type": "stream",
     "text": [
      "336 μs ± 2.77 μs per loop (mean ± std. dev. of 7 runs, 1,000 loops each)\n"
     ]
    }
   ],
   "source": [
    "%%timeit\n",
    "R = cheetah.track_methods.base_rmatrix(\n",
    "    k1=k1, hx=hx, tilt=tilt, species=species, length=length\n",
    ")"
   ]
  },
  {
   "cell_type": "code",
   "execution_count": 8,
   "id": "6d750871",
   "metadata": {},
   "outputs": [
    {
     "name": "stdout",
     "output_type": "stream",
     "text": [
      "323 μs ± 802 ns per loop (mean ± std. dev. of 7 runs, 1,000 loops each)\n"
     ]
    }
   ],
   "source": [
    "%%timeit\n",
    "R = cheetah.track_methods.base_rmatrix2(\n",
    "    k1=k1, hx=hx, tilt=tilt, species=species, length=length\n",
    ")"
   ]
  },
  {
   "cell_type": "code",
   "execution_count": 9,
   "id": "1e00aa29",
   "metadata": {},
   "outputs": [
    {
     "name": "stdout",
     "output_type": "stream",
     "text": [
      "302 μs ± 2.7 μs per loop (mean ± std. dev. of 7 runs, 1,000 loops each)\n"
     ]
    }
   ],
   "source": [
    "%%timeit\n",
    "R = cheetah.track_methods.base_rmatrix3(\n",
    "    k1=k1, hx=hx, tilt=tilt, species=species, length=length\n",
    ")"
   ]
  },
  {
   "cell_type": "code",
   "execution_count": 10,
   "id": "f0f1e3a1",
   "metadata": {},
   "outputs": [
    {
     "name": "stdout",
     "output_type": "stream",
     "text": [
      "319 μs ± 2.1 μs per loop (mean ± std. dev. of 7 runs, 1,000 loops each)\n"
     ]
    }
   ],
   "source": [
    "%%timeit\n",
    "R = cheetah.track_methods.base_rmatrix4(\n",
    "    k1=k1, hx=hx, tilt=tilt, species=species, length=length\n",
    ")"
   ]
  },
  {
   "cell_type": "code",
   "execution_count": null,
   "id": "8e937517",
   "metadata": {},
   "outputs": [],
   "source": []
  }
 ],
 "metadata": {
  "kernelspec": {
   "display_name": "cheetah-dev",
   "language": "python",
   "name": "python3"
  },
  "language_info": {
   "codemirror_mode": {
    "name": "ipython",
    "version": 3
   },
   "file_extension": ".py",
   "mimetype": "text/x-python",
   "name": "python",
   "nbconvert_exporter": "python",
   "pygments_lexer": "ipython3",
   "version": "3.13.5"
  }
 },
 "nbformat": 4,
 "nbformat_minor": 5
}
