{
 "cells": [
  {
   "cell_type": "code",
   "execution_count": 1,
   "id": "ef4ab4c6",
   "metadata": {},
   "outputs": [],
   "source": [
    "import torch\n",
    "import cheetah"
   ]
  },
  {
   "cell_type": "code",
   "execution_count": null,
   "id": "7f76927b",
   "metadata": {},
   "outputs": [],
   "source": [
    "k1 = torch.linspace(torch.tensor(-1.0), torch.tensor(1.0), steps=101)\n",
    "# k1 = torch.zeros(101)\n",
    "hx = torch.tensor(0.0)\n",
    "tilt = torch.tensor(1.0)\n",
    "length = torch.tensor(1.0)\n",
    "species = cheetah.Species(name=\"electron\")"
   ]
  },
  {
   "cell_type": "code",
   "execution_count": 3,
   "id": "30265a95",
   "metadata": {},
   "outputs": [
    {
     "data": {
      "text/plain": [
       "tensor([[1., 1., 0., 0., 0., 0., 0.],\n",
       "        [-0., 1., 0., 0., 0., 0., 0.],\n",
       "        [0., 0., 1., 1., 0., 0., 0.],\n",
       "        [0., 0., 0., 1., 0., 0., 0.],\n",
       "        [0., 0., 0., 0., 1., 0., 0.],\n",
       "        [0., 0., 0., 0., 0., 1., 0.],\n",
       "        [0., 0., 0., 0., 0., 0., 1.]])"
      ]
     },
     "execution_count": 3,
     "metadata": {},
     "output_type": "execute_result"
    }
   ],
   "source": [
    "cheetah.track_methods.base_rmatrix(\n",
    "    k1=k1, hx=hx, tilt=tilt, species=species, length=length\n",
    ")[50]"
   ]
  },
  {
   "cell_type": "code",
   "execution_count": 4,
   "id": "f7ffb8c2",
   "metadata": {},
   "outputs": [
    {
     "data": {
      "text/plain": [
       "tensor([[1., 1., 0., 0., 0., 0., 0.],\n",
       "        [-0., 1., 0., 0., 0., 0., 0.],\n",
       "        [0., 0., 1., 1., 0., 0., 0.],\n",
       "        [0., 0., 0., 1., 0., 0., 0.],\n",
       "        [0., 0., 0., 0., 1., 0., 0.],\n",
       "        [0., 0., 0., 0., 0., 1., 0.],\n",
       "        [0., 0., 0., 0., 0., 0., 1.]])"
      ]
     },
     "execution_count": 4,
     "metadata": {},
     "output_type": "execute_result"
    }
   ],
   "source": [
    "cheetah.track_methods.base_rmatrix2(\n",
    "    k1=k1, hx=hx, tilt=tilt, species=species, length=length\n",
    ")[50]"
   ]
  },
  {
   "cell_type": "code",
   "execution_count": 5,
   "id": "26ca5c28",
   "metadata": {},
   "outputs": [
    {
     "data": {
      "text/plain": [
       "tensor([[ 1.0000e+00,  1.0000e+00, -5.0284e-08, -1.8079e-08,  0.0000e+00,\n",
       "          0.0000e+00,  0.0000e+00],\n",
       "        [ 4.9609e-08,  1.0000e+00, -1.0840e-07, -5.0284e-08,  0.0000e+00,\n",
       "          0.0000e+00,  0.0000e+00],\n",
       "        [-2.0481e-08,  2.9674e-08,  1.0000e+00,  1.0000e+00,  0.0000e+00,\n",
       "          0.0000e+00,  0.0000e+00],\n",
       "        [-1.0840e-07, -2.0481e-08, -4.9609e-08,  1.0000e+00,  0.0000e+00,\n",
       "          0.0000e+00,  0.0000e+00],\n",
       "        [ 0.0000e+00,  0.0000e+00,  0.0000e+00,  0.0000e+00,  1.0000e+00,\n",
       "          0.0000e+00,  0.0000e+00],\n",
       "        [ 0.0000e+00,  0.0000e+00,  0.0000e+00,  0.0000e+00,  0.0000e+00,\n",
       "          1.0000e+00,  0.0000e+00],\n",
       "        [ 0.0000e+00,  0.0000e+00,  0.0000e+00,  0.0000e+00,  0.0000e+00,\n",
       "          0.0000e+00,  1.0000e+00]])"
      ]
     },
     "execution_count": 5,
     "metadata": {},
     "output_type": "execute_result"
    }
   ],
   "source": [
    "cheetah.track_methods.base_rmatrix3(\n",
    "    k1=k1, hx=hx, tilt=tilt, species=species, length=length\n",
    ")[50]"
   ]
  },
  {
   "cell_type": "code",
   "execution_count": 6,
   "id": "9b1b8a8d",
   "metadata": {},
   "outputs": [
    {
     "data": {
      "text/plain": [
       "tensor([[1., 1., 0., 0., 0., 0., 0.],\n",
       "        [-0., 1., 0., 0., 0., 0., 0.],\n",
       "        [0., 0., 1., 1., 0., 0., 0.],\n",
       "        [0., 0., 0., 1., 0., 0., 0.],\n",
       "        [0., 0., 0., 0., 1., 0., 0.],\n",
       "        [0., 0., 0., 0., 0., 1., 0.],\n",
       "        [0., 0., 0., 0., 0., 0., 1.]])"
      ]
     },
     "execution_count": 6,
     "metadata": {},
     "output_type": "execute_result"
    }
   ],
   "source": [
    "cheetah.track_methods.base_rmatrix4(\n",
    "    k1=k1, hx=hx, tilt=tilt, species=species, length=length\n",
    ")[50]"
   ]
  },
  {
   "cell_type": "code",
   "execution_count": 7,
   "id": "4b9618f5",
   "metadata": {},
   "outputs": [
    {
     "name": "stdout",
     "output_type": "stream",
     "text": [
      "158 μs ± 346 ns per loop (mean ± std. dev. of 7 runs, 10,000 loops each)\n"
     ]
    }
   ],
   "source": [
    "%%timeit\n",
    "R = cheetah.track_methods.base_rmatrix(\n",
    "    k1=k1, hx=hx, tilt=tilt, species=species, length=length\n",
    ")"
   ]
  },
  {
   "cell_type": "code",
   "execution_count": 8,
   "id": "6d750871",
   "metadata": {},
   "outputs": [
    {
     "name": "stdout",
     "output_type": "stream",
     "text": [
      "276 μs ± 725 ns per loop (mean ± std. dev. of 7 runs, 1,000 loops each)\n"
     ]
    }
   ],
   "source": [
    "%%timeit\n",
    "R = cheetah.track_methods.base_rmatrix2(\n",
    "    k1=k1, hx=hx, tilt=tilt, species=species, length=length\n",
    ")"
   ]
  },
  {
   "cell_type": "code",
   "execution_count": 9,
   "id": "1e00aa29",
   "metadata": {},
   "outputs": [
    {
     "name": "stdout",
     "output_type": "stream",
     "text": [
      "261 μs ± 1.18 μs per loop (mean ± std. dev. of 7 runs, 1,000 loops each)\n"
     ]
    }
   ],
   "source": [
    "%%timeit\n",
    "R = cheetah.track_methods.base_rmatrix3(\n",
    "    k1=k1, hx=hx, tilt=tilt, species=species, length=length\n",
    ")"
   ]
  },
  {
   "cell_type": "code",
   "execution_count": 10,
   "id": "f0f1e3a1",
   "metadata": {},
   "outputs": [
    {
     "name": "stdout",
     "output_type": "stream",
     "text": [
      "158 μs ± 496 ns per loop (mean ± std. dev. of 7 runs, 10,000 loops each)\n"
     ]
    }
   ],
   "source": [
    "%%timeit\n",
    "R = cheetah.track_methods.base_rmatrix4(\n",
    "    k1=k1, hx=hx, tilt=tilt, species=species, length=length\n",
    ")"
   ]
  },
  {
   "cell_type": "code",
   "execution_count": null,
   "id": "8e937517",
   "metadata": {},
   "outputs": [],
   "source": []
  }
 ],
 "metadata": {
  "kernelspec": {
   "display_name": "cheetah-dev",
   "language": "python",
   "name": "python3"
  },
  "language_info": {
   "codemirror_mode": {
    "name": "ipython",
    "version": 3
   },
   "file_extension": ".py",
   "mimetype": "text/x-python",
   "name": "python",
   "nbconvert_exporter": "python",
   "pygments_lexer": "ipython3",
   "version": "3.13.5"
  }
 },
 "nbformat": 4,
 "nbformat_minor": 5
}
