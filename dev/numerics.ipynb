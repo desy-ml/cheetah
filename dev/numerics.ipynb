{
 "cells": [
  {
   "cell_type": "code",
   "execution_count": 1,
   "id": "ef4ab4c6",
   "metadata": {},
   "outputs": [],
   "source": [
    "import torch\n",
    "import cheetah"
   ]
  },
  {
   "cell_type": "code",
   "execution_count": 2,
   "id": "7f76927b",
   "metadata": {},
   "outputs": [],
   "source": [
    "k1 = torch.linspace(torch.tensor(-1.0), torch.tensor(1.0), steps=101)\n",
    "hx = torch.tensor(1.0)\n",
    "tilt = torch.tensor(1.0)\n",
    "length = torch.tensor(1.0)\n",
    "species = cheetah.Species(name=\"electron\")"
   ]
  },
  {
   "cell_type": "code",
   "execution_count": 3,
   "id": "30265a95",
   "metadata": {},
   "outputs": [
    {
     "data": {
      "text/plain": [
       "tensor([[ 0.8658,  0.9537, -0.2090, -0.0721,  0.0000,  0.2484,  0.0000],\n",
       "        [-0.2456,  0.8658, -0.3826, -0.2090,  0.0000,  0.4546,  0.0000],\n",
       "        [-0.2090, -0.0721,  0.6745,  0.8877,  0.0000,  0.3868,  0.0000],\n",
       "        [-0.3826, -0.2090, -0.5958,  0.6745,  0.0000,  0.7081,  0.0000],\n",
       "        [ 0.4546,  0.2484,  0.7081,  0.3868,  1.0000,  0.1585,  0.0000],\n",
       "        [ 0.0000,  0.0000,  0.0000,  0.0000,  0.0000,  1.0000,  0.0000],\n",
       "        [ 0.0000,  0.0000,  0.0000,  0.0000,  0.0000,  0.0000,  1.0000]])"
      ]
     },
     "execution_count": 3,
     "metadata": {},
     "output_type": "execute_result"
    }
   ],
   "source": [
    "cheetah.track_methods.base_rmatrix(k1=k1, hx=hx, tilt=tilt, species=species, length=length)[50]"
   ]
  },
  {
   "cell_type": "code",
   "execution_count": 4,
   "id": "f7ffb8c2",
   "metadata": {},
   "outputs": [
    {
     "data": {
      "text/plain": [
       "tensor([[ 0.8658,  0.9537, -0.2090, -0.0721,  0.0000,  0.2484,  0.0000],\n",
       "        [-0.2456,  0.8658, -0.3826, -0.2090,  0.0000,  0.4546,  0.0000],\n",
       "        [-0.2090, -0.0721,  0.6745,  0.8877,  0.0000,  0.3868,  0.0000],\n",
       "        [-0.3826, -0.2090, -0.5958,  0.6745,  0.0000,  0.7081,  0.0000],\n",
       "        [ 0.4546,  0.2484,  0.7081,  0.3868,  1.0000,  0.1585,  0.0000],\n",
       "        [ 0.0000,  0.0000,  0.0000,  0.0000,  0.0000,  1.0000,  0.0000],\n",
       "        [ 0.0000,  0.0000,  0.0000,  0.0000,  0.0000,  0.0000,  1.0000]])"
      ]
     },
     "execution_count": 4,
     "metadata": {},
     "output_type": "execute_result"
    }
   ],
   "source": [
    "cheetah.track_methods.base_rmatrix2(k1=k1, hx=hx, tilt=tilt, species=species, length=length)[50]"
   ]
  },
  {
   "cell_type": "code",
   "execution_count": 7,
   "id": "4b9618f5",
   "metadata": {},
   "outputs": [
    {
     "name": "stdout",
     "output_type": "stream",
     "text": [
      "278 μs ± 8.16 μs per loop (mean ± std. dev. of 7 runs, 1,000 loops each)\n"
     ]
    }
   ],
   "source": [
    "%%timeit\n",
    "R = cheetah.track_methods.base_rmatrix(k1, hx, tilt, species)"
   ]
  },
  {
   "cell_type": "code",
   "execution_count": 8,
   "id": "6d750871",
   "metadata": {},
   "outputs": [
    {
     "name": "stdout",
     "output_type": "stream",
     "text": [
      "565 μs ± 36.9 μs per loop (mean ± std. dev. of 7 runs, 1,000 loops each)\n"
     ]
    }
   ],
   "source": [
    "%%timeit\n",
    "R = cheetah.track_methods.base_rmatrix2(k1, hx, tilt, species)"
   ]
  }
 ],
 "metadata": {
  "kernelspec": {
   "display_name": "cheetah-dev",
   "language": "python",
   "name": "python3"
  },
  "language_info": {
   "codemirror_mode": {
    "name": "ipython",
    "version": 3
   },
   "file_extension": ".py",
   "mimetype": "text/x-python",
   "name": "python",
   "nbconvert_exporter": "python",
   "pygments_lexer": "ipython3",
   "version": "3.13.2"
  }
 },
 "nbformat": 4,
 "nbformat_minor": 5
}
