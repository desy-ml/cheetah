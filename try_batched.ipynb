{
 "cells": [
  {
   "cell_type": "code",
   "execution_count": 1,
   "metadata": {},
   "outputs": [],
   "source": [
    "import torch\n",
    "\n",
    "import cheetah"
   ]
  },
  {
   "cell_type": "code",
   "execution_count": 2,
   "metadata": {},
   "outputs": [
    {
     "data": {
      "text/plain": [
       "ParameterBeam(mu_x=tensor([0., 0.]), mu_xp=tensor([0., 0.]), mu_y=tensor([0., 0.]), mu_yp=tensor([0., 0.]), sigma_x=tensor([6.6517e-06, 7.0356e-06]), sigma_xp=tensor([1.7005e-07, 9.5611e-08]), sigma_y=tensor([3.5642e-07, 2.4495e-07]), sigma_yp=tensor([1.2088e-08, 4.5644e-09]), sigma_s=tensor([1.0000e-06, 1.0000e-06]), sigma_p=tensor([1.0000e-06, 1.0000e-06]), energy=tensor([1.5000e+08, 1.4600e+10])), total_charge=tensor([1.0000e-12, 4.0000e-12]))"
      ]
     },
     "execution_count": 2,
     "metadata": {},
     "output_type": "execute_result"
    }
   ],
   "source": [
    "# parameter_beam = cheetah.ParameterBeam.from_parameters(\n",
    "#     mu_x=torch.tensor([0.0, 1e-6]),\n",
    "#     sigma_x=torch.tensor([175e-9, 42e-8]),\n",
    "#     total_charge=torch.tensor([1e-12, 2e-12]),\n",
    "# )\n",
    "parameter_beam = cheetah.ParameterBeam.from_twiss(\n",
    "    beta_x=torch.tensor([61.47503078, 99.0]),\n",
    "    alpha_x=torch.tensor([-1.21242463, -0.9]),\n",
    "    emittance_x=torch.tensor([7.1971891e-13, 5.0e-13]),\n",
    "    beta_y=torch.tensor([35.41897281, 60.0]),\n",
    "    alpha_y=torch.tensor([0.66554622, 0.5]),\n",
    "    emittance_y=torch.tensor([3.5866484e-15, 1.0e-15]),\n",
    "    total_charge=torch.tensor([1e-12, 4e-12]),\n",
    "    energy=torch.tensor([150e6, 14.6e9]),\n",
    ")\n",
    "# parameter_beam = cheetah.ParameterBeam.from_astra(\n",
    "#     \"tests/resources/ACHIP_EA1_2021.1351.001\"\n",
    "# )\n",
    "parameter_beam"
   ]
  },
  {
   "cell_type": "code",
   "execution_count": 3,
   "metadata": {},
   "outputs": [
    {
     "data": {
      "text/plain": [
       "ParticleBeam(n=1000000, mu_x=tensor([ 3.3322e-09, -2.7834e-09]), mu_xp=tensor([1.0935e-10, 9.1585e-11]), mu_y=tensor([-3.1717e-10,  2.9709e-10]), mu_yp=tensor([9.1539e-12, 2.8956e-12]), sigma_x=tensor([6.6456e-06, 7.0396e-06]), sigma_xp=tensor([1.6993e-07, 9.5683e-08]), sigma_y=tensor([3.5651e-07, 2.4499e-07]), sigma_yp=tensor([1.2082e-08, 4.5617e-09]), sigma_s=tensor([1.0004e-06, 9.9959e-07]), sigma_p=tensor([1.0002e-06, 9.9960e-07]), energy=tensor([100000000., 100000000.])) total_charge=tensor([1.0000e-12, 4.0000e-12]))"
      ]
     },
     "execution_count": 3,
     "metadata": {},
     "output_type": "execute_result"
    }
   ],
   "source": [
    "# particle_beam = cheetah.ParticleBeam.from_parameters(\n",
    "#     mu_x=torch.tensor([0.0, 1e-6]),\n",
    "#     sigma_x=torch.tensor([175e-9, 42e-8]),\n",
    "#     total_charge=torch.tensor([1e-12, 2e-12]),\n",
    "# )\n",
    "particle_beam = cheetah.ParticleBeam.from_twiss(\n",
    "    beta_x=torch.tensor([61.47503078, 99.0]),\n",
    "    alpha_x=torch.tensor([-1.21242463, -0.9]),\n",
    "    emittance_x=torch.tensor([7.1971891e-13, 5.0e-13]),\n",
    "    beta_y=torch.tensor([35.41897281, 60.0]),\n",
    "    alpha_y=torch.tensor([0.66554622, 0.5]),\n",
    "    emittance_y=torch.tensor([3.5866484e-15, 1.0e-15]),\n",
    "    total_charge=torch.tensor([1e-12, 4e-12]),\n",
    ")\n",
    "# particle_beam = cheetah.ParticleBeam.from_astra(\n",
    "#     \"tests/resources/ACHIP_EA1_2021.1351.001\"\n",
    "# )\n",
    "particle_beam"
   ]
  },
  {
   "cell_type": "code",
   "execution_count": 4,
   "metadata": {},
   "outputs": [
    {
     "data": {
      "text/plain": [
       "1000000"
      ]
     },
     "execution_count": 4,
     "metadata": {},
     "output_type": "execute_result"
    }
   ],
   "source": [
    "particle_beam.num_particles"
   ]
  },
  {
   "cell_type": "code",
   "execution_count": 5,
   "metadata": {},
   "outputs": [
    {
     "data": {
      "text/plain": [
       "tensor([1.0000e-12, 4.0000e-12])"
      ]
     },
     "execution_count": 5,
     "metadata": {},
     "output_type": "execute_result"
    }
   ],
   "source": [
    "parameter_beam.total_charge"
   ]
  },
  {
   "cell_type": "code",
   "execution_count": 6,
   "metadata": {},
   "outputs": [
    {
     "data": {
      "text/plain": [
       "tensor([1.0000e-12, 4.0000e-12])"
      ]
     },
     "execution_count": 6,
     "metadata": {},
     "output_type": "execute_result"
    }
   ],
   "source": [
    "particle_beam.total_charge"
   ]
  },
  {
   "cell_type": "code",
   "execution_count": 7,
   "metadata": {},
   "outputs": [
    {
     "data": {
      "text/plain": [
       "tensor([0., 0.])"
      ]
     },
     "execution_count": 7,
     "metadata": {},
     "output_type": "execute_result"
    }
   ],
   "source": [
    "parameter_beam.mu_x"
   ]
  },
  {
   "cell_type": "code",
   "execution_count": 8,
   "metadata": {},
   "outputs": [
    {
     "data": {
      "text/plain": [
       "torch.Size([2, 1000000])"
      ]
     },
     "execution_count": 8,
     "metadata": {},
     "output_type": "execute_result"
    }
   ],
   "source": [
    "particle_beam.xs.shape"
   ]
  },
  {
   "cell_type": "code",
   "execution_count": 9,
   "metadata": {},
   "outputs": [
    {
     "data": {
      "text/plain": [
       "tensor([ 3.3322e-09, -2.7834e-09])"
      ]
     },
     "execution_count": 9,
     "metadata": {},
     "output_type": "execute_result"
    }
   ],
   "source": [
    "particle_beam.mu_x"
   ]
  },
  {
   "cell_type": "code",
   "execution_count": 10,
   "metadata": {},
   "outputs": [
    {
     "data": {
      "text/plain": [
       "tensor([6.6517e-06, 7.0356e-06])"
      ]
     },
     "execution_count": 10,
     "metadata": {},
     "output_type": "execute_result"
    }
   ],
   "source": [
    "parameter_beam.sigma_x"
   ]
  },
  {
   "cell_type": "code",
   "execution_count": 11,
   "metadata": {},
   "outputs": [
    {
     "data": {
      "text/plain": [
       "tensor([6.6456e-06, 7.0396e-06])"
      ]
     },
     "execution_count": 11,
     "metadata": {},
     "output_type": "execute_result"
    }
   ],
   "source": [
    "particle_beam.sigma_x"
   ]
  },
  {
   "cell_type": "code",
   "execution_count": 12,
   "metadata": {},
   "outputs": [
    {
     "data": {
      "text/plain": [
       "tensor([[-1.7708e-05,  2.9667e-06, -1.3920e-06,  ..., -2.9523e-06,\n",
       "         -3.2151e-06,  2.9934e-06],\n",
       "        [-6.5897e-07,  8.8356e-06, -1.7795e-06,  ...,  5.8295e-06,\n",
       "          5.0871e-06, -1.0485e-05]])"
      ]
     },
     "execution_count": 12,
     "metadata": {},
     "output_type": "execute_result"
    }
   ],
   "source": [
    "particle_beam.xs"
   ]
  },
  {
   "cell_type": "code",
   "execution_count": 13,
   "metadata": {},
   "outputs": [
    {
     "data": {
      "text/plain": [
       "tensor([[ 3.3322e-09],\n",
       "        [-2.7834e-09]])"
      ]
     },
     "execution_count": 13,
     "metadata": {},
     "output_type": "execute_result"
    }
   ],
   "source": [
    "particle_beam.mu_x.view(-1, 1)"
   ]
  },
  {
   "cell_type": "code",
   "execution_count": 14,
   "metadata": {},
   "outputs": [
    {
     "data": {
      "text/plain": [
       "tensor([[-1.7711e-05,  2.9633e-06, -1.3953e-06,  ..., -2.9557e-06,\n",
       "         -3.2185e-06,  2.9900e-06],\n",
       "        [-6.5619e-07,  8.8384e-06, -1.7767e-06,  ...,  5.8323e-06,\n",
       "          5.0899e-06, -1.0482e-05]])"
      ]
     },
     "execution_count": 14,
     "metadata": {},
     "output_type": "execute_result"
    }
   ],
   "source": [
    "particle_beam.xs - particle_beam.mu_x.view(-1, 1)"
   ]
  },
  {
   "cell_type": "code",
   "execution_count": 15,
   "metadata": {},
   "outputs": [
    {
     "data": {
      "text/plain": [
       "tensor([7.1972e-13, 5.0000e-13])"
      ]
     },
     "execution_count": 15,
     "metadata": {},
     "output_type": "execute_result"
    }
   ],
   "source": [
    "parameter_beam.emittance_x"
   ]
  },
  {
   "cell_type": "code",
   "execution_count": 16,
   "metadata": {},
   "outputs": [
    {
     "data": {
      "text/plain": [
       "tensor([7.1865e-13, 5.0035e-13])"
      ]
     },
     "execution_count": 16,
     "metadata": {},
     "output_type": "execute_result"
    }
   ],
   "source": [
    "particle_beam.emittance_x"
   ]
  },
  {
   "cell_type": "code",
   "execution_count": 17,
   "metadata": {},
   "outputs": [
    {
     "data": {
      "text/plain": [
       "tensor([3.5866e-15, 1.0000e-15])"
      ]
     },
     "execution_count": 17,
     "metadata": {},
     "output_type": "execute_result"
    }
   ],
   "source": [
    "parameter_beam.emittance_y"
   ]
  },
  {
   "cell_type": "code",
   "execution_count": 18,
   "metadata": {},
   "outputs": [
    {
     "data": {
      "text/plain": [
       "tensor([3.5847e-15, 9.9957e-16])"
      ]
     },
     "execution_count": 18,
     "metadata": {},
     "output_type": "execute_result"
    }
   ],
   "source": [
    "particle_beam.emittance_y"
   ]
  },
  {
   "cell_type": "code",
   "execution_count": 19,
   "metadata": {},
   "outputs": [
    {
     "data": {
      "text/plain": [
       "tensor([1.0000, 1.0000])"
      ]
     },
     "execution_count": 19,
     "metadata": {},
     "output_type": "execute_result"
    }
   ],
   "source": [
    "parameter_beam.relativistic_beta"
   ]
  },
  {
   "cell_type": "code",
   "execution_count": 20,
   "metadata": {},
   "outputs": [
    {
     "data": {
      "text/plain": [
       "tensor([1.0000, 1.0000])"
      ]
     },
     "execution_count": 20,
     "metadata": {},
     "output_type": "execute_result"
    }
   ],
   "source": [
    "particle_beam.relativistic_beta"
   ]
  },
  {
   "cell_type": "code",
   "execution_count": 21,
   "metadata": {},
   "outputs": [
    {
     "data": {
      "text/plain": [
       "tensor([2.1127e-10, 1.4286e-08])"
      ]
     },
     "execution_count": 21,
     "metadata": {},
     "output_type": "execute_result"
    }
   ],
   "source": [
    "parameter_beam.normalized_emittance_x"
   ]
  },
  {
   "cell_type": "code",
   "execution_count": 22,
   "metadata": {},
   "outputs": [
    {
     "data": {
      "text/plain": [
       "tensor([1.4063e-10, 9.7914e-11])"
      ]
     },
     "execution_count": 22,
     "metadata": {},
     "output_type": "execute_result"
    }
   ],
   "source": [
    "particle_beam.normalized_emittance_x"
   ]
  },
  {
   "cell_type": "code",
   "execution_count": 23,
   "metadata": {},
   "outputs": [
    {
     "data": {
      "text/plain": [
       "tensor([1.0528e-12, 2.8571e-11])"
      ]
     },
     "execution_count": 23,
     "metadata": {},
     "output_type": "execute_result"
    }
   ],
   "source": [
    "parameter_beam.normalized_emittance_y"
   ]
  },
  {
   "cell_type": "code",
   "execution_count": 24,
   "metadata": {},
   "outputs": [
    {
     "data": {
      "text/plain": [
       "tensor([7.0149e-13, 1.9561e-13])"
      ]
     },
     "execution_count": 24,
     "metadata": {},
     "output_type": "execute_result"
    }
   ],
   "source": [
    "particle_beam.normalized_emittance_y"
   ]
  },
  {
   "cell_type": "code",
   "execution_count": 25,
   "metadata": {},
   "outputs": [
    {
     "data": {
      "text/plain": [
       "{'mu_x': tensor([0., 0.]),\n",
       " 'mu_xp': tensor([0., 0.]),\n",
       " 'mu_y': tensor([0., 0.]),\n",
       " 'mu_yp': tensor([0., 0.]),\n",
       " 'sigma_x': tensor([6.6517e-06, 7.0356e-06]),\n",
       " 'sigma_xp': tensor([1.7005e-07, 9.5611e-08]),\n",
       " 'sigma_y': tensor([3.5642e-07, 2.4495e-07]),\n",
       " 'sigma_yp': tensor([1.2088e-08, 4.5644e-09]),\n",
       " 'sigma_s': tensor([1.0000e-06, 1.0000e-06]),\n",
       " 'sigma_p': tensor([1.0000e-06, 1.0000e-06]),\n",
       " 'energy': tensor([1.5000e+08, 1.4600e+10])}"
      ]
     },
     "execution_count": 25,
     "metadata": {},
     "output_type": "execute_result"
    }
   ],
   "source": [
    "parameter_beam.parameters"
   ]
  },
  {
   "cell_type": "code",
   "execution_count": 26,
   "metadata": {},
   "outputs": [
    {
     "data": {
      "text/plain": [
       "{'mu_x': tensor([ 3.3322e-09, -2.7834e-09]),\n",
       " 'mu_xp': tensor([1.0935e-10, 9.1585e-11]),\n",
       " 'mu_y': tensor([-3.1717e-10,  2.9709e-10]),\n",
       " 'mu_yp': tensor([9.1539e-12, 2.8956e-12]),\n",
       " 'sigma_x': tensor([6.6456e-06, 7.0396e-06]),\n",
       " 'sigma_xp': tensor([1.6993e-07, 9.5683e-08]),\n",
       " 'sigma_y': tensor([3.5651e-07, 2.4499e-07]),\n",
       " 'sigma_yp': tensor([1.2082e-08, 4.5617e-09]),\n",
       " 'sigma_s': tensor([1.0004e-06, 9.9959e-07]),\n",
       " 'sigma_p': tensor([1.0002e-06, 9.9960e-07]),\n",
       " 'energy': tensor([100000000., 100000000.])}"
      ]
     },
     "execution_count": 26,
     "metadata": {},
     "output_type": "execute_result"
    }
   ],
   "source": [
    "particle_beam.parameters"
   ]
  },
  {
   "cell_type": "code",
   "execution_count": 27,
   "metadata": {},
   "outputs": [
    {
     "data": {
      "text/plain": [
       "tensor([  293.5427, 28571.4863])"
      ]
     },
     "execution_count": 27,
     "metadata": {},
     "output_type": "execute_result"
    }
   ],
   "source": [
    "parameter_beam.relativistic_gamma"
   ]
  },
  {
   "cell_type": "code",
   "execution_count": 28,
   "metadata": {},
   "outputs": [
    {
     "data": {
      "text/plain": [
       "tensor([195.6951, 195.6951])"
      ]
     },
     "execution_count": 28,
     "metadata": {},
     "output_type": "execute_result"
    }
   ],
   "source": [
    "particle_beam.relativistic_gamma"
   ]
  },
  {
   "cell_type": "code",
   "execution_count": 29,
   "metadata": {},
   "outputs": [
    {
     "data": {
      "text/plain": [
       "tensor([61.4750, 99.0000])"
      ]
     },
     "execution_count": 29,
     "metadata": {},
     "output_type": "execute_result"
    }
   ],
   "source": [
    "parameter_beam.beta_x"
   ]
  },
  {
   "cell_type": "code",
   "execution_count": 30,
   "metadata": {},
   "outputs": [
    {
     "data": {
      "text/plain": [
       "tensor([61.4549, 99.0443])"
      ]
     },
     "execution_count": 30,
     "metadata": {},
     "output_type": "execute_result"
    }
   ],
   "source": [
    "particle_beam.beta_x"
   ]
  },
  {
   "cell_type": "code",
   "execution_count": 31,
   "metadata": {},
   "outputs": [
    {
     "data": {
      "text/plain": [
       "tensor([-1.2124, -0.9000])"
      ]
     },
     "execution_count": 31,
     "metadata": {},
     "output_type": "execute_result"
    }
   ],
   "source": [
    "parameter_beam.alpha_x"
   ]
  },
  {
   "cell_type": "code",
   "execution_count": 32,
   "metadata": {},
   "outputs": [
    {
     "data": {
      "text/plain": [
       "tensor([-1.2121, -0.9013])"
      ]
     },
     "execution_count": 32,
     "metadata": {},
     "output_type": "execute_result"
    }
   ],
   "source": [
    "particle_beam.alpha_x"
   ]
  },
  {
   "cell_type": "code",
   "execution_count": 33,
   "metadata": {},
   "outputs": [
    {
     "data": {
      "text/plain": [
       "tensor([35.4190, 60.0000])"
      ]
     },
     "execution_count": 33,
     "metadata": {},
     "output_type": "execute_result"
    }
   ],
   "source": [
    "parameter_beam.beta_y"
   ]
  },
  {
   "cell_type": "code",
   "execution_count": 34,
   "metadata": {},
   "outputs": [
    {
     "data": {
      "text/plain": [
       "tensor([35.4555, 60.0446])"
      ]
     },
     "execution_count": 34,
     "metadata": {},
     "output_type": "execute_result"
    }
   ],
   "source": [
    "particle_beam.beta_y"
   ]
  },
  {
   "cell_type": "code",
   "execution_count": 35,
   "metadata": {},
   "outputs": [
    {
     "data": {
      "text/plain": [
       "tensor([0.6655, 0.5000])"
      ]
     },
     "execution_count": 35,
     "metadata": {},
     "output_type": "execute_result"
    }
   ],
   "source": [
    "parameter_beam.alpha_y"
   ]
  },
  {
   "cell_type": "code",
   "execution_count": 36,
   "metadata": {},
   "outputs": [
    {
     "data": {
      "text/plain": [
       "tensor([0.6662, 0.5000])"
      ]
     },
     "execution_count": 36,
     "metadata": {},
     "output_type": "execute_result"
    }
   ],
   "source": [
    "particle_beam.alpha_y"
   ]
  },
  {
   "cell_type": "code",
   "execution_count": 37,
   "metadata": {},
   "outputs": [
    {
     "data": {
      "text/plain": [
       "tensor([0., 0.])"
      ]
     },
     "execution_count": 37,
     "metadata": {},
     "output_type": "execute_result"
    }
   ],
   "source": [
    "parameter_beam.mu_s"
   ]
  },
  {
   "cell_type": "code",
   "execution_count": 38,
   "metadata": {},
   "outputs": [
    {
     "data": {
      "text/plain": [
       "tensor([ 1.2265e-09, -2.5075e-10])"
      ]
     },
     "execution_count": 38,
     "metadata": {},
     "output_type": "execute_result"
    }
   ],
   "source": [
    "particle_beam.mu_s"
   ]
  },
  {
   "cell_type": "code",
   "execution_count": 39,
   "metadata": {},
   "outputs": [
    {
     "data": {
      "text/plain": [
       "tensor([8.7260e-13, 4.5000e-13])"
      ]
     },
     "execution_count": 39,
     "metadata": {},
     "output_type": "execute_result"
    }
   ],
   "source": [
    "parameter_beam.sigma_xxp"
   ]
  },
  {
   "cell_type": "code",
   "execution_count": 40,
   "metadata": {},
   "outputs": [
    {
     "data": {
      "text/plain": [
       "tensor([8.7110e-13, 4.5095e-13])"
      ]
     },
     "execution_count": 40,
     "metadata": {},
     "output_type": "execute_result"
    }
   ],
   "source": [
    "particle_beam.sigma_xxp"
   ]
  },
  {
   "cell_type": "code",
   "execution_count": 41,
   "metadata": {},
   "outputs": [
    {
     "data": {
      "text/plain": [
       "tensor([-2.3871e-15, -5.0000e-16])"
      ]
     },
     "execution_count": 41,
     "metadata": {},
     "output_type": "execute_result"
    }
   ],
   "source": [
    "parameter_beam.sigma_yyp"
   ]
  },
  {
   "cell_type": "code",
   "execution_count": 42,
   "metadata": {},
   "outputs": [
    {
     "data": {
      "text/plain": [
       "tensor([-2.3882e-15, -4.9979e-16])"
      ]
     },
     "execution_count": 42,
     "metadata": {},
     "output_type": "execute_result"
    }
   ],
   "source": [
    "particle_beam.sigma_yyp"
   ]
  },
  {
   "cell_type": "code",
   "execution_count": null,
   "metadata": {},
   "outputs": [],
   "source": []
  },
  {
   "cell_type": "code",
   "execution_count": 43,
   "metadata": {},
   "outputs": [
    {
     "data": {
      "text/plain": [
       "ParameterBeam(mu_x=tensor([0.0000e+00, 1.0000e-06]), mu_xp=tensor([0., 0.]), mu_y=tensor([0., 0.]), mu_yp=tensor([0., 0.]), sigma_x=tensor([1.7500e-07, 4.2000e-07]), sigma_xp=tensor([1.7005e-07, 9.5611e-08]), sigma_y=tensor([3.5642e-07, 2.4495e-07]), sigma_yp=tensor([1.2088e-08, 4.5644e-09]), sigma_s=tensor([1.0000e-06, 1.0000e-06]), sigma_p=tensor([1.0000e-06, 1.0000e-06]), energy=tensor([1.5000e+08, 1.4600e+10])), total_charge=tensor([1.0000e-12, 2.0000e-12]))"
      ]
     },
     "execution_count": 43,
     "metadata": {},
     "output_type": "execute_result"
    }
   ],
   "source": [
    "parameter_beam.transformed_to(\n",
    "    mu_x=torch.tensor([0.0, 1e-6]),\n",
    "    sigma_x=torch.tensor([175e-9, 42e-8]),\n",
    "    total_charge=torch.tensor([1e-12, 2e-12]),\n",
    ")"
   ]
  },
  {
   "cell_type": "code",
   "execution_count": 44,
   "metadata": {},
   "outputs": [
    {
     "data": {
      "text/plain": [
       "ParticleBeam(n=1000000, mu_x=tensor([-3.4233e-15,  1.0000e-06]), mu_xp=tensor([1.0935e-10, 9.1585e-11]), mu_y=tensor([-3.1717e-10,  2.9709e-10]), mu_yp=tensor([9.1539e-12, 2.8956e-12]), sigma_x=tensor([1.7500e-07, 4.2000e-07]), sigma_xp=tensor([1.6993e-07, 9.5683e-08]), sigma_y=tensor([3.5651e-07, 2.4499e-07]), sigma_yp=tensor([1.2082e-08, 4.5617e-09]), sigma_s=tensor([1.0004e-06, 9.9959e-07]), sigma_p=tensor([1.0002e-06, 9.9960e-07]), energy=tensor([100000000., 100000000.])) total_charge=tensor([1.0000e-12, 2.0000e-12]))"
      ]
     },
     "execution_count": 44,
     "metadata": {},
     "output_type": "execute_result"
    }
   ],
   "source": [
    "particle_beam.transformed_to(\n",
    "    mu_x=torch.tensor([0.0, 1e-6]),\n",
    "    sigma_x=torch.tensor([175e-9, 42e-8]),\n",
    "    total_charge=torch.tensor([1e-12, 2e-12]),\n",
    ")"
   ]
  },
  {
   "cell_type": "code",
   "execution_count": null,
   "metadata": {},
   "outputs": [],
   "source": []
  },
  {
   "cell_type": "code",
   "execution_count": 45,
   "metadata": {},
   "outputs": [
    {
     "data": {
      "text/plain": [
       "ParticleBeam(n=10, mu_x=tensor([0.0000e+00, 1.0000e-06]), mu_xp=tensor([0., 0.]), mu_y=tensor([0., 0.]), mu_yp=tensor([0., 0.]), sigma_x=tensor([1.1774e-07, 2.8258e-07]), sigma_xp=tensor([1.3456e-07, 1.3456e-07]), sigma_y=tensor([1.1774e-07, 1.1774e-07]), sigma_yp=tensor([1.3456e-07, 1.3456e-07]), sigma_s=tensor([0., 0.]), sigma_p=tensor([0., 0.]), energy=tensor([100000000., 100000000.])) total_charge=tensor([1.0000e-12, 2.0000e-12]))"
      ]
     },
     "execution_count": 45,
     "metadata": {},
     "output_type": "execute_result"
    }
   ],
   "source": [
    "particle_beam_2 = cheetah.ParticleBeam.make_linspaced(\n",
    "    mu_x=torch.tensor([0.0, 1e-6]),\n",
    "    sigma_x=torch.tensor([175e-9, 42e-8]),\n",
    "    total_charge=torch.tensor([1e-12, 2e-12]),\n",
    ")\n",
    "particle_beam_2"
   ]
  },
  {
   "cell_type": "code",
   "execution_count": null,
   "metadata": {},
   "outputs": [],
   "source": []
  },
  {
   "cell_type": "code",
   "execution_count": 46,
   "metadata": {},
   "outputs": [],
   "source": [
    "# parameter_beam = cheetah.ParameterBeam.from_astra(\n",
    "#     \"tests/resources/ACHIP_EA1_2021.1351.001\"\n",
    "# )\n",
    "# particle_beam = cheetah.ParticleBeam.from_astra(\n",
    "#     \"tests/resources/ACHIP_EA1_2021.1351.001\"\n",
    "# )"
   ]
  },
  {
   "cell_type": "code",
   "execution_count": 47,
   "metadata": {},
   "outputs": [
    {
     "data": {
      "text/plain": [
       "Drift(length=tensor([1., 2.]))"
      ]
     },
     "execution_count": 47,
     "metadata": {},
     "output_type": "execute_result"
    }
   ],
   "source": [
    "drift = cheetah.Drift(length=torch.tensor([1.0, 2.0]))\n",
    "drift"
   ]
  },
  {
   "cell_type": "code",
   "execution_count": 48,
   "metadata": {},
   "outputs": [
    {
     "data": {
      "text/plain": [
       "ParameterBeam(mu_x=tensor([0., 0.]), mu_xp=tensor([0., 0.]), mu_y=tensor([0., 0.]), mu_yp=tensor([0., 0.]), sigma_x=tensor([6.7837e-06, 7.1650e-06]), sigma_xp=tensor([1.7005e-07, 9.5611e-08]), sigma_y=tensor([3.4987e-07, 2.4100e-07]), sigma_yp=tensor([1.2088e-08, 4.5644e-09]), sigma_s=tensor([1.0000e-06, 1.0000e-06]), sigma_p=tensor([1.0000e-06, 1.0000e-06]), energy=tensor([1.5000e+08, 1.4600e+10])), total_charge=tensor([1.0000e-12, 4.0000e-12]))"
      ]
     },
     "execution_count": 48,
     "metadata": {},
     "output_type": "execute_result"
    }
   ],
   "source": [
    "drift.track(parameter_beam)"
   ]
  },
  {
   "cell_type": "code",
   "execution_count": 49,
   "metadata": {},
   "outputs": [
    {
     "data": {
      "text/plain": [
       "ParticleBeam(n=1000000, mu_x=tensor([ 3.4415e-09, -2.6003e-09]), mu_xp=tensor([1.0935e-10, 9.1585e-11]), mu_y=tensor([-3.0801e-10,  3.0288e-10]), mu_yp=tensor([9.1539e-12, 2.8956e-12]), sigma_x=tensor([6.7776e-06, 7.1692e-06]), sigma_xp=tensor([1.6993e-07, 9.5683e-08]), sigma_y=tensor([3.4995e-07, 2.4105e-07]), sigma_yp=tensor([1.2082e-08, 4.5617e-09]), sigma_s=tensor([1.0004e-06, 9.9959e-07]), sigma_p=tensor([1.0002e-06, 9.9960e-07]), energy=tensor([100000000., 100000000.])) total_charge=tensor([1.0000e-12, 4.0000e-12]))"
      ]
     },
     "execution_count": 49,
     "metadata": {},
     "output_type": "execute_result"
    }
   ],
   "source": [
    "drift.track(particle_beam)"
   ]
  },
  {
   "cell_type": "code",
   "execution_count": null,
   "metadata": {},
   "outputs": [],
   "source": []
  }
 ],
 "metadata": {
  "kernelspec": {
   "display_name": "cheetah-dev",
   "language": "python",
   "name": "python3"
  },
  "language_info": {
   "codemirror_mode": {
    "name": "ipython",
    "version": 3
   },
   "file_extension": ".py",
   "mimetype": "text/x-python",
   "name": "python",
   "nbconvert_exporter": "python",
   "pygments_lexer": "ipython3",
   "version": "3.9.18"
  }
 },
 "nbformat": 4,
 "nbformat_minor": 2
}
