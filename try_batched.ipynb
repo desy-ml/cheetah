{
 "cells": [
  {
   "cell_type": "code",
   "execution_count": 1,
   "metadata": {},
   "outputs": [],
   "source": [
    "import torch\n",
    "\n",
    "import cheetah"
   ]
  },
  {
   "cell_type": "code",
   "execution_count": 2,
   "metadata": {},
   "outputs": [
    {
     "name": "stderr",
     "output_type": "stream",
     "text": [
      "ic| mu_x: tensor([0., 0.]), mu_x.shape: torch.Size([2])\n",
      "ic| mu_xp: tensor([0., 0.]), mu_xp.shape: torch.Size([2])\n",
      "ic| mu_y: tensor([0., 0.]), mu_y.shape: torch.Size([2])\n",
      "ic| mu_yp: tensor([0., 0.]), mu_yp.shape: torch.Size([2])\n"
     ]
    },
    {
     "data": {
      "text/plain": [
       "ParameterBeam(mu_x=tensor([0., 0.]), mu_xp=tensor([0., 0.]), mu_y=tensor([0., 0.]), mu_yp=tensor([0., 0.]), sigma_x=tensor([6.6517e-06, 7.0356e-06]), sigma_xp=tensor([1.7005e-07, 9.5611e-08]), sigma_y=tensor([3.5642e-07, 2.4495e-07]), sigma_yp=tensor([1.2088e-08, 4.5644e-09]), sigma_s=tensor([1.0000e-06, 1.0000e-06]), sigma_p=tensor([1.0000e-06, 1.0000e-06]), energy=tensor([1.5000e+08, 1.4600e+10])), total_charge=tensor([1.0000e-12, 4.0000e-12]))"
      ]
     },
     "execution_count": 2,
     "metadata": {},
     "output_type": "execute_result"
    }
   ],
   "source": [
    "# parameter_beam = cheetah.ParameterBeam.from_parameters(\n",
    "#     mu_x=torch.tensor([0.0, 1e-6]),\n",
    "#     sigma_x=torch.tensor([175e-9, 42e-8]),\n",
    "#     total_charge=torch.tensor([1e-12, 2e-12]),\n",
    "# )\n",
    "parameter_beam = cheetah.ParameterBeam.from_twiss(\n",
    "    beta_x=torch.tensor([61.47503078, 99.0]),\n",
    "    alpha_x=torch.tensor([-1.21242463, -0.9]),\n",
    "    emittance_x=torch.tensor([7.1971891e-13, 5.0e-13]),\n",
    "    beta_y=torch.tensor([35.41897281, 60.0]),\n",
    "    alpha_y=torch.tensor([0.66554622, 0.5]),\n",
    "    emittance_y=torch.tensor([3.5866484e-15, 1.0e-15]),\n",
    "    total_charge=torch.tensor([1e-12, 4e-12]),\n",
    "    energy=torch.tensor([150e6, 14.6e9]),\n",
    ")\n",
    "# parameter_beam = cheetah.ParameterBeam.from_astra(\n",
    "#     \"tests/resources/ACHIP_EA1_2021.1351.001\"\n",
    "# )\n",
    "parameter_beam"
   ]
  },
  {
   "cell_type": "code",
   "execution_count": 3,
   "metadata": {},
   "outputs": [
    {
     "data": {
      "text/plain": [
       "ParticleBeam(n=1000000, mu_x=tensor([-9.0306e-09,  6.7688e-09]), mu_xp=tensor([-2.0284e-11,  5.9579e-11]), mu_y=tensor([-3.2570e-10, -4.2466e-11]), mu_yp=tensor([ 1.1656e-11, -5.8969e-12]), sigma_x=tensor([6.6523e-06, 7.0303e-06]), sigma_xp=tensor([1.7008e-07, 9.5575e-08]), sigma_y=tensor([3.5672e-07, 2.4496e-07]), sigma_yp=tensor([1.2083e-08, 4.5663e-09]), sigma_s=tensor([9.9929e-07, 9.9962e-07]), sigma_p=tensor([9.9936e-07, 1.0004e-06]), energy=tensor([100000000., 100000000.])) total_charge=tensor([1.0000e-12, 4.0000e-12]))"
      ]
     },
     "execution_count": 3,
     "metadata": {},
     "output_type": "execute_result"
    }
   ],
   "source": [
    "# particle_beam = cheetah.ParticleBeam.from_parameters(\n",
    "#     mu_x=torch.tensor([0.0, 1e-6]),\n",
    "#     sigma_x=torch.tensor([175e-9, 42e-8]),\n",
    "#     total_charge=torch.tensor([1e-12, 2e-12]),\n",
    "# )\n",
    "particle_beam = cheetah.ParticleBeam.from_twiss(\n",
    "    beta_x=torch.tensor([61.47503078, 99.0]),\n",
    "    alpha_x=torch.tensor([-1.21242463, -0.9]),\n",
    "    emittance_x=torch.tensor([7.1971891e-13, 5.0e-13]),\n",
    "    beta_y=torch.tensor([35.41897281, 60.0]),\n",
    "    alpha_y=torch.tensor([0.66554622, 0.5]),\n",
    "    emittance_y=torch.tensor([3.5866484e-15, 1.0e-15]),\n",
    "    total_charge=torch.tensor([1e-12, 4e-12]),\n",
    ")\n",
    "# particle_beam = cheetah.ParticleBeam.from_astra(\n",
    "#     \"tests/resources/ACHIP_EA1_2021.1351.001\"\n",
    "# )\n",
    "particle_beam"
   ]
  },
  {
   "cell_type": "code",
   "execution_count": 4,
   "metadata": {},
   "outputs": [
    {
     "data": {
      "text/plain": [
       "1000000"
      ]
     },
     "execution_count": 4,
     "metadata": {},
     "output_type": "execute_result"
    }
   ],
   "source": [
    "particle_beam.num_particles"
   ]
  },
  {
   "cell_type": "code",
   "execution_count": 5,
   "metadata": {},
   "outputs": [
    {
     "data": {
      "text/plain": [
       "tensor([1.0000e-12, 4.0000e-12])"
      ]
     },
     "execution_count": 5,
     "metadata": {},
     "output_type": "execute_result"
    }
   ],
   "source": [
    "parameter_beam.total_charge"
   ]
  },
  {
   "cell_type": "code",
   "execution_count": 6,
   "metadata": {},
   "outputs": [
    {
     "data": {
      "text/plain": [
       "tensor([1.0000e-12, 4.0000e-12])"
      ]
     },
     "execution_count": 6,
     "metadata": {},
     "output_type": "execute_result"
    }
   ],
   "source": [
    "particle_beam.total_charge"
   ]
  },
  {
   "cell_type": "code",
   "execution_count": 7,
   "metadata": {},
   "outputs": [
    {
     "data": {
      "text/plain": [
       "tensor([0., 0.])"
      ]
     },
     "execution_count": 7,
     "metadata": {},
     "output_type": "execute_result"
    }
   ],
   "source": [
    "parameter_beam.mu_x"
   ]
  },
  {
   "cell_type": "code",
   "execution_count": 8,
   "metadata": {},
   "outputs": [
    {
     "data": {
      "text/plain": [
       "torch.Size([2, 1000000])"
      ]
     },
     "execution_count": 8,
     "metadata": {},
     "output_type": "execute_result"
    }
   ],
   "source": [
    "particle_beam.xs.shape"
   ]
  },
  {
   "cell_type": "code",
   "execution_count": 9,
   "metadata": {},
   "outputs": [
    {
     "data": {
      "text/plain": [
       "tensor([-9.0306e-09,  6.7688e-09])"
      ]
     },
     "execution_count": 9,
     "metadata": {},
     "output_type": "execute_result"
    }
   ],
   "source": [
    "particle_beam.mu_x"
   ]
  },
  {
   "cell_type": "code",
   "execution_count": 10,
   "metadata": {},
   "outputs": [
    {
     "data": {
      "text/plain": [
       "tensor([6.6517e-06, 7.0356e-06])"
      ]
     },
     "execution_count": 10,
     "metadata": {},
     "output_type": "execute_result"
    }
   ],
   "source": [
    "parameter_beam.sigma_x"
   ]
  },
  {
   "cell_type": "code",
   "execution_count": 11,
   "metadata": {},
   "outputs": [
    {
     "data": {
      "text/plain": [
       "tensor([6.6523e-06, 7.0303e-06])"
      ]
     },
     "execution_count": 11,
     "metadata": {},
     "output_type": "execute_result"
    }
   ],
   "source": [
    "particle_beam.sigma_x"
   ]
  },
  {
   "cell_type": "code",
   "execution_count": 12,
   "metadata": {},
   "outputs": [
    {
     "data": {
      "text/plain": [
       "tensor([[ 7.6652e-07, -4.8972e-06,  1.0150e-05,  ..., -6.0184e-06,\n",
       "         -2.8498e-06, -8.1820e-07],\n",
       "        [ 3.3290e-06,  2.8640e-06,  5.6765e-06,  ..., -9.2437e-07,\n",
       "          7.3396e-06, -1.5432e-06]])"
      ]
     },
     "execution_count": 12,
     "metadata": {},
     "output_type": "execute_result"
    }
   ],
   "source": [
    "particle_beam.xs"
   ]
  },
  {
   "cell_type": "code",
   "execution_count": 13,
   "metadata": {},
   "outputs": [
    {
     "data": {
      "text/plain": [
       "tensor([[-9.0306e-09],\n",
       "        [ 6.7688e-09]])"
      ]
     },
     "execution_count": 13,
     "metadata": {},
     "output_type": "execute_result"
    }
   ],
   "source": [
    "particle_beam.mu_x.view(-1, 1)"
   ]
  },
  {
   "cell_type": "code",
   "execution_count": 14,
   "metadata": {},
   "outputs": [
    {
     "data": {
      "text/plain": [
       "tensor([[ 7.7555e-07, -4.8882e-06,  1.0159e-05,  ..., -6.0094e-06,\n",
       "         -2.8408e-06, -8.0917e-07],\n",
       "        [ 3.3222e-06,  2.8573e-06,  5.6697e-06,  ..., -9.3114e-07,\n",
       "          7.3329e-06, -1.5500e-06]])"
      ]
     },
     "execution_count": 14,
     "metadata": {},
     "output_type": "execute_result"
    }
   ],
   "source": [
    "particle_beam.xs - particle_beam.mu_x.view(-1, 1)"
   ]
  },
  {
   "cell_type": "code",
   "execution_count": 15,
   "metadata": {},
   "outputs": [
    {
     "data": {
      "text/plain": [
       "tensor([7.1972e-13, 5.0000e-13])"
      ]
     },
     "execution_count": 15,
     "metadata": {},
     "output_type": "execute_result"
    }
   ],
   "source": [
    "parameter_beam.emittance_x"
   ]
  },
  {
   "cell_type": "code",
   "execution_count": 16,
   "metadata": {},
   "outputs": [
    {
     "data": {
      "text/plain": [
       "tensor([7.1935e-13, 4.9953e-13])"
      ]
     },
     "execution_count": 16,
     "metadata": {},
     "output_type": "execute_result"
    }
   ],
   "source": [
    "particle_beam.emittance_x"
   ]
  },
  {
   "cell_type": "code",
   "execution_count": 17,
   "metadata": {},
   "outputs": [
    {
     "data": {
      "text/plain": [
       "tensor([3.5866e-15, 1.0000e-15])"
      ]
     },
     "execution_count": 17,
     "metadata": {},
     "output_type": "execute_result"
    }
   ],
   "source": [
    "parameter_beam.emittance_y"
   ]
  },
  {
   "cell_type": "code",
   "execution_count": 18,
   "metadata": {},
   "outputs": [
    {
     "data": {
      "text/plain": [
       "tensor([3.5869e-15, 1.0002e-15])"
      ]
     },
     "execution_count": 18,
     "metadata": {},
     "output_type": "execute_result"
    }
   ],
   "source": [
    "particle_beam.emittance_y"
   ]
  },
  {
   "cell_type": "code",
   "execution_count": 19,
   "metadata": {},
   "outputs": [
    {
     "data": {
      "text/plain": [
       "tensor([1.0000, 1.0000])"
      ]
     },
     "execution_count": 19,
     "metadata": {},
     "output_type": "execute_result"
    }
   ],
   "source": [
    "parameter_beam.relativistic_beta"
   ]
  },
  {
   "cell_type": "code",
   "execution_count": 20,
   "metadata": {},
   "outputs": [
    {
     "data": {
      "text/plain": [
       "tensor([1.0000, 1.0000])"
      ]
     },
     "execution_count": 20,
     "metadata": {},
     "output_type": "execute_result"
    }
   ],
   "source": [
    "particle_beam.relativistic_beta"
   ]
  },
  {
   "cell_type": "code",
   "execution_count": 21,
   "metadata": {},
   "outputs": [
    {
     "data": {
      "text/plain": [
       "tensor([2.1127e-10, 1.4286e-08])"
      ]
     },
     "execution_count": 21,
     "metadata": {},
     "output_type": "execute_result"
    }
   ],
   "source": [
    "parameter_beam.normalized_emittance_x"
   ]
  },
  {
   "cell_type": "code",
   "execution_count": 22,
   "metadata": {},
   "outputs": [
    {
     "data": {
      "text/plain": [
       "tensor([1.4077e-10, 9.7754e-11])"
      ]
     },
     "execution_count": 22,
     "metadata": {},
     "output_type": "execute_result"
    }
   ],
   "source": [
    "particle_beam.normalized_emittance_x"
   ]
  },
  {
   "cell_type": "code",
   "execution_count": 23,
   "metadata": {},
   "outputs": [
    {
     "data": {
      "text/plain": [
       "tensor([1.0528e-12, 2.8571e-11])"
      ]
     },
     "execution_count": 23,
     "metadata": {},
     "output_type": "execute_result"
    }
   ],
   "source": [
    "parameter_beam.normalized_emittance_y"
   ]
  },
  {
   "cell_type": "code",
   "execution_count": 24,
   "metadata": {},
   "outputs": [
    {
     "data": {
      "text/plain": [
       "tensor([7.0193e-13, 1.9574e-13])"
      ]
     },
     "execution_count": 24,
     "metadata": {},
     "output_type": "execute_result"
    }
   ],
   "source": [
    "particle_beam.normalized_emittance_y"
   ]
  },
  {
   "cell_type": "code",
   "execution_count": 25,
   "metadata": {},
   "outputs": [
    {
     "data": {
      "text/plain": [
       "{'mu_x': tensor([0., 0.]),\n",
       " 'mu_xp': tensor([0., 0.]),\n",
       " 'mu_y': tensor([0., 0.]),\n",
       " 'mu_yp': tensor([0., 0.]),\n",
       " 'sigma_x': tensor([6.6517e-06, 7.0356e-06]),\n",
       " 'sigma_xp': tensor([1.7005e-07, 9.5611e-08]),\n",
       " 'sigma_y': tensor([3.5642e-07, 2.4495e-07]),\n",
       " 'sigma_yp': tensor([1.2088e-08, 4.5644e-09]),\n",
       " 'sigma_s': tensor([1.0000e-06, 1.0000e-06]),\n",
       " 'sigma_p': tensor([1.0000e-06, 1.0000e-06]),\n",
       " 'energy': tensor([1.5000e+08, 1.4600e+10])}"
      ]
     },
     "execution_count": 25,
     "metadata": {},
     "output_type": "execute_result"
    }
   ],
   "source": [
    "parameter_beam.parameters"
   ]
  },
  {
   "cell_type": "code",
   "execution_count": 26,
   "metadata": {},
   "outputs": [
    {
     "data": {
      "text/plain": [
       "{'mu_x': tensor([-9.0306e-09,  6.7688e-09]),\n",
       " 'mu_xp': tensor([-2.0284e-11,  5.9579e-11]),\n",
       " 'mu_y': tensor([-3.2570e-10, -4.2466e-11]),\n",
       " 'mu_yp': tensor([ 1.1656e-11, -5.8969e-12]),\n",
       " 'sigma_x': tensor([6.6523e-06, 7.0303e-06]),\n",
       " 'sigma_xp': tensor([1.7008e-07, 9.5575e-08]),\n",
       " 'sigma_y': tensor([3.5672e-07, 2.4496e-07]),\n",
       " 'sigma_yp': tensor([1.2083e-08, 4.5663e-09]),\n",
       " 'sigma_s': tensor([9.9929e-07, 9.9962e-07]),\n",
       " 'sigma_p': tensor([9.9936e-07, 1.0004e-06]),\n",
       " 'energy': tensor([100000000., 100000000.])}"
      ]
     },
     "execution_count": 26,
     "metadata": {},
     "output_type": "execute_result"
    }
   ],
   "source": [
    "particle_beam.parameters"
   ]
  },
  {
   "cell_type": "code",
   "execution_count": 27,
   "metadata": {},
   "outputs": [
    {
     "data": {
      "text/plain": [
       "tensor([  293.5427, 28571.4863])"
      ]
     },
     "execution_count": 27,
     "metadata": {},
     "output_type": "execute_result"
    }
   ],
   "source": [
    "parameter_beam.relativistic_gamma"
   ]
  },
  {
   "cell_type": "code",
   "execution_count": 28,
   "metadata": {},
   "outputs": [
    {
     "data": {
      "text/plain": [
       "tensor([195.6951, 195.6951])"
      ]
     },
     "execution_count": 28,
     "metadata": {},
     "output_type": "execute_result"
    }
   ],
   "source": [
    "particle_beam.relativistic_gamma"
   ]
  },
  {
   "cell_type": "code",
   "execution_count": 29,
   "metadata": {},
   "outputs": [
    {
     "data": {
      "text/plain": [
       "tensor([61.4750, 99.0000])"
      ]
     },
     "execution_count": 29,
     "metadata": {},
     "output_type": "execute_result"
    }
   ],
   "source": [
    "parameter_beam.beta_x"
   ]
  },
  {
   "cell_type": "code",
   "execution_count": 30,
   "metadata": {},
   "outputs": [
    {
     "data": {
      "text/plain": [
       "tensor([61.5176, 98.9439])"
      ]
     },
     "execution_count": 30,
     "metadata": {},
     "output_type": "execute_result"
    }
   ],
   "source": [
    "particle_beam.beta_x"
   ]
  },
  {
   "cell_type": "code",
   "execution_count": 31,
   "metadata": {},
   "outputs": [
    {
     "data": {
      "text/plain": [
       "tensor([-1.2124, -0.9000])"
      ]
     },
     "execution_count": 31,
     "metadata": {},
     "output_type": "execute_result"
    }
   ],
   "source": [
    "parameter_beam.alpha_x"
   ]
  },
  {
   "cell_type": "code",
   "execution_count": 32,
   "metadata": {},
   "outputs": [
    {
     "data": {
      "text/plain": [
       "tensor([-1.2141, -0.8996])"
      ]
     },
     "execution_count": 32,
     "metadata": {},
     "output_type": "execute_result"
    }
   ],
   "source": [
    "particle_beam.alpha_x"
   ]
  },
  {
   "cell_type": "code",
   "execution_count": 33,
   "metadata": {},
   "outputs": [
    {
     "data": {
      "text/plain": [
       "tensor([35.4190, 60.0000])"
      ]
     },
     "execution_count": 33,
     "metadata": {},
     "output_type": "execute_result"
    }
   ],
   "source": [
    "parameter_beam.beta_y"
   ]
  },
  {
   "cell_type": "code",
   "execution_count": 34,
   "metadata": {},
   "outputs": [
    {
     "data": {
      "text/plain": [
       "tensor([35.4752, 59.9931])"
      ]
     },
     "execution_count": 34,
     "metadata": {},
     "output_type": "execute_result"
    }
   ],
   "source": [
    "particle_beam.beta_y"
   ]
  },
  {
   "cell_type": "code",
   "execution_count": 35,
   "metadata": {},
   "outputs": [
    {
     "data": {
      "text/plain": [
       "tensor([0.6655, 0.5000])"
      ]
     },
     "execution_count": 35,
     "metadata": {},
     "output_type": "execute_result"
    }
   ],
   "source": [
    "parameter_beam.alpha_y"
   ]
  },
  {
   "cell_type": "code",
   "execution_count": 36,
   "metadata": {},
   "outputs": [
    {
     "data": {
      "text/plain": [
       "tensor([0.6664, 0.5006])"
      ]
     },
     "execution_count": 36,
     "metadata": {},
     "output_type": "execute_result"
    }
   ],
   "source": [
    "particle_beam.alpha_y"
   ]
  },
  {
   "cell_type": "code",
   "execution_count": 37,
   "metadata": {},
   "outputs": [
    {
     "data": {
      "text/plain": [
       "tensor([0., 0.])"
      ]
     },
     "execution_count": 37,
     "metadata": {},
     "output_type": "execute_result"
    }
   ],
   "source": [
    "parameter_beam.mu_s"
   ]
  },
  {
   "cell_type": "code",
   "execution_count": 38,
   "metadata": {},
   "outputs": [
    {
     "data": {
      "text/plain": [
       "tensor([-2.3269e-09, -6.6371e-10])"
      ]
     },
     "execution_count": 38,
     "metadata": {},
     "output_type": "execute_result"
    }
   ],
   "source": [
    "particle_beam.mu_s"
   ]
  },
  {
   "cell_type": "code",
   "execution_count": 39,
   "metadata": {},
   "outputs": [
    {
     "data": {
      "text/plain": [
       "tensor([8.7260e-13, 4.5000e-13])"
      ]
     },
     "execution_count": 39,
     "metadata": {},
     "output_type": "execute_result"
    }
   ],
   "source": [
    "parameter_beam.sigma_xxp"
   ]
  },
  {
   "cell_type": "code",
   "execution_count": 40,
   "metadata": {},
   "outputs": [
    {
     "data": {
      "text/plain": [
       "tensor([8.7333e-13, 4.4938e-13])"
      ]
     },
     "execution_count": 40,
     "metadata": {},
     "output_type": "execute_result"
    }
   ],
   "source": [
    "particle_beam.sigma_xxp"
   ]
  },
  {
   "cell_type": "code",
   "execution_count": 41,
   "metadata": {},
   "outputs": [
    {
     "data": {
      "text/plain": [
       "tensor([-2.3871e-15, -5.0000e-16])"
      ]
     },
     "execution_count": 41,
     "metadata": {},
     "output_type": "execute_result"
    }
   ],
   "source": [
    "parameter_beam.sigma_yyp"
   ]
  },
  {
   "cell_type": "code",
   "execution_count": 42,
   "metadata": {},
   "outputs": [
    {
     "data": {
      "text/plain": [
       "tensor([-2.3901e-15, -5.0073e-16])"
      ]
     },
     "execution_count": 42,
     "metadata": {},
     "output_type": "execute_result"
    }
   ],
   "source": [
    "particle_beam.sigma_yyp"
   ]
  },
  {
   "cell_type": "code",
   "execution_count": null,
   "metadata": {},
   "outputs": [],
   "source": []
  },
  {
   "cell_type": "code",
   "execution_count": 43,
   "metadata": {},
   "outputs": [
    {
     "name": "stderr",
     "output_type": "stream",
     "text": [
      "ic| mu_x: tensor([0.0000e+00, 1.0000e-06])\n",
      "    mu_x.shape: torch.Size([2])\n",
      "ic| mu_xp: tensor([0., 0.]), mu_xp.shape: torch.Size([2])\n",
      "ic| mu_y: tensor([0., 0.]), mu_y.shape: torch.Size([2])\n",
      "ic| mu_yp: tensor([0., 0.]), mu_yp.shape: torch.Size([2])\n"
     ]
    },
    {
     "data": {
      "text/plain": [
       "ParameterBeam(mu_x=tensor([0.0000e+00, 1.0000e-06]), mu_xp=tensor([0., 0.]), mu_y=tensor([0., 0.]), mu_yp=tensor([0., 0.]), sigma_x=tensor([1.7500e-07, 4.2000e-07]), sigma_xp=tensor([1.7005e-07, 9.5611e-08]), sigma_y=tensor([3.5642e-07, 2.4495e-07]), sigma_yp=tensor([1.2088e-08, 4.5644e-09]), sigma_s=tensor([1.0000e-06, 1.0000e-06]), sigma_p=tensor([1.0000e-06, 1.0000e-06]), energy=tensor([1.5000e+08, 1.4600e+10])), total_charge=tensor([1.0000e-12, 2.0000e-12]))"
      ]
     },
     "execution_count": 43,
     "metadata": {},
     "output_type": "execute_result"
    }
   ],
   "source": [
    "parameter_beam.transformed_to(\n",
    "    mu_x=torch.tensor([0.0, 1e-6]),\n",
    "    sigma_x=torch.tensor([175e-9, 42e-8]),\n",
    "    total_charge=torch.tensor([1e-12, 2e-12]),\n",
    ")"
   ]
  },
  {
   "cell_type": "code",
   "execution_count": 44,
   "metadata": {},
   "outputs": [
    {
     "data": {
      "text/plain": [
       "ParticleBeam(n=1000000, mu_x=tensor([4.7294e-16, 1.0000e-06]), mu_xp=tensor([-2.0284e-11,  5.9579e-11]), mu_y=tensor([-3.2570e-10, -4.2466e-11]), mu_yp=tensor([ 1.1656e-11, -5.8969e-12]), sigma_x=tensor([1.7500e-07, 4.2000e-07]), sigma_xp=tensor([1.7008e-07, 9.5575e-08]), sigma_y=tensor([3.5672e-07, 2.4496e-07]), sigma_yp=tensor([1.2083e-08, 4.5663e-09]), sigma_s=tensor([9.9929e-07, 9.9962e-07]), sigma_p=tensor([9.9936e-07, 1.0004e-06]), energy=tensor([100000000., 100000000.])) total_charge=tensor([1.0000e-12, 2.0000e-12]))"
      ]
     },
     "execution_count": 44,
     "metadata": {},
     "output_type": "execute_result"
    }
   ],
   "source": [
    "particle_beam.transformed_to(\n",
    "    mu_x=torch.tensor([0.0, 1e-6]),\n",
    "    sigma_x=torch.tensor([175e-9, 42e-8]),\n",
    "    total_charge=torch.tensor([1e-12, 2e-12]),\n",
    ")"
   ]
  },
  {
   "cell_type": "code",
   "execution_count": null,
   "metadata": {},
   "outputs": [],
   "source": []
  },
  {
   "cell_type": "code",
   "execution_count": 45,
   "metadata": {},
   "outputs": [
    {
     "data": {
      "text/plain": [
       "ParticleBeam(n=10, mu_x=tensor([0.0000e+00, 1.0000e-06]), mu_xp=tensor([0., 0.]), mu_y=tensor([0., 0.]), mu_yp=tensor([0., 0.]), sigma_x=tensor([1.1774e-07, 2.8258e-07]), sigma_xp=tensor([1.3456e-07, 1.3456e-07]), sigma_y=tensor([1.1774e-07, 1.1774e-07]), sigma_yp=tensor([1.3456e-07, 1.3456e-07]), sigma_s=tensor([0., 0.]), sigma_p=tensor([0., 0.]), energy=tensor([100000000., 100000000.])) total_charge=tensor([1.0000e-12, 2.0000e-12]))"
      ]
     },
     "execution_count": 45,
     "metadata": {},
     "output_type": "execute_result"
    }
   ],
   "source": [
    "particle_beam_2 = cheetah.ParticleBeam.make_linspaced(\n",
    "    mu_x=torch.tensor([0.0, 1e-6]),\n",
    "    sigma_x=torch.tensor([175e-9, 42e-8]),\n",
    "    total_charge=torch.tensor([1e-12, 2e-12]),\n",
    ")\n",
    "particle_beam_2"
   ]
  },
  {
   "cell_type": "code",
   "execution_count": null,
   "metadata": {},
   "outputs": [],
   "source": []
  },
  {
   "cell_type": "code",
   "execution_count": 46,
   "metadata": {},
   "outputs": [],
   "source": [
    "# parameter_beam = cheetah.ParameterBeam.from_astra(\n",
    "#     \"tests/resources/ACHIP_EA1_2021.1351.001\"\n",
    "# )\n",
    "# particle_beam = cheetah.ParticleBeam.from_astra(\n",
    "#     \"tests/resources/ACHIP_EA1_2021.1351.001\"\n",
    "# )"
   ]
  },
  {
   "cell_type": "code",
   "execution_count": 47,
   "metadata": {},
   "outputs": [
    {
     "data": {
      "text/plain": [
       "Drift(length=tensor([1., 2.]))"
      ]
     },
     "execution_count": 47,
     "metadata": {},
     "output_type": "execute_result"
    }
   ],
   "source": [
    "drift = cheetah.Drift(length=torch.tensor([1.0, 2.0]))\n",
    "drift"
   ]
  },
  {
   "cell_type": "code",
   "execution_count": 48,
   "metadata": {},
   "outputs": [
    {
     "data": {
      "text/plain": [
       "ParameterBeam(mu_x=tensor([0., 0.]), mu_xp=tensor([0., 0.]), mu_y=tensor([0., 0.]), mu_yp=tensor([0., 0.]), sigma_x=tensor([6.7837e-06, 7.1650e-06]), sigma_xp=tensor([1.7005e-07, 9.5611e-08]), sigma_y=tensor([3.4987e-07, 2.4100e-07]), sigma_yp=tensor([1.2088e-08, 4.5644e-09]), sigma_s=tensor([1.0000e-06, 1.0000e-06]), sigma_p=tensor([1.0000e-06, 1.0000e-06]), energy=tensor([1.5000e+08, 1.4600e+10])), total_charge=tensor([1.0000e-12, 4.0000e-12]))"
      ]
     },
     "execution_count": 48,
     "metadata": {},
     "output_type": "execute_result"
    }
   ],
   "source": [
    "drift.track(parameter_beam)"
   ]
  },
  {
   "cell_type": "code",
   "execution_count": 49,
   "metadata": {},
   "outputs": [
    {
     "data": {
      "text/plain": [
       "ParticleBeam(n=1000000, mu_x=tensor([-9.0509e-09,  6.8879e-09]), mu_xp=tensor([-2.0284e-11,  5.9579e-11]), mu_y=tensor([-3.1404e-10, -5.4260e-11]), mu_yp=tensor([ 1.1656e-11, -5.8969e-12]), sigma_x=tensor([6.7844e-06, 7.1596e-06]), sigma_xp=tensor([1.7008e-07, 9.5575e-08]), sigma_y=tensor([3.5016e-07, 2.4101e-07]), sigma_yp=tensor([1.2083e-08, 4.5663e-09]), sigma_s=tensor([9.9929e-07, 9.9962e-07]), sigma_p=tensor([9.9936e-07, 1.0004e-06]), energy=tensor([100000000., 100000000.])) total_charge=tensor([1.0000e-12, 4.0000e-12]))"
      ]
     },
     "execution_count": 49,
     "metadata": {},
     "output_type": "execute_result"
    }
   ],
   "source": [
    "drift.track(particle_beam)"
   ]
  },
  {
   "cell_type": "code",
   "execution_count": null,
   "metadata": {},
   "outputs": [],
   "source": []
  },
  {
   "cell_type": "code",
   "execution_count": 50,
   "metadata": {},
   "outputs": [
    {
     "name": "stderr",
     "output_type": "stream",
     "text": [
      "ic| mu_x: tensor([0.0000e+00, 1.0000e-06, 2.0000e-06])\n",
      "    mu_x.shape: torch.Size([3])\n",
      "ic| mu_xp: tensor([0., 0., 0.]), mu_xp.shape: torch.Size([3])\n",
      "ic| mu_y: tensor([0., 0., 0.]), mu_y.shape: torch.Size([3])\n",
      "ic| mu_yp: tensor([0., 0., 0.]), mu_yp.shape: torch.Size([3])\n"
     ]
    },
    {
     "data": {
      "text/plain": [
       "ParameterBeam(mu_x=tensor([0.0000e+00, 1.0000e-06, 2.0000e-06]), mu_xp=tensor([0., 0., 0.]), mu_y=tensor([0., 0., 0.]), mu_yp=tensor([0., 0., 0.]), sigma_x=tensor([1.7500e-07, 4.2000e-07, 4.2000e-07]), sigma_xp=tensor([2.0000e-07, 2.0000e-07, 2.0000e-07]), sigma_y=tensor([1.7500e-07, 1.7500e-07, 1.7500e-07]), sigma_yp=tensor([2.0000e-07, 2.0000e-07, 2.0000e-07]), sigma_s=tensor([1.0000e-06, 1.0000e-06, 1.0000e-06]), sigma_p=tensor([1.0000e-06, 1.0000e-06, 1.0000e-06]), energy=tensor([100000000., 100000000., 100000000.])), total_charge=tensor([1.0000e-12, 2.0000e-12, 2.0000e-12]))"
      ]
     },
     "execution_count": 50,
     "metadata": {},
     "output_type": "execute_result"
    }
   ],
   "source": [
    "parameter_beam_3 = cheetah.ParameterBeam.from_parameters(\n",
    "    mu_x=torch.tensor([0.0, 1e-6, 2e-6]),\n",
    "    sigma_x=torch.tensor([175e-9, 42e-8, 42e-8]),\n",
    "    total_charge=torch.tensor([1e-12, 2e-12, 2e-12]),\n",
    ")\n",
    "parameter_beam_3"
   ]
  },
  {
   "cell_type": "code",
   "execution_count": 51,
   "metadata": {},
   "outputs": [
    {
     "data": {
      "text/plain": [
       "Screen(resolution=tensor([1024, 1024]), pixel_size=tensor([0.0010, 0.0010]), binning=tensor(1), misalignment=tensor([[1.0000e-06, 2.0000e-06],\n",
       "        [3.0000e-06, 4.0000e-06],\n",
       "        [5.0000e-06, 6.0000e-06]]), is_active=True, name='unnamed_element_1')"
      ]
     },
     "execution_count": 51,
     "metadata": {},
     "output_type": "execute_result"
    }
   ],
   "source": [
    "screen = cheetah.Screen(\n",
    "    misalignment=torch.tensor([[1e-6, 2e-6], [3e-6, 4e-6], [5e-6, 6e-6]])\n",
    ")\n",
    "screen.is_active = True\n",
    "screen"
   ]
  },
  {
   "cell_type": "code",
   "execution_count": 52,
   "metadata": {},
   "outputs": [
    {
     "name": "stderr",
     "output_type": "stream",
     "text": [
      "ic| self.misalignment: tensor([[1.0000e-06, 2.0000e-06],\n",
      "                               [3.0000e-06, 4.0000e-06],\n",
      "                               [5.0000e-06, 6.0000e-06]])\n",
      "    self.misalignment.shape: torch.Size([3, 2])\n",
      "ic| copy_of_incoming._mu: tensor([[0.0000e+00, 0.0000e+00, 0.0000e+00, 0.0000e+00, 0.0000e+00, 0.0000e+00,\n",
      "                                   1.0000e+00],\n",
      "                                  [1.0000e-06, 0.0000e+00, 0.0000e+00, 0.0000e+00, 0.0000e+00, 0.0000e+00,\n",
      "                                   1.0000e+00],\n",
      "                                  [2.0000e-06, 0.0000e+00, 0.0000e+00, 0.0000e+00, 0.0000e+00, 0.0000e+00,\n",
      "                                   1.0000e+00]])\n",
      "    copy_of_incoming._mu.shape: torch.Size([3, 7])\n",
      "ic| self.misalignment[:, 0]: tensor([1.0000e-06, 3.0000e-06, 5.0000e-06])\n",
      "    self.misalignment[:, 0].shape: torch.Size([3])\n",
      "ic| copy_of_incoming._mu[:, 0]: tensor([0.0000e+00, 1.0000e-06, 2.0000e-06])\n",
      "    copy_of_incoming._mu[:, 0].shape: torch.Size([3])\n",
      "ic| copy_of_incoming._mu: tensor([[-1.0000e-06,  0.0000e+00, -2.0000e-06,  0.0000e+00,  0.0000e+00,\n",
      "                                    0.0000e+00,  1.0000e+00],\n",
      "                                  [-2.0000e-06,  0.0000e+00, -4.0000e-06,  0.0000e+00,  0.0000e+00,\n",
      "                                    0.0000e+00,  1.0000e+00],\n",
      "                                  [-3.0000e-06,  0.0000e+00, -6.0000e-06,  0.0000e+00,  0.0000e+00,\n",
      "                                    0.0000e+00,  1.0000e+00]])\n",
      "    copy_of_incoming._mu.shape: torch.Size([3, 7])\n"
     ]
    },
    {
     "data": {
      "text/plain": [
       "\"I'm an empty beam!\""
      ]
     },
     "execution_count": 52,
     "metadata": {},
     "output_type": "execute_result"
    }
   ],
   "source": [
    "screen.track(parameter_beam_3)"
   ]
  },
  {
   "cell_type": "code",
   "execution_count": null,
   "metadata": {},
   "outputs": [],
   "source": []
  }
 ],
 "metadata": {
  "kernelspec": {
   "display_name": "cheetah-dev",
   "language": "python",
   "name": "python3"
  },
  "language_info": {
   "codemirror_mode": {
    "name": "ipython",
    "version": 3
   },
   "file_extension": ".py",
   "mimetype": "text/x-python",
   "name": "python",
   "nbconvert_exporter": "python",
   "pygments_lexer": "ipython3",
   "version": "3.9.18"
  }
 },
 "nbformat": 4,
 "nbformat_minor": 2
}
