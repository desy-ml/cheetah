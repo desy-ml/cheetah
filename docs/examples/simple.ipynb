{
 "cells": [
  {
   "cell_type": "markdown",
   "metadata": {},
   "source": [
    "# Tracking through a simple lattice\n",
    "\n",
    "In this example, we create a custom lattice and track a beam through it. We start with some imports.\n"
   ]
  },
  {
   "cell_type": "code",
   "execution_count": 1,
   "metadata": {},
   "outputs": [],
   "source": [
    "import torch\n",
    "\n",
    "import cheetah"
   ]
  },
  {
   "cell_type": "markdown",
   "metadata": {},
   "source": [
    "Lattices in _Cheetah_ are represented by `Segments`. A `Segment` is created as follows.\n"
   ]
  },
  {
   "cell_type": "code",
   "execution_count": 2,
   "metadata": {},
   "outputs": [],
   "source": [
    "import cheetah\n",
    "import torch\n",
    "\n",
    "segment = cheetah.Segment(\n",
    "    elements=[\n",
    "        cheetah.Drift(length=torch.tensor(0.175)),\n",
    "        cheetah.Quadrupole(length=torch.tensor(0.122), name=\"AREAMQZM1\"),\n",
    "        cheetah.Drift(length=torch.tensor(0.428)),\n",
    "        cheetah.Quadrupole(length=torch.tensor(0.122), name=\"AREAMQZM2\"),\n",
    "        cheetah.Drift(length=torch.tensor(0.204)),\n",
    "        cheetah.VerticalCorrector(length=torch.tensor(0.02), name=\"AREAMCVM1\"),\n",
    "        cheetah.Drift(length=torch.tensor(0.204)),\n",
    "        cheetah.Quadrupole(length=torch.tensor(0.122), name=\"AREAMQZM3\"),\n",
    "        cheetah.Drift(length=torch.tensor(0.179)),\n",
    "        cheetah.HorizontalCorrector(length=torch.tensor(0.02), name=\"AREAMCHM1\"),\n",
    "        cheetah.Drift(length=torch.tensor(0.45)),\n",
    "        cheetah.Screen(name=\"AREABSCR1\"),\n",
    "    ]\n",
    ")"
   ]
  },
  {
   "cell_type": "markdown",
   "metadata": {},
   "source": [
    "Alternatively you can create a segment from an Ocelot cell by running\n",
    "\n",
    "```python\n",
    "segment = cheetah.Segment.from_ocelot(cell)\n",
    "```\n"
   ]
  },
  {
   "cell_type": "markdown",
   "metadata": {},
   "source": [
    "**Note** that many values must be passed to lattice elements as `torch.Tensor`s. This is because _Cheetah_ uses automatic differentiation to compute the gradient of the beam position at the end of the lattice with respect to the element strengths. This is necessary for gradient-based magnet setting optimisation.\n",
    "\n",
    "Named lattice elements (i.e. elements that were given a `name` keyword argument) can be accessed by name and their parameters changed like so.\n"
   ]
  },
  {
   "cell_type": "code",
   "execution_count": 3,
   "metadata": {},
   "outputs": [],
   "source": [
    "segment.AREAMQZM2.k1 = torch.tensor(4.2)"
   ]
  },
  {
   "cell_type": "markdown",
   "metadata": {},
   "source": [
    "Next, we create a beam to track through the lattice. In this particular example, we import a beam from an Astra particle distribution file. Note that we are using a `ParticleBeam` here, which is a beam defined by individual particles. This is the most precise way to track a beam through a lattice, but also slower than the alternative `ParameterBeam` which is defined by the beam's parameters. Instead of importing beams from other simulation codes, you can also create beams from scratch, either using their parameters or their Twiss parameters.\n"
   ]
  },
  {
   "cell_type": "code",
   "execution_count": 4,
   "metadata": {},
   "outputs": [],
   "source": [
    "parameter_beam = cheetah.ParameterBeam.from_twiss(beta_x=torch.tensor(3.14))\n",
    "particle_beam = cheetah.ParticleBeam.from_twiss(\n",
    "    beta_x=torch.tensor(3.14), beta_y=torch.tensor(42.0), num_particles=10_000\n",
    ")"
   ]
  },
  {
   "cell_type": "markdown",
   "metadata": {},
   "source": [
    "```python\n",
    "ocelot_beam = cheetah.ParticleBeam.from_ocelot(parray)\n",
    "```\n"
   ]
  },
  {
   "cell_type": "code",
   "execution_count": 5,
   "metadata": {},
   "outputs": [],
   "source": [
    "astra_beam = cheetah.ParticleBeam.from_astra(\n",
    "    \"../../tests/resources/ACHIP_EA1_2021.1351.001\"\n",
    ")"
   ]
  },
  {
   "cell_type": "markdown",
   "metadata": {},
   "source": [
    "In order to track a beam through the segment, simply call the segment's `track` method.\n"
   ]
  },
  {
   "cell_type": "code",
   "execution_count": 6,
   "metadata": {},
   "outputs": [],
   "source": [
    "outgoing_beam = segment.track(astra_beam)"
   ]
  },
  {
   "cell_type": "markdown",
   "metadata": {},
   "source": [
    "You may plot a segment with reference particle traces bay calling\n"
   ]
  },
  {
   "cell_type": "code",
   "execution_count": 7,
   "metadata": {},
   "outputs": [
    {
     "data": {
      "image/png": "[encoded data removed]",
      "text/plain": [
       "<Figure size 640x480 with 3 Axes>"
      ]
     },
     "metadata": {},
     "output_type": "display_data"
    }
   ],
   "source": [
    "segment.plot_overview(incoming=astra_beam)"
   ]
  },
  {
   "cell_type": "markdown",
   "metadata": {},
   "source": [
    "where the keyword argument `incoming` is the incoming beam represented by the reference particles.\n"
   ]
  },
  {
   "cell_type": "markdown",
   "metadata": {},
   "source": []
  }
 ],
 "metadata": {
  "kernelspec": {
   "display_name": "cheetah-dev",
   "language": "python",
   "name": "python3"
  },
  "language_info": {
   "codemirror_mode": {
    "name": "ipython",
    "version": 3
   },
   "file_extension": ".py",
   "mimetype": "text/x-python",
   "name": "python",
   "nbconvert_exporter": "python",
   "pygments_lexer": "ipython3",
   "version": "3.13.5"
  },
  "orig_nbformat": 4
 },
 "nbformat": 4,
 "nbformat_minor": 2
}
