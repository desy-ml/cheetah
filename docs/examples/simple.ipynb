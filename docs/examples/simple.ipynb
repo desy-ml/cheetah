{
 "cells": [
  {
   "cell_type": "markdown",
   "metadata": {},
   "source": [
    "# Tracking through a simple lattice\n",
    "\n",
    "In this example, we create a custom lattice and track a beam through it. We start with some imports.\n"
   ]
  },
  {
   "cell_type": "code",
   "execution_count": 1,
   "metadata": {},
   "outputs": [],
   "source": [
    "import torch\n",
    "\n",
    "from cheetah import (\n",
    "    BPM,\n",
    "    Drift,\n",
    "    HorizontalCorrector,\n",
    "    ParticleBeam,\n",
    "    Segment,\n",
    "    VerticalCorrector,\n",
    ")"
   ]
  },
  {
   "cell_type": "markdown",
   "metadata": {},
   "source": [
    "Lattices in _Cheetah_ are represented by `Segments`. A `Segment` is created as follows.\n"
   ]
  },
  {
   "cell_type": "code",
   "execution_count": 2,
   "metadata": {},
   "outputs": [],
   "source": [
    "segment = Segment(\n",
    "    elements=[\n",
    "        BPM(name=\"BPM1SMATCH\"),\n",
    "        Drift(length=torch.tensor(1.0)),\n",
    "        BPM(name=\"BPM6SMATCH\"),\n",
    "        Drift(length=torch.tensor(1.0)),\n",
    "        VerticalCorrector(length=torch.tensor(0.3), name=\"V7SMATCH\"),\n",
    "        Drift(length=torch.tensor(0.2)),\n",
    "        HorizontalCorrector(length=torch.tensor(0.3), name=\"H10SMATCH\"),\n",
    "        Drift(length=torch.tensor(7.0)),\n",
    "        HorizontalCorrector(length=torch.tensor(0.3), name=\"H12SMATCH\"),\n",
    "        Drift(length=torch.tensor(0.05)),\n",
    "        BPM(name=\"BPM13SMATCH\"),\n",
    "    ]\n",
    ")"
   ]
  },
  {
   "cell_type": "markdown",
   "metadata": {},
   "source": [
    "**Note** that many values must be passed to lattice elements as `torch.Tensor`s. This is because _Cheetah_ uses automatic differentiation to compute the gradient of the beam position at the end of the lattice with respect to the element strengths. This is necessary for gradient-based magnet setting optimisation.\n",
    "\n",
    "Named lattice elements (i.e. elements that were given a `name` keyword argument) can be accessed by name and their parameters changed like so.\n"
   ]
  },
  {
   "cell_type": "code",
   "execution_count": 3,
   "metadata": {},
   "outputs": [],
   "source": [
    "segment.V7SMATCH.angle = torch.tensor(3.142e-3)"
   ]
  },
  {
   "cell_type": "markdown",
   "metadata": {},
   "source": [
    "Next, we create a beam to track through the lattice. In this particular example, we import a beam from an Astra particle distribution file. Note that we are using a `ParticleBeam` here, which is a beam defined by individual particles. This is the most precise way to track a beam through a lattice, but also slower than the alternative `ParameterBeam` which is defined by the beam's parameters. Instead of importing beams from other simulation codes, you can also create beams from scratch, either using their parameters or their Twiss parameters.\n"
   ]
  },
  {
   "cell_type": "code",
   "execution_count": 4,
   "metadata": {},
   "outputs": [],
   "source": [
    "incoming_beam = ParticleBeam.from_astra(\"../../benchmark/astra/ACHIP_EA1_2021.1351.001\")"
   ]
  },
  {
   "cell_type": "markdown",
   "metadata": {},
   "source": [
    "In order to track a beam through the segment, simply call the segment's `track` method.\n"
   ]
  },
  {
   "cell_type": "code",
   "execution_count": 5,
   "metadata": {},
   "outputs": [
    {
     "ename": "AttributeError",
     "evalue": "'Segment' object has no attribute 'is_skippable'",
     "output_type": "error",
     "traceback": [
      "\u001b[0;31m---------------------------------------------------------------------------\u001b[0m",
      "\u001b[0;31mAttributeError\u001b[0m                            Traceback (most recent call last)",
      "\u001b[1;32m/Users/jankaiser/Documents/DESY/cheetah/docs/examples/simple.ipynb Cell 10\u001b[0m line \u001b[0;36m1\n\u001b[0;32m----> <a href='vscode-notebook-cell:/Users/jankaiser/Documents/DESY/cheetah/docs/examples/simple.ipynb#X15sZmlsZQ%3D%3D?line=0'>1</a>\u001b[0m outgoing_beam \u001b[39m=\u001b[39m segment\u001b[39m.\u001b[39;49mtrack(incoming_beam)\n",
      "File \u001b[0;32m~/Documents/DESY/cheetah/cheetah/accelerator.py:1671\u001b[0m, in \u001b[0;36mSegment.track\u001b[0;34m(self, incoming)\u001b[0m\n\u001b[1;32m   1670\u001b[0m \u001b[39mdef\u001b[39;00m \u001b[39mtrack\u001b[39m(\u001b[39mself\u001b[39m, incoming: Beam) \u001b[39m-\u001b[39m\u001b[39m>\u001b[39m Beam:\n\u001b[0;32m-> 1671\u001b[0m     \u001b[39mif\u001b[39;00m \u001b[39mself\u001b[39;49m\u001b[39m.\u001b[39;49mis_skippable:\n\u001b[1;32m   1672\u001b[0m         \u001b[39mreturn\u001b[39;00m \u001b[39msuper\u001b[39m()\u001b[39m.\u001b[39mtrack(incoming)\n\u001b[1;32m   1673\u001b[0m     \u001b[39melse\u001b[39;00m:\n",
      "File \u001b[0;32m/opt/homebrew/Caskroom/miniforge/base/envs/cheetah-dev/lib/python3.9/site-packages/torch/nn/modules/module.py:1614\u001b[0m, in \u001b[0;36mModule.__getattr__\u001b[0;34m(self, name)\u001b[0m\n\u001b[1;32m   1612\u001b[0m     \u001b[39mif\u001b[39;00m name \u001b[39min\u001b[39;00m modules:\n\u001b[1;32m   1613\u001b[0m         \u001b[39mreturn\u001b[39;00m modules[name]\n\u001b[0;32m-> 1614\u001b[0m \u001b[39mraise\u001b[39;00m \u001b[39mAttributeError\u001b[39;00m(\u001b[39m\"\u001b[39m\u001b[39m'\u001b[39m\u001b[39m{}\u001b[39;00m\u001b[39m'\u001b[39m\u001b[39m object has no attribute \u001b[39m\u001b[39m'\u001b[39m\u001b[39m{}\u001b[39;00m\u001b[39m'\u001b[39m\u001b[39m\"\u001b[39m\u001b[39m.\u001b[39mformat(\n\u001b[1;32m   1615\u001b[0m     \u001b[39mtype\u001b[39m(\u001b[39mself\u001b[39m)\u001b[39m.\u001b[39m\u001b[39m__name__\u001b[39m, name))\n",
      "\u001b[0;31mAttributeError\u001b[0m: 'Segment' object has no attribute 'is_skippable'"
     ]
    }
   ],
   "source": [
    "outgoing_beam = segment.track(incoming_beam)"
   ]
  },
  {
   "cell_type": "markdown",
   "metadata": {},
   "source": [
    "You may plot a segment with reference particle traces bay calling\n"
   ]
  },
  {
   "cell_type": "code",
   "execution_count": null,
   "metadata": {},
   "outputs": [],
   "source": [
    "segment.plot_overview(beam=incoming_beam)"
   ]
  },
  {
   "cell_type": "markdown",
   "metadata": {},
   "source": [
    "where the optional keyword argument `beam` is the incoming beam represented by the reference particles. Cheetah will use a default incoming beam, if no beam is passed.\n"
   ]
  }
 ],
 "metadata": {
  "kernelspec": {
   "display_name": "cheetah-dev",
   "language": "python",
   "name": "python3"
  },
  "language_info": {
   "codemirror_mode": {
    "name": "ipython",
    "version": 3
   },
   "file_extension": ".py",
   "mimetype": "text/x-python",
   "name": "python",
   "nbconvert_exporter": "python",
   "pygments_lexer": "ipython3",
   "version": "3.9.16"
  },
  "orig_nbformat": 4
 },
 "nbformat": 4,
 "nbformat_minor": 2
}
