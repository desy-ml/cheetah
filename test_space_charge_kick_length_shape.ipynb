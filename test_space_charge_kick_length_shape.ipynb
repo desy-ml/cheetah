{
 "cells": [
  {
   "cell_type": "code",
   "execution_count": 1,
   "metadata": {},
   "outputs": [],
   "source": [
    "import cheetah"
   ]
  },
  {
   "cell_type": "code",
   "execution_count": 2,
   "metadata": {},
   "outputs": [
    {
     "data": {
      "text/plain": [
       "Segment(elements=ModuleList(\n",
       "  (0): Drift(length=tensor(1.), tracking_method='cheetah', name='unnamed_element_0')\n",
       "  (1): SpaceChargeKick(effect_length=tensor(1.), num_grid_points_x=32, num_grid_points_y=32, num_grid_points_tau=32, grid_extend_x=tensor(3.), grid_extend_y=tensor(3.), grid_extend_tau=tensor(3.), name='unnamed_element_1')\n",
       "), name='unnamed_element_2')"
      ]
     },
     "execution_count": 2,
     "metadata": {},
     "output_type": "execute_result"
    }
   ],
   "source": [
    "segment = cheetah.Segment(\n",
    "    [\n",
    "        cheetah.Drift(length=1.0),\n",
    "        cheetah.SpaceChargeKick(effect_length=1.0),\n",
    "    ]\n",
    ")\n",
    "segment"
   ]
  },
  {
   "cell_type": "code",
   "execution_count": 3,
   "metadata": {},
   "outputs": [
    {
     "name": "stderr",
     "output_type": "stream",
     "text": [
      "ic| lengths: [tensor(1.), tensor(0.)]\n"
     ]
    },
    {
     "data": {
      "text/plain": [
       "tensor(1.)"
      ]
     },
     "execution_count": 3,
     "metadata": {},
     "output_type": "execute_result"
    }
   ],
   "source": [
    "segment.length"
   ]
  },
  {
   "cell_type": "code",
   "execution_count": 4,
   "metadata": {},
   "outputs": [
    {
     "data": {
      "text/plain": [
       "ParticleBeam(n=100000, mu_x=tensor(8.2413e-07), mu_px=tensor(5.9885e-08), mu_y=tensor(-1.7276e-06), mu_py=tensor(-1.1746e-07), sigma_x=tensor(0.0002), sigma_px=tensor(3.6794e-06), sigma_y=tensor(0.0002), sigma_py=tensor(3.6941e-06), sigma_tau=tensor(8.0116e-06), sigma_p=tensor(0.0023), energy=tensor(1.0732e+08)) total_charge=tensor(5.0000e-13))"
      ]
     },
     "execution_count": 4,
     "metadata": {},
     "output_type": "execute_result"
    }
   ],
   "source": [
    "beam = cheetah.ParticleBeam.from_astra(\"tests/resources/ACHIP_EA1_2021.1351.001\")\n",
    "beam"
   ]
  },
  {
   "cell_type": "code",
   "execution_count": 5,
   "metadata": {},
   "outputs": [
    {
     "ename": "IndexError",
     "evalue": "index -38 is out of bounds for dimension 3 with size 32",
     "output_type": "error",
     "traceback": [
      "\u001b[0;31m---------------------------------------------------------------------------\u001b[0m",
      "\u001b[0;31mIndexError\u001b[0m                                Traceback (most recent call last)",
      "Cell \u001b[0;32mIn[5], line 1\u001b[0m\n\u001b[0;32m----> 1\u001b[0m \u001b[43msegment\u001b[49m\u001b[38;5;241;43m.\u001b[39;49m\u001b[43mtrack\u001b[49m\u001b[43m(\u001b[49m\u001b[43mbeam\u001b[49m\u001b[43m)\u001b[49m\n",
      "File \u001b[0;32m~/Documents/DESY/cheetah/cheetah/accelerator/segment.py:380\u001b[0m, in \u001b[0;36mSegment.track\u001b[0;34m(self, incoming)\u001b[0m\n\u001b[1;32m    377\u001b[0m         todos[\u001b[38;5;241m-\u001b[39m\u001b[38;5;241m1\u001b[39m]\u001b[38;5;241m.\u001b[39melements\u001b[38;5;241m.\u001b[39mappend(element)\n\u001b[1;32m    379\u001b[0m \u001b[38;5;28;01mfor\u001b[39;00m todo \u001b[38;5;129;01min\u001b[39;00m todos:\n\u001b[0;32m--> 380\u001b[0m     incoming \u001b[38;5;241m=\u001b[39m \u001b[43mtodo\u001b[49m\u001b[38;5;241;43m.\u001b[39;49m\u001b[43mtrack\u001b[49m\u001b[43m(\u001b[49m\u001b[43mincoming\u001b[49m\u001b[43m)\u001b[49m\n\u001b[1;32m    382\u001b[0m \u001b[38;5;28;01mreturn\u001b[39;00m incoming\n",
      "File \u001b[0;32m~/Documents/DESY/cheetah/cheetah/accelerator/space_charge_kick.py:589\u001b[0m, in \u001b[0;36mSpaceChargeKick.track\u001b[0;34m(self, incoming)\u001b[0m\n\u001b[1;32m    587\u001b[0m \u001b[38;5;66;03m# Change coordinates to apply the space charge effect\u001b[39;00m\n\u001b[1;32m    588\u001b[0m xp_coordinates \u001b[38;5;241m=\u001b[39m flattened_incoming\u001b[38;5;241m.\u001b[39mto_xyz_pxpypz()\n\u001b[0;32m--> 589\u001b[0m forces \u001b[38;5;241m=\u001b[39m \u001b[38;5;28;43mself\u001b[39;49m\u001b[38;5;241;43m.\u001b[39;49m\u001b[43m_compute_forces\u001b[49m\u001b[43m(\u001b[49m\n\u001b[1;32m    590\u001b[0m \u001b[43m    \u001b[49m\u001b[43mflattened_incoming\u001b[49m\u001b[43m,\u001b[49m\u001b[43m \u001b[49m\u001b[43mxp_coordinates\u001b[49m\u001b[43m,\u001b[49m\u001b[43m \u001b[49m\u001b[43mcell_size\u001b[49m\u001b[43m,\u001b[49m\u001b[43m \u001b[49m\u001b[43mgrid_dimensions\u001b[49m\n\u001b[1;32m    591\u001b[0m \u001b[43m\u001b[49m\u001b[43m)\u001b[49m\n\u001b[1;32m    592\u001b[0m xp_coordinates[\u001b[38;5;241m.\u001b[39m\u001b[38;5;241m.\u001b[39m\u001b[38;5;241m.\u001b[39m, \u001b[38;5;241m1\u001b[39m] \u001b[38;5;241m=\u001b[39m xp_coordinates[\u001b[38;5;241m.\u001b[39m\u001b[38;5;241m.\u001b[39m\u001b[38;5;241m.\u001b[39m, \u001b[38;5;241m1\u001b[39m] \u001b[38;5;241m+\u001b[39m forces[\n\u001b[1;32m    593\u001b[0m     \u001b[38;5;241m.\u001b[39m\u001b[38;5;241m.\u001b[39m\u001b[38;5;241m.\u001b[39m, \u001b[38;5;241m0\u001b[39m\n\u001b[1;32m    594\u001b[0m ] \u001b[38;5;241m*\u001b[39m dt\u001b[38;5;241m.\u001b[39munsqueeze(\u001b[38;5;241m-\u001b[39m\u001b[38;5;241m1\u001b[39m)\n\u001b[1;32m    595\u001b[0m xp_coordinates[\u001b[38;5;241m.\u001b[39m\u001b[38;5;241m.\u001b[39m\u001b[38;5;241m.\u001b[39m, \u001b[38;5;241m3\u001b[39m] \u001b[38;5;241m=\u001b[39m xp_coordinates[\u001b[38;5;241m.\u001b[39m\u001b[38;5;241m.\u001b[39m\u001b[38;5;241m.\u001b[39m, \u001b[38;5;241m3\u001b[39m] \u001b[38;5;241m+\u001b[39m forces[\n\u001b[1;32m    596\u001b[0m     \u001b[38;5;241m.\u001b[39m\u001b[38;5;241m.\u001b[39m\u001b[38;5;241m.\u001b[39m, \u001b[38;5;241m1\u001b[39m\n\u001b[1;32m    597\u001b[0m ] \u001b[38;5;241m*\u001b[39m dt\u001b[38;5;241m.\u001b[39munsqueeze(\u001b[38;5;241m-\u001b[39m\u001b[38;5;241m1\u001b[39m)\n",
      "File \u001b[0;32m~/Documents/DESY/cheetah/cheetah/accelerator/space_charge_kick.py:513\u001b[0m, in \u001b[0;36mSpaceChargeKick._compute_forces\u001b[0;34m(self, beam, xp_coordinates, cell_size, grid_dimensions)\u001b[0m\n\u001b[1;32m    505\u001b[0m \u001b[38;5;66;03m# Keep dimensions, and set F to zero if non-valid\u001b[39;00m\n\u001b[1;32m    506\u001b[0m force_indices \u001b[38;5;241m=\u001b[39m (\n\u001b[1;32m    507\u001b[0m     idx_vector,\n\u001b[1;32m    508\u001b[0m     torch\u001b[38;5;241m.\u001b[39mclamp(idx_x, \u001b[38;5;28mmax\u001b[39m\u001b[38;5;241m=\u001b[39mgrid_shape[\u001b[38;5;241m0\u001b[39m] \u001b[38;5;241m-\u001b[39m \u001b[38;5;241m1\u001b[39m),\n\u001b[1;32m    509\u001b[0m     torch\u001b[38;5;241m.\u001b[39mclamp(idx_y, \u001b[38;5;28mmax\u001b[39m\u001b[38;5;241m=\u001b[39mgrid_shape[\u001b[38;5;241m1\u001b[39m] \u001b[38;5;241m-\u001b[39m \u001b[38;5;241m1\u001b[39m),\n\u001b[1;32m    510\u001b[0m     torch\u001b[38;5;241m.\u001b[39mclamp(idx_tau, \u001b[38;5;28mmax\u001b[39m\u001b[38;5;241m=\u001b[39mgrid_shape[\u001b[38;5;241m2\u001b[39m] \u001b[38;5;241m-\u001b[39m \u001b[38;5;241m1\u001b[39m),\n\u001b[1;32m    511\u001b[0m )\n\u001b[0;32m--> 513\u001b[0m Fx_values \u001b[38;5;241m=\u001b[39m torch\u001b[38;5;241m.\u001b[39mwhere(valid_mask, \u001b[43mgrad_x\u001b[49m\u001b[43m[\u001b[49m\u001b[43mforce_indices\u001b[49m\u001b[43m]\u001b[49m, \u001b[38;5;241m0\u001b[39m)\n\u001b[1;32m    514\u001b[0m Fy_values \u001b[38;5;241m=\u001b[39m torch\u001b[38;5;241m.\u001b[39mwhere(valid_mask, grad_y[force_indices], \u001b[38;5;241m0\u001b[39m)\n\u001b[1;32m    515\u001b[0m Fz_values \u001b[38;5;241m=\u001b[39m torch\u001b[38;5;241m.\u001b[39mwhere(\n\u001b[1;32m    516\u001b[0m     valid_mask, grad_z[force_indices], \u001b[38;5;241m0\u001b[39m\n\u001b[1;32m    517\u001b[0m )  \u001b[38;5;66;03m# (..., 8 * num_particles)\u001b[39;00m\n",
      "\u001b[0;31mIndexError\u001b[0m: index -38 is out of bounds for dimension 3 with size 32"
     ]
    }
   ],
   "source": [
    "segment.track(beam)"
   ]
  },
  {
   "cell_type": "code",
   "execution_count": 7,
   "metadata": {},
   "outputs": [
    {
     "data": {
      "text/plain": [
       "Segment(elements=ModuleList(\n",
       "  (0): Drift(length=tensor(1.), tracking_method='cheetah', name='unnamed_element_4')\n",
       "), name='unnamed_element_5')"
      ]
     },
     "execution_count": 7,
     "metadata": {},
     "output_type": "execute_result"
    }
   ],
   "source": [
    "other_segment = cheetah.Segment([cheetah.Drift(length=1.0)])\n",
    "other_segment"
   ]
  },
  {
   "cell_type": "code",
   "execution_count": 8,
   "metadata": {},
   "outputs": [
    {
     "data": {
      "text/plain": [
       "tensor(1.)"
      ]
     },
     "execution_count": 8,
     "metadata": {},
     "output_type": "execute_result"
    }
   ],
   "source": [
    "other_segment.length"
   ]
  }
 ],
 "metadata": {
  "kernelspec": {
   "display_name": "cheetah-dev",
   "language": "python",
   "name": "python3"
  },
  "language_info": {
   "codemirror_mode": {
    "name": "ipython",
    "version": 3
   },
   "file_extension": ".py",
   "mimetype": "text/x-python",
   "name": "python",
   "nbconvert_exporter": "python",
   "pygments_lexer": "ipython3",
   "version": "3.12.5"
  }
 },
 "nbformat": 4,
 "nbformat_minor": 2
}
