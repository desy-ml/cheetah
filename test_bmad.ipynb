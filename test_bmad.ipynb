{
 "cells": [
  {
   "cell_type": "code",
   "execution_count": 1,
   "metadata": {},
   "outputs": [],
   "source": [
    "import os\n",
    "import re\n",
    "from copy import deepcopy\n",
    "from pathlib import Path\n",
    "\n",
    "import cheetah.bmad"
   ]
  },
  {
   "cell_type": "code",
   "execution_count": 2,
   "metadata": {},
   "outputs": [
    {
     "data": {
      "text/plain": [
       "'/Users/jankaiser/Documents/DESY/lcls-lattice'"
      ]
     },
     "execution_count": 2,
     "metadata": {},
     "output_type": "execute_result"
    }
   ],
   "source": [
    "os.environ[\"LCLS_LATTICE\"] = str((Path(\".\").absolute().parent / \"lcls-lattice\"))\n",
    "os.environ[\"LCLS_LATTICE\"]"
   ]
  },
  {
   "cell_type": "code",
   "execution_count": 3,
   "metadata": {},
   "outputs": [
    {
     "data": {
      "text/plain": [
       "PosixPath('$LCLS_LATTICE/bmad/models/cu_hxr/cu_hxr.lat.bmad')"
      ]
     },
     "execution_count": 3,
     "metadata": {},
     "output_type": "execute_result"
    }
   ],
   "source": [
    "lattice_file_path = (\n",
    "    Path(\"$LCLS_LATTICE\") / \"bmad\" / \"models\" / \"cu_hxr\" / \"cu_hxr.lat.bmad\"\n",
    ")\n",
    "lattice_file_path"
   ]
  },
  {
   "cell_type": "code",
   "execution_count": 4,
   "metadata": {},
   "outputs": [
    {
     "data": {
      "text/plain": [
       "PosixPath('/Users/jankaiser/Documents/DESY/lcls-lattice/bmad/models/cu_hxr/cu_hxr.lat.bmad')"
      ]
     },
     "execution_count": 4,
     "metadata": {},
     "output_type": "execute_result"
    }
   ],
   "source": [
    "resolved_lattice_file_path = Path(\n",
    "    *[\n",
    "        os.environ[part[1:]] if part.startswith(\"$\") else part\n",
    "        for part in lattice_file_path.parts\n",
    "    ]\n",
    ")\n",
    "resolved_lattice_file_path"
   ]
  },
  {
   "cell_type": "code",
   "execution_count": 5,
   "metadata": {},
   "outputs": [
    {
     "data": {
      "text/plain": [
       "['beginning[beta_a] =  5.91253676811640894e+000',\n",
       " 'beginning[alpha_a] =  3.55631307633660354e+000',\n",
       " 'beginning[beta_b] =  5.91253676811640982e+000',\n",
       " 'beginning[alpha_b] =  3.55631307633660398e+000',\n",
       " 'beginning[e_tot] = 6e6',\n",
       " 'parameter[geometry] = open',\n",
       " 'parameter[particle] = electron',\n",
       " 'beginning[theta_position] = -35*pi/180',\n",
       " 'beginning[z_position] = 3050.512000 - 1032.60052',\n",
       " 'beginning[x_position] = 10.44893',\n",
       " 'setsp = 0',\n",
       " 'setcus = 0',\n",
       " 'setal = 0',\n",
       " 'setda = 0',\n",
       " 'setxleap2 = 0',\n",
       " 'sethxrss = 0',\n",
       " 'setsxrss = 0',\n",
       " 'setcbxfel = 0',\n",
       " 'setpepx = 0',\n",
       " 'intgsx = 30.0']"
      ]
     },
     "execution_count": 5,
     "metadata": {},
     "output_type": "execute_result"
    }
   ],
   "source": [
    "lines = cheetah.bmad.read_clean_lines(resolved_lattice_file_path)\n",
    "lines[:20]"
   ]
  },
  {
   "cell_type": "code",
   "execution_count": 6,
   "metadata": {},
   "outputs": [
    {
     "data": {
      "text/plain": [
       "(14409, 14405)"
      ]
     },
     "execution_count": 6,
     "metadata": {},
     "output_type": "execute_result"
    }
   ],
   "source": [
    "merged_lines = cheetah.bmad.merge_ampersand_continued_lines(lines)\n",
    "len(lines), len(merged_lines)"
   ]
  },
  {
   "cell_type": "code",
   "execution_count": 50,
   "metadata": {},
   "outputs": [
    {
     "name": "stdout",
     "output_type": "stream",
     "text": [
      "dbsy52d[l]\n",
      "\n",
      "######################################\n",
      "num_successful: 3658 / 14409\n",
      "--------------------------------------\n",
      "num_property_assignment = 210\n",
      "num_variable_assignment = 1280\n",
      "num_element = 2024\n",
      "num_line = 49\n",
      "num_incomplete_line_begin = 24\n",
      "num_incomplete_line_middle = 44\n",
      "num_incomplete_line_end = 24\n",
      "num_continued_expression = 3\n",
      "######################################\n"
     ]
    }
   ],
   "source": [
    "property_assignment_pattern = r\"[a-z0-9]+\\[[a-z_]+\\]\\s*=.*\"\n",
    "variable_assignment_pattern = r\"[a-z0-9_]+\\s*=.*\"\n",
    "element_pattern = r\"[a-z0-9_]+\\:.*\"\n",
    "line_pattern = r\"[a-z0-9_]+\\s*\\:\\s*line\\s*=\\s*\\((\\s*[a-z0-9_]+\\s*\\,)*\\s*[a-z0-9_]+\\s*\\)\"\n",
    "incomplete_line_pattern_begin = r\"[a-z0-9_]+\\s*\\:\\s*line\\s*=\\s*\\((\\s*[a-z0-9_]+\\s*\\,)*\"\n",
    "incomplete_line_pattern_middle = r\"(\\s*[a-z0-9_]+\\s*\\,)*\"\n",
    "incomplete_line_pattern_end = r\"(\\s*[a-z0-9_]+\\s*\\,)*\\s*[a-z0-9_]+\\s*\\)\"\n",
    "coninued_expression_pattern = (\n",
    "    r\"[\\+\\-\\*\\/]?[a-z0-9_\\[\\]]+(\\s*[\\+\\-\\*\\/]\\s*[a-z0-9_\\[\\]]+)+(\\s*[\\+\\-\\*\\/]\\s*\\&)?\"\n",
    ")\n",
    "\n",
    "num_successful = 0\n",
    "num_property_assignment = 0\n",
    "num_variable_assignment = 0\n",
    "num_element = 0\n",
    "num_line = 0\n",
    "num_incomplete_line_begin = 0\n",
    "num_incomplete_line_middle = 0\n",
    "num_incomplete_line_end = 0\n",
    "num_continued_expression = 0\n",
    "for line in lines:\n",
    "    if re.fullmatch(property_assignment_pattern, line):\n",
    "        num_successful += 1\n",
    "        num_property_assignment += 1\n",
    "    elif re.fullmatch(variable_assignment_pattern, line):\n",
    "        num_successful += 1\n",
    "        num_variable_assignment += 1\n",
    "    elif re.fullmatch(element_pattern, line):\n",
    "        num_successful += 1\n",
    "        num_element += 1\n",
    "    elif re.fullmatch(line_pattern, line):\n",
    "        num_successful += 1\n",
    "        num_line += 1\n",
    "    elif re.fullmatch(incomplete_line_pattern_begin, line):\n",
    "        num_successful += 1\n",
    "        num_incomplete_line_begin += 1\n",
    "    elif re.fullmatch(incomplete_line_pattern_middle, line):\n",
    "        num_successful += 1\n",
    "        num_incomplete_line_middle += 1\n",
    "    elif re.fullmatch(incomplete_line_pattern_end, line):\n",
    "        num_successful += 1\n",
    "        num_incomplete_line_end += 1\n",
    "    elif re.fullmatch(coninued_expression_pattern, line):\n",
    "        num_successful += 1\n",
    "        num_continued_expression += 1\n",
    "    else:\n",
    "        print(line)\n",
    "        break\n",
    "\n",
    "print(\"\")\n",
    "print(\"######################################\")\n",
    "print(f\"num_successful: {num_successful} / {len(lines)}\")\n",
    "print(\"--------------------------------------\")\n",
    "print(f\"{num_property_assignment = }\")\n",
    "print(f\"{num_variable_assignment = }\")\n",
    "print(f\"{num_element = }\")\n",
    "print(f\"{num_line = }\")\n",
    "print(f\"{num_incomplete_line_begin = }\")\n",
    "print(f\"{num_incomplete_line_middle = }\")\n",
    "print(f\"{num_incomplete_line_end = }\")\n",
    "print(f\"{num_continued_expression = }\")\n",
    "print(\"######################################\")"
   ]
  },
  {
   "cell_type": "code",
   "execution_count": 51,
   "metadata": {},
   "outputs": [
    {
     "data": {
      "text/plain": [
       "'dbsy52d[l]'"
      ]
     },
     "execution_count": 51,
     "metadata": {},
     "output_type": "execute_result"
    }
   ],
   "source": [
    "line"
   ]
  },
  {
   "cell_type": "code",
   "execution_count": 52,
   "metadata": {},
   "outputs": [
    {
     "ename": "AttributeError",
     "evalue": "'NoneType' object has no attribute 'group'",
     "output_type": "error",
     "traceback": [
      "\u001b[0;31m---------------------------------------------------------------------------\u001b[0m",
      "\u001b[0;31mAttributeError\u001b[0m                            Traceback (most recent call last)",
      "Cell \u001b[0;32mIn[52], line 1\u001b[0m\n\u001b[0;32m----> 1\u001b[0m re\u001b[39m.\u001b[39;49mmatch(coninued_expression_pattern, line)\u001b[39m.\u001b[39;49mgroup(\u001b[39m0\u001b[39m)\n",
      "\u001b[0;31mAttributeError\u001b[0m: 'NoneType' object has no attribute 'group'"
     ]
    }
   ],
   "source": [
    "re.match(coninued_expression_pattern, line).group(0)"
   ]
  },
  {
   "cell_type": "code",
   "execution_count": null,
   "metadata": {},
   "outputs": [],
   "source": []
  }
 ],
 "metadata": {
  "kernelspec": {
   "display_name": "cheetah-dev",
   "language": "python",
   "name": "python3"
  },
  "language_info": {
   "codemirror_mode": {
    "name": "ipython",
    "version": 3
   },
   "file_extension": ".py",
   "mimetype": "text/x-python",
   "name": "python",
   "nbconvert_exporter": "python",
   "pygments_lexer": "ipython3",
   "version": "3.9.16"
  },
  "orig_nbformat": 4
 },
 "nbformat": 4,
 "nbformat_minor": 2
}
