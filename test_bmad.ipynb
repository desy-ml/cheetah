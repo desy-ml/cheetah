{
 "cells": [
  {
   "cell_type": "code",
   "execution_count": 1,
   "metadata": {},
   "outputs": [],
   "source": [
    "import math\n",
    "import os\n",
    "import re\n",
    "from copy import deepcopy\n",
    "from pathlib import Path\n",
    "\n",
    "import numpy as np\n",
    "import scipy.constants\n",
    "from scipy.constants import physical_constants\n",
    "\n",
    "import cheetah"
   ]
  },
  {
   "cell_type": "code",
   "execution_count": 2,
   "metadata": {},
   "outputs": [
    {
     "data": {
      "text/plain": [
       "'/Users/jankaiser/Documents/DESY/lcls-lattice'"
      ]
     },
     "execution_count": 2,
     "metadata": {},
     "output_type": "execute_result"
    }
   ],
   "source": [
    "os.environ[\"LCLS_LATTICE\"] = str((Path(\".\").absolute().parent / \"lcls-lattice\"))\n",
    "os.environ[\"LCLS_LATTICE\"]"
   ]
  },
  {
   "cell_type": "code",
   "execution_count": 3,
   "metadata": {},
   "outputs": [
    {
     "data": {
      "text/plain": [
       "PosixPath('$LCLS_LATTICE/bmad/models/cu_hxr/cu_hxr.lat.bmad')"
      ]
     },
     "execution_count": 3,
     "metadata": {},
     "output_type": "execute_result"
    }
   ],
   "source": [
    "lattice_file_path = (\n",
    "    Path(\"$LCLS_LATTICE\") / \"bmad\" / \"models\" / \"cu_hxr\" / \"cu_hxr.lat.bmad\"\n",
    ")\n",
    "lattice_file_path"
   ]
  },
  {
   "cell_type": "code",
   "execution_count": 4,
   "metadata": {},
   "outputs": [
    {
     "data": {
      "text/plain": [
       "PosixPath('/Users/jankaiser/Documents/DESY/lcls-lattice/bmad/models/cu_hxr/cu_hxr.lat.bmad')"
      ]
     },
     "execution_count": 4,
     "metadata": {},
     "output_type": "execute_result"
    }
   ],
   "source": [
    "resolved_lattice_file_path = Path(\n",
    "    *[\n",
    "        os.environ[part[1:]] if part.startswith(\"$\") else part\n",
    "        for part in lattice_file_path.parts\n",
    "    ]\n",
    ")\n",
    "resolved_lattice_file_path"
   ]
  },
  {
   "cell_type": "code",
   "execution_count": 5,
   "metadata": {},
   "outputs": [
    {
     "data": {
      "text/plain": [
       "['beginning[beta_a] =  5.91253676811640894e+000',\n",
       " 'beginning[alpha_a] =  3.55631307633660354e+000',\n",
       " 'beginning[beta_b] =  5.91253676811640982e+000',\n",
       " 'beginning[alpha_b] =  3.55631307633660398e+000',\n",
       " 'beginning[e_tot] = 6e6',\n",
       " 'parameter[geometry] = open',\n",
       " 'parameter[particle] = electron',\n",
       " 'beginning[theta_position] = -35*pi/180',\n",
       " 'beginning[z_position] = 3050.512000 - 1032.60052',\n",
       " 'beginning[x_position] = 10.44893',\n",
       " 'setsp = 0',\n",
       " 'setcus = 0',\n",
       " 'setal = 0',\n",
       " 'setda = 0',\n",
       " 'setxleap2 = 0',\n",
       " 'sethxrss = 0',\n",
       " 'setsxrss = 0',\n",
       " 'setcbxfel = 0',\n",
       " 'setpepx = 0',\n",
       " 'intgsx = 30.0']"
      ]
     },
     "execution_count": 5,
     "metadata": {},
     "output_type": "execute_result"
    }
   ],
   "source": [
    "lines = cheetah.bmad.read_clean_lines(resolved_lattice_file_path)\n",
    "lines[:20]"
   ]
  },
  {
   "cell_type": "code",
   "execution_count": 6,
   "metadata": {},
   "outputs": [
    {
     "data": {
      "text/plain": [
       "(14409, 12215)"
      ]
     },
     "execution_count": 6,
     "metadata": {},
     "output_type": "execute_result"
    }
   ],
   "source": [
    "merged_lines = cheetah.bmad.merge_delimiter_continued_lines(\n",
    "    lines, delimiter=\"&\", remove_delimiter=True\n",
    ")\n",
    "merged_lines = cheetah.bmad.merge_delimiter_continued_lines(\n",
    "    merged_lines, delimiter=\",\", remove_delimiter=False\n",
    ")\n",
    "merged_lines = cheetah.bmad.merge_delimiter_continued_lines(\n",
    "    merged_lines, delimiter=\"{\", remove_delimiter=False\n",
    ")\n",
    "len(lines), len(merged_lines)"
   ]
  },
  {
   "cell_type": "code",
   "execution_count": 7,
   "metadata": {},
   "outputs": [],
   "source": [
    "context = cheetah.bmad.parse_lines(merged_lines)"
   ]
  },
  {
   "cell_type": "code",
   "execution_count": 8,
   "metadata": {},
   "outputs": [
    {
     "data": {
      "text/plain": [
       "'cu_hxr'"
      ]
     },
     "execution_count": 8,
     "metadata": {},
     "output_type": "execute_result"
    }
   ],
   "source": [
    "context[\"__use__\"]"
   ]
  },
  {
   "cell_type": "code",
   "execution_count": 9,
   "metadata": {},
   "outputs": [
    {
     "data": {
      "text/plain": [
       "['gunl0a', 'l0al0b', 'lcls2cuh']"
      ]
     },
     "execution_count": 9,
     "metadata": {},
     "output_type": "execute_result"
    }
   ],
   "source": [
    "context[\"cu_hxr\"]"
   ]
  },
  {
   "cell_type": "code",
   "execution_count": 10,
   "metadata": {},
   "outputs": [
    {
     "data": {
      "text/plain": [
       "['lcls2cuc', 'bsyltuh']"
      ]
     },
     "execution_count": 10,
     "metadata": {},
     "output_type": "execute_result"
    }
   ],
   "source": [
    "context[\"lcls2cuh\"]"
   ]
  },
  {
   "cell_type": "code",
   "execution_count": 11,
   "metadata": {},
   "outputs": [
    {
     "data": {
      "text/plain": [
       "['dl1', 'l1', 'bc1', 'l2', 'bc2', 'l3']"
      ]
     },
     "execution_count": 11,
     "metadata": {},
     "output_type": "execute_result"
    }
   ],
   "source": [
    "context[\"lcls2cuc\"]"
   ]
  },
  {
   "cell_type": "code",
   "execution_count": 12,
   "metadata": {},
   "outputs": [
    {
     "data": {
      "text/plain": [
       "['dl1_1', 'dl1_2']"
      ]
     },
     "execution_count": 12,
     "metadata": {},
     "output_type": "execute_result"
    }
   ],
   "source": [
    "context[\"dl1\"]"
   ]
  },
  {
   "cell_type": "code",
   "execution_count": 13,
   "metadata": {},
   "outputs": [
    {
     "data": {
      "text/plain": [
       "['begdl1_1',\n",
       " 'emat',\n",
       " 'de00',\n",
       " 'de00a',\n",
       " 'qe01_full',\n",
       " 'de01a',\n",
       " 'im02',\n",
       " 'de01b',\n",
       " 'vv02',\n",
       " 'de01c',\n",
       " 'qe02_full',\n",
       " 'dh00',\n",
       " 'lsrhtr',\n",
       " 'dh06',\n",
       " 'tcav0_full',\n",
       " 'de02',\n",
       " 'qe03_full',\n",
       " 'de03a',\n",
       " 'de03b',\n",
       " 'sc7',\n",
       " 'de03c',\n",
       " 'qe04_full',\n",
       " 'de04',\n",
       " 'ws01',\n",
       " 'de05',\n",
       " 'otr1',\n",
       " 'de05c',\n",
       " 'vv03',\n",
       " 'de06a',\n",
       " 'rst1',\n",
       " 'de06b',\n",
       " 'ws02',\n",
       " 'de05a',\n",
       " 'mrk0',\n",
       " 'de05a',\n",
       " 'otr2',\n",
       " 'de06d',\n",
       " 'bpm10',\n",
       " 'de06e',\n",
       " 'ws03',\n",
       " 'de05',\n",
       " 'otr3',\n",
       " 'de07',\n",
       " 'qm01_full',\n",
       " 'de08',\n",
       " 'sc8',\n",
       " 'de08a',\n",
       " 'vv04',\n",
       " 'de08b',\n",
       " 'qm02_full',\n",
       " 'de09',\n",
       " 'dbmark82',\n",
       " 'enddl1_1']"
      ]
     },
     "execution_count": 13,
     "metadata": {},
     "output_type": "execute_result"
    }
   ],
   "source": [
    "context[\"dl1_1\"]"
   ]
  },
  {
   "cell_type": "code",
   "execution_count": 14,
   "metadata": {},
   "outputs": [
    {
     "data": {
      "text/plain": [
       "{'element_type': 'marker'}"
      ]
     },
     "execution_count": 14,
     "metadata": {},
     "output_type": "execute_result"
    }
   ],
   "source": [
    "context[\"vv02\"]"
   ]
  },
  {
   "cell_type": "code",
   "execution_count": 15,
   "metadata": {},
   "outputs": [],
   "source": [
    "def validate_understood_properties(understood: list[str], properties: dict) -> None:\n",
    "    \"\"\"\n",
    "    Validate that all properties are understood. This function primarily ensures that\n",
    "    properties not understood by Cheetah are not ignored silently.\n",
    "    \"\"\"\n",
    "    for property in properties:\n",
    "        assert property in understood, (\n",
    "            f\"Property {property} with value {properties[property]} for element\"\n",
    "            f\" type {properties['element_type']} is currently not understood.\"\n",
    "        )"
   ]
  },
  {
   "cell_type": "code",
   "execution_count": 16,
   "metadata": {},
   "outputs": [],
   "source": [
    "def convert_element(name: str, properties: dict):\n",
    "    \"\"\"\n",
    "    Convert parsed element dictionary from a Bmad lattice file to a Cheetah element.\n",
    "    \"\"\"\n",
    "    if properties[\"element_type\"] == \"drift\" or properties[\"element_type\"] == \"pipe\":\n",
    "        validate_understood_properties(\n",
    "            [\"element_type\", \"l\", \"type\", \"descrip\"], properties\n",
    "        )\n",
    "        return cheetah.Drift(name=name, length=properties[\"l\"])\n",
    "    elif (\n",
    "        properties[\"element_type\"] == \"marker\"\n",
    "        or properties[\"element_type\"] == \"monitor\"\n",
    "        or properties[\"element_type\"] == \"instrument\"\n",
    "    ):\n",
    "        validate_understood_properties([\"element_type\", \"type\"], properties)\n",
    "\n",
    "        # TODO: Remove the length if by adding markers to Cheeath\n",
    "        return cheetah.Drift(name=name, length=0.0)\n",
    "    elif properties[\"element_type\"] == \"quadrupole\":\n",
    "        # TODO: Aperture for quadrupoles?\n",
    "        validate_understood_properties(\n",
    "            [\"element_type\", \"l\", \"k1\", \"type\", \"aperture\"], properties\n",
    "        )\n",
    "        return cheetah.Quadrupole(\n",
    "            name=name, length=properties[\"l\"], k1=properties[\"k1\"]\n",
    "        )\n",
    "    else:\n",
    "        print(\n",
    "            f\"WARNING: Element of type {properties['element_type']} cannot be converted\"\n",
    "            \" correctly. Using drift section instead.\"\n",
    "        )\n",
    "        # TODO: Remove the length if by adding markers to Cheeath\n",
    "        return cheetah.Drift(\n",
    "            name=name, length=properties[\"l\"] if \"l\" in properties else 0.0\n",
    "        )"
   ]
  },
  {
   "cell_type": "code",
   "execution_count": null,
   "metadata": {},
   "outputs": [],
   "source": []
  }
 ],
 "metadata": {
  "kernelspec": {
   "display_name": "cheetah-dev",
   "language": "python",
   "name": "python3"
  },
  "language_info": {
   "codemirror_mode": {
    "name": "ipython",
    "version": 3
   },
   "file_extension": ".py",
   "mimetype": "text/x-python",
   "name": "python",
   "nbconvert_exporter": "python",
   "pygments_lexer": "ipython3",
   "version": "3.9.16"
  },
  "orig_nbformat": 4
 },
 "nbformat": 4,
 "nbformat_minor": 2
}
