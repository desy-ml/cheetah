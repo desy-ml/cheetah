{
 "cells": [
  {
   "cell_type": "code",
   "execution_count": 1,
   "metadata": {},
   "outputs": [],
   "source": [
    "import os\n",
    "import re\n",
    "from copy import deepcopy\n",
    "from pathlib import Path\n",
    "\n",
    "import cheetah.bmad"
   ]
  },
  {
   "cell_type": "code",
   "execution_count": 2,
   "metadata": {},
   "outputs": [
    {
     "data": {
      "text/plain": [
       "'/Users/jankaiser/Documents/DESY/lcls-lattice'"
      ]
     },
     "execution_count": 2,
     "metadata": {},
     "output_type": "execute_result"
    }
   ],
   "source": [
    "os.environ[\"LCLS_LATTICE\"] = str((Path(\".\").absolute().parent / \"lcls-lattice\"))\n",
    "os.environ[\"LCLS_LATTICE\"]"
   ]
  },
  {
   "cell_type": "code",
   "execution_count": 3,
   "metadata": {},
   "outputs": [
    {
     "data": {
      "text/plain": [
       "PosixPath('$LCLS_LATTICE/bmad/models/cu_hxr/cu_hxr.lat.bmad')"
      ]
     },
     "execution_count": 3,
     "metadata": {},
     "output_type": "execute_result"
    }
   ],
   "source": [
    "lattice_file_path = (\n",
    "    Path(\"$LCLS_LATTICE\") / \"bmad\" / \"models\" / \"cu_hxr\" / \"cu_hxr.lat.bmad\"\n",
    ")\n",
    "lattice_file_path"
   ]
  },
  {
   "cell_type": "code",
   "execution_count": 4,
   "metadata": {},
   "outputs": [
    {
     "data": {
      "text/plain": [
       "PosixPath('/Users/jankaiser/Documents/DESY/lcls-lattice/bmad/models/cu_hxr/cu_hxr.lat.bmad')"
      ]
     },
     "execution_count": 4,
     "metadata": {},
     "output_type": "execute_result"
    }
   ],
   "source": [
    "resolved_lattice_file_path = Path(\n",
    "    *[\n",
    "        os.environ[part[1:]] if part.startswith(\"$\") else part\n",
    "        for part in lattice_file_path.parts\n",
    "    ]\n",
    ")\n",
    "resolved_lattice_file_path"
   ]
  },
  {
   "cell_type": "code",
   "execution_count": 5,
   "metadata": {},
   "outputs": [
    {
     "data": {
      "text/plain": [
       "['beginning[beta_a] =  5.91253676811640894e+000',\n",
       " 'beginning[alpha_a] =  3.55631307633660354e+000',\n",
       " 'beginning[beta_b] =  5.91253676811640982e+000',\n",
       " 'beginning[alpha_b] =  3.55631307633660398e+000',\n",
       " 'beginning[e_tot] = 6e6',\n",
       " 'parameter[geometry] = open',\n",
       " 'parameter[particle] = electron',\n",
       " 'beginning[theta_position] = -35*pi/180',\n",
       " 'beginning[z_position] = 3050.512000 - 1032.60052',\n",
       " 'beginning[x_position] = 10.44893',\n",
       " 'setsp = 0',\n",
       " 'setcus = 0',\n",
       " 'setal = 0',\n",
       " 'setda = 0',\n",
       " 'setxleap2 = 0',\n",
       " 'sethxrss = 0',\n",
       " 'setsxrss = 0',\n",
       " 'setcbxfel = 0',\n",
       " 'setpepx = 0',\n",
       " 'intgsx = 30.0']"
      ]
     },
     "execution_count": 5,
     "metadata": {},
     "output_type": "execute_result"
    }
   ],
   "source": [
    "lines = cheetah.bmad.read_clean_lines(resolved_lattice_file_path)\n",
    "lines[:20]"
   ]
  },
  {
   "cell_type": "code",
   "execution_count": 8,
   "metadata": {},
   "outputs": [
    {
     "data": {
      "text/plain": [
       "(14409, 12215)"
      ]
     },
     "execution_count": 8,
     "metadata": {},
     "output_type": "execute_result"
    }
   ],
   "source": [
    "merged_lines = cheetah.bmad.merge_delimitter_continued_lines(\n",
    "    lines, delimitter=\"&\", remove_delimitter=True\n",
    ")\n",
    "merged_lines = cheetah.bmad.merge_delimitter_continued_lines(\n",
    "    merged_lines, delimitter=\",\", remove_delimitter=False\n",
    ")\n",
    "merged_lines = cheetah.bmad.merge_delimitter_continued_lines(\n",
    "    merged_lines, delimitter=\"{\", remove_delimitter=False\n",
    ")\n",
    "len(lines), len(merged_lines)"
   ]
  },
  {
   "cell_type": "code",
   "execution_count": 10,
   "metadata": {},
   "outputs": [
    {
     "name": "stdout",
     "output_type": "stream",
     "text": [
      "\n",
      "######################################\n",
      "num_successful: 12215 / 12215\n",
      "--------------------------------------\n",
      "num_property_assignment = 4256\n",
      "num_variable_assignment = 1684\n",
      "num_element_definition = 5657\n",
      "num_line_definition = 617\n",
      "num_use_line = 1\n",
      "######################################\n"
     ]
    }
   ],
   "source": [
    "property_assignment_pattern = r\"[a-z0-9_]+\\[[a-z0-9_%]+\\]\\s*=.*\"\n",
    "variable_assignment_pattern = r\"[a-z0-9_]+\\s*=.*\"\n",
    "element_definition_pattern = r\"[a-z0-9_]+\\:.*\"\n",
    "line_definition_pattern = r\"[a-z0-9_]+\\s*\\:\\s*line\\s*=\\s*\\(.*\\)\"\n",
    "use_line_pattern = r\"use\\s*\\,\\s*[a-z0-9_]+\"\n",
    "\n",
    "num_successful = 0\n",
    "num_property_assignment = 0\n",
    "num_variable_assignment = 0\n",
    "num_element_definition = 0\n",
    "num_line_definition = 0\n",
    "num_use_line = 0\n",
    "for line in merged_lines:\n",
    "    if re.fullmatch(property_assignment_pattern, line):\n",
    "        num_successful += 1\n",
    "        num_property_assignment += 1\n",
    "    elif re.fullmatch(variable_assignment_pattern, line):\n",
    "        num_successful += 1\n",
    "        num_variable_assignment += 1\n",
    "    elif re.fullmatch(element_definition_pattern, line):\n",
    "        num_successful += 1\n",
    "        num_element_definition += 1\n",
    "    elif re.fullmatch(line_definition_pattern, line):\n",
    "        num_successful += 1\n",
    "        num_line_definition += 1\n",
    "    elif re.fullmatch(use_line_pattern, line):\n",
    "        num_successful += 1\n",
    "        num_use_line += 1\n",
    "    else:\n",
    "        print(line)\n",
    "        break\n",
    "\n",
    "print(\"\")\n",
    "print(\"######################################\")\n",
    "print(f\"num_successful: {num_successful} / {len(merged_lines)}\")\n",
    "print(\"--------------------------------------\")\n",
    "print(f\"{num_property_assignment = }\")\n",
    "print(f\"{num_variable_assignment = }\")\n",
    "print(f\"{num_element_definition = }\")\n",
    "print(f\"{num_line_definition = }\")\n",
    "print(f\"{num_use_line = }\")\n",
    "print(\"######################################\")"
   ]
  },
  {
   "cell_type": "code",
   "execution_count": null,
   "metadata": {},
   "outputs": [],
   "source": []
  }
 ],
 "metadata": {
  "kernelspec": {
   "display_name": "cheetah-dev",
   "language": "python",
   "name": "python3"
  },
  "language_info": {
   "codemirror_mode": {
    "name": "ipython",
    "version": 3
   },
   "file_extension": ".py",
   "mimetype": "text/x-python",
   "name": "python",
   "nbconvert_exporter": "python",
   "pygments_lexer": "ipython3",
   "version": "3.9.16"
  },
  "orig_nbformat": 4
 },
 "nbformat": 4,
 "nbformat_minor": 2
}
