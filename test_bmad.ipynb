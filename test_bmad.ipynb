{
 "cells": [
  {
   "cell_type": "code",
   "execution_count": 1,
   "metadata": {},
   "outputs": [],
   "source": [
    "import math\n",
    "import os\n",
    "import re\n",
    "from copy import deepcopy\n",
    "from pathlib import Path\n",
    "\n",
    "import numpy as np\n",
    "import scipy.constants\n",
    "from scipy.constants import physical_constants\n",
    "\n",
    "import cheetah"
   ]
  },
  {
   "cell_type": "code",
   "execution_count": 2,
   "metadata": {},
   "outputs": [
    {
     "data": {
      "text/plain": [
       "'/Users/jankaiser/Documents/DESY/lcls-lattice'"
      ]
     },
     "execution_count": 2,
     "metadata": {},
     "output_type": "execute_result"
    }
   ],
   "source": [
    "os.environ[\"LCLS_LATTICE\"] = str((Path(\".\").absolute().parent / \"lcls-lattice\"))\n",
    "os.environ[\"LCLS_LATTICE\"]"
   ]
  },
  {
   "cell_type": "code",
   "execution_count": 3,
   "metadata": {},
   "outputs": [
    {
     "data": {
      "text/plain": [
       "PosixPath('$LCLS_LATTICE/bmad/models/cu_hxr/cu_hxr.lat.bmad')"
      ]
     },
     "execution_count": 3,
     "metadata": {},
     "output_type": "execute_result"
    }
   ],
   "source": [
    "lattice_file_path = (\n",
    "    Path(\"$LCLS_LATTICE\") / \"bmad\" / \"models\" / \"cu_hxr\" / \"cu_hxr.lat.bmad\"\n",
    ")\n",
    "lattice_file_path"
   ]
  },
  {
   "cell_type": "code",
   "execution_count": 4,
   "metadata": {},
   "outputs": [
    {
     "data": {
      "text/plain": [
       "PosixPath('/Users/jankaiser/Documents/DESY/lcls-lattice/bmad/models/cu_hxr/cu_hxr.lat.bmad')"
      ]
     },
     "execution_count": 4,
     "metadata": {},
     "output_type": "execute_result"
    }
   ],
   "source": [
    "resolved_lattice_file_path = Path(\n",
    "    *[\n",
    "        os.environ[part[1:]] if part.startswith(\"$\") else part\n",
    "        for part in lattice_file_path.parts\n",
    "    ]\n",
    ")\n",
    "resolved_lattice_file_path"
   ]
  },
  {
   "cell_type": "code",
   "execution_count": 5,
   "metadata": {},
   "outputs": [
    {
     "data": {
      "text/plain": [
       "['beginning[beta_a] =  5.91253676811640894e+000',\n",
       " 'beginning[alpha_a] =  3.55631307633660354e+000',\n",
       " 'beginning[beta_b] =  5.91253676811640982e+000',\n",
       " 'beginning[alpha_b] =  3.55631307633660398e+000',\n",
       " 'beginning[e_tot] = 6e6',\n",
       " 'parameter[geometry] = open',\n",
       " 'parameter[particle] = electron',\n",
       " 'beginning[theta_position] = -35*pi/180',\n",
       " 'beginning[z_position] = 3050.512000 - 1032.60052',\n",
       " 'beginning[x_position] = 10.44893',\n",
       " 'setsp = 0',\n",
       " 'setcus = 0',\n",
       " 'setal = 0',\n",
       " 'setda = 0',\n",
       " 'setxleap2 = 0',\n",
       " 'sethxrss = 0',\n",
       " 'setsxrss = 0',\n",
       " 'setcbxfel = 0',\n",
       " 'setpepx = 0',\n",
       " 'intgsx = 30.0']"
      ]
     },
     "execution_count": 5,
     "metadata": {},
     "output_type": "execute_result"
    }
   ],
   "source": [
    "lines = cheetah.bmad.read_clean_lines(resolved_lattice_file_path)\n",
    "lines[:20]"
   ]
  },
  {
   "cell_type": "code",
   "execution_count": 6,
   "metadata": {},
   "outputs": [
    {
     "data": {
      "text/plain": [
       "(14409, 12215)"
      ]
     },
     "execution_count": 6,
     "metadata": {},
     "output_type": "execute_result"
    }
   ],
   "source": [
    "merged_lines = cheetah.bmad.merge_delimiter_continued_lines(\n",
    "    lines, delimiter=\"&\", remove_delimiter=True\n",
    ")\n",
    "merged_lines = cheetah.bmad.merge_delimiter_continued_lines(\n",
    "    merged_lines, delimiter=\",\", remove_delimiter=False\n",
    ")\n",
    "merged_lines = cheetah.bmad.merge_delimiter_continued_lines(\n",
    "    merged_lines, delimiter=\"{\", remove_delimiter=False\n",
    ")\n",
    "len(lines), len(merged_lines)"
   ]
  },
  {
   "cell_type": "code",
   "execution_count": 7,
   "metadata": {},
   "outputs": [
    {
     "name": "stdout",
     "output_type": "stream",
     "text": [
      "\n",
      "######################################\n",
      "num_successful: 12215 / 12215\n",
      "--------------------------------------\n",
      "num_property_assignment = 4261\n",
      "num_variable_assignment = 1684\n",
      "num_element_definition = 4854\n",
      "num_line_definition = 1309\n",
      "num_overlay_definition = 106\n",
      "num_use_line = 1\n",
      "######################################\n"
     ]
    }
   ],
   "source": [
    "property_assignment_pattern = r\"[a-z0-9_\\*:]+\\[[a-z0-9_%]+\\]\\s*=.*\"\n",
    "variable_assignment_pattern = r\"[a-z0-9_]+\\s*=.*\"\n",
    "element_definition_pattern = r\"[a-z0-9_]+\\s*\\:\\s*[a-z0-9_]+.*\"\n",
    "line_definition_pattern = r\"[a-z0-9_]+\\s*\\:\\s*line\\s*=\\s*\\(.*\\)\"\n",
    "overlay_definition_pattern = r\"[a-z0-9_]+\\s*\\:\\s*overlay\\s*=\\s*\\{.*\"\n",
    "use_line_pattern = r\"use\\s*\\,\\s*[a-z0-9_]+\"\n",
    "\n",
    "num_successful = 0\n",
    "num_property_assignment = 0\n",
    "num_variable_assignment = 0\n",
    "num_element_definition = 0\n",
    "num_line_definition = 0\n",
    "num_overlay_definition = 0\n",
    "num_use_line = 0\n",
    "for line in merged_lines:\n",
    "    if re.fullmatch(property_assignment_pattern, line):\n",
    "        num_successful += 1\n",
    "        num_property_assignment += 1\n",
    "    elif re.fullmatch(variable_assignment_pattern, line):\n",
    "        num_successful += 1\n",
    "        num_variable_assignment += 1\n",
    "    elif re.fullmatch(line_definition_pattern, line):\n",
    "        num_successful += 1\n",
    "        num_line_definition += 1\n",
    "    elif re.fullmatch(overlay_definition_pattern, line):\n",
    "        num_successful += 1\n",
    "        num_overlay_definition += 1\n",
    "    elif re.fullmatch(element_definition_pattern, line):\n",
    "        num_successful += 1\n",
    "        num_element_definition += 1\n",
    "    elif re.fullmatch(use_line_pattern, line):\n",
    "        num_successful += 1\n",
    "        num_use_line += 1\n",
    "    else:\n",
    "        print(line)\n",
    "        break\n",
    "\n",
    "print(\"\")\n",
    "print(\"######################################\")\n",
    "print(f\"num_successful: {num_successful} / {len(merged_lines)}\")\n",
    "print(\"--------------------------------------\")\n",
    "print(f\"{num_property_assignment = }\")\n",
    "print(f\"{num_variable_assignment = }\")\n",
    "print(f\"{num_element_definition = }\")\n",
    "print(f\"{num_line_definition = }\")\n",
    "print(f\"{num_overlay_definition = }\")\n",
    "print(f\"{num_use_line = }\")\n",
    "print(\"######################################\")"
   ]
  },
  {
   "cell_type": "code",
   "execution_count": 8,
   "metadata": {},
   "outputs": [],
   "source": [
    "def evaluate_expression(expression: str, context: dict) -> dict:\n",
    "    \"\"\"Evaluate an expression in the context of a dictionary of variables.\"\"\"\n",
    "\n",
    "    # Try reading the expression as an integer\n",
    "    try:\n",
    "        return int(expression)\n",
    "    except ValueError:\n",
    "        pass\n",
    "\n",
    "    # Try reading the expression as a float\n",
    "    try:\n",
    "        return float(expression)\n",
    "    except ValueError:\n",
    "        pass\n",
    "\n",
    "    # Check against allowed keywords\n",
    "    if expression in [\"open\", \"electron\", \"t\", \"f\", \"traveling_wave\", \"full\"]:\n",
    "        return expression\n",
    "\n",
    "    # Check against previously defined variables\n",
    "    if expression in context:\n",
    "        return context[expression]\n",
    "\n",
    "    # Evaluate as a mathematical expression\n",
    "    try:\n",
    "        # Surround expressions in bracks with quotes\n",
    "        expression = re.sub(r\"\\[([a-z0-9_%]+)\\]\", r\"['\\1']\", expression)\n",
    "        # Replace power operator with python equivalent\n",
    "        expression = re.sub(r\"\\^\", r\"**\", expression)\n",
    "        # Replace abs with abs_func when it is followed by a (\n",
    "        # NOTE: This is a hacky fix to deal with abs being overwritten in the LCLS\n",
    "        # lattice file. I'm not sure this replacement will lead to the intended\n",
    "        # behaviour.\n",
    "        expression = re.sub(r\"abs\\(\", r\"abs_func(\", expression)\n",
    "\n",
    "        return eval(expression, context)\n",
    "    except SyntaxError:\n",
    "        if not (\n",
    "            len(expression.split(\":\")) == 3 or len(expression.split(\":\")) == 4\n",
    "        ):  # It's probably an alias\n",
    "            print(\n",
    "                f\"DEBUG: Evaluating expression {expression}. Assuming it is a string.\"\n",
    "            )\n",
    "        return expression\n",
    "    except Exception as e:\n",
    "        print(expression)\n",
    "        raise e\n",
    "\n",
    "    print(expression)\n",
    "    result = \"foobar\"\n",
    "\n",
    "    return result"
   ]
  },
  {
   "cell_type": "code",
   "execution_count": 9,
   "metadata": {},
   "outputs": [],
   "source": [
    "def resolve_object_name_wildcard(wildcard_pattern: str, context: dict) -> list:\n",
    "    \"\"\"Return a list of object names that match the given wildcard.\"\"\"\n",
    "    object_type, object_name = wildcard_pattern.split(\"::\")\n",
    "\n",
    "    pattern = object_name.replace(\"*\", \".*\").replace(\"%\", \".\")\n",
    "    name_matching_keys = [key for key in context.keys() if re.fullmatch(pattern, key)]\n",
    "    type_matching_keys = [\n",
    "        key\n",
    "        for key in name_matching_keys\n",
    "        if isinstance(context[key], dict)\n",
    "        and \"element_type\" in context[key]\n",
    "        and context[key][\"element_type\"] == object_type\n",
    "    ]\n",
    "\n",
    "    return type_matching_keys"
   ]
  },
  {
   "cell_type": "code",
   "execution_count": 10,
   "metadata": {},
   "outputs": [],
   "source": [
    "def assign_property(line: str, context: dict) -> dict:\n",
    "    \"\"\"Assign a property to the context.\"\"\"\n",
    "    pattern = r\"([a-z0-9_\\*:]+)\\[([a-z0-9_%]+)\\]\\s*=(.*)\"\n",
    "    match = re.fullmatch(pattern, line)\n",
    "\n",
    "    object_name = match.group(1).strip()\n",
    "    property_name = match.group(2).strip()\n",
    "    property_expression = match.group(3).strip()  # TODO: Evaluate expression first\n",
    "\n",
    "    if \"*\" in object_name or \"%\" in object_name:\n",
    "        object_names = resolve_object_name_wildcard(object_name, context)\n",
    "    else:\n",
    "        object_names = [object_name]\n",
    "\n",
    "    expression_result = evaluate_expression(property_expression, context)\n",
    "\n",
    "    for name in object_names:\n",
    "        if name not in context:\n",
    "            context[name] = {}\n",
    "        context[name][property_name] = expression_result\n",
    "\n",
    "    return context"
   ]
  },
  {
   "cell_type": "code",
   "execution_count": 11,
   "metadata": {},
   "outputs": [],
   "source": [
    "def assign_variable(line: str, context: dict) -> dict:\n",
    "    \"\"\"Assign a variable to the context.\"\"\"\n",
    "    pattern = r\"([a-z0-9_]+)\\s*=(.*)\"\n",
    "    match = re.fullmatch(pattern, line)\n",
    "\n",
    "    variable_name = match.group(1).strip()\n",
    "    variable_expression = match.group(2).strip()  # TODO: Evaluate expression first\n",
    "\n",
    "    context[variable_name] = evaluate_expression(variable_expression, context)\n",
    "\n",
    "    if variable_name == \"o_bc1\":\n",
    "        print(\"ASSIGN_VARIABLE\")\n",
    "        print(line)\n",
    "        print(variable_expression)\n",
    "        print(context[variable_name])\n",
    "        print(\"------\")\n",
    "\n",
    "    return context"
   ]
  },
  {
   "cell_type": "code",
   "execution_count": 12,
   "metadata": {},
   "outputs": [],
   "source": [
    "def validate_understood_properties(understood: list[str], properties: dict) -> None:\n",
    "    \"\"\"\n",
    "    Validate that all properties are understood. This function primarily ensures that\n",
    "    properties not understood by Cheetah are not ignored silently.\n",
    "    \"\"\"\n",
    "    for property in properties:\n",
    "        assert property in understood, (\n",
    "            f\"Property {property} with value {properties[property]} for element\"\n",
    "            f\" type {properties['element_type']} is currently not understood.\"\n",
    "        )"
   ]
  },
  {
   "cell_type": "code",
   "execution_count": 13,
   "metadata": {},
   "outputs": [],
   "source": [
    "def convert_element(name: str, properties: dict):\n",
    "    \"\"\"\n",
    "    Convert parsed element dictionary from a Bmad lattice file to a Cheetah element.\n",
    "    \"\"\"\n",
    "    if properties[\"element_type\"] == \"drift\" or properties[\"element_type\"] == \"pipe\":\n",
    "        validate_understood_properties(\n",
    "            [\"element_type\", \"l\", \"type\", \"descrip\"], properties\n",
    "        )\n",
    "        return cheetah.Drift(name=name, length=properties[\"l\"])\n",
    "    elif (\n",
    "        properties[\"element_type\"] == \"marker\"\n",
    "        or properties[\"element_type\"] == \"monitor\"\n",
    "        or properties[\"element_type\"] == \"instrument\"\n",
    "    ):\n",
    "        validate_understood_properties([\"element_type\", \"type\"], properties)\n",
    "\n",
    "        # TODO: Remove the length if by adding markers to Cheeath\n",
    "        return cheetah.Drift(name=name, length=0.0)\n",
    "    elif properties[\"element_type\"] == \"quadrupole\":\n",
    "        # TODO: Aperture for quadrupoles?\n",
    "        validate_understood_properties(\n",
    "            [\"element_type\", \"l\", \"k1\", \"type\", \"aperture\"], properties\n",
    "        )\n",
    "        return cheetah.Quadrupole(\n",
    "            name=name, length=properties[\"l\"], k1=properties[\"k1\"]\n",
    "        )\n",
    "    else:\n",
    "        print(\n",
    "            f\"WARNING: Element of type {properties['element_type']} cannot be converted\"\n",
    "            \" correctly. Using drift section instead.\"\n",
    "        )\n",
    "        # TODO: Remove the length if by adding markers to Cheeath\n",
    "        return cheetah.Drift(\n",
    "            name=name, length=properties[\"l\"] if \"l\" in properties else 0.0\n",
    "        )"
   ]
  },
  {
   "cell_type": "code",
   "execution_count": 14,
   "metadata": {},
   "outputs": [],
   "source": [
    "def define_element(line: str, context: dict) -> dict:\n",
    "    \"\"\"Define an element in the context.\"\"\"\n",
    "    pattern = r\"([a-z0-9_]+)\\s*\\:\\s*([a-z0-9_]+)(\\,(.*))?\"\n",
    "    match = re.fullmatch(pattern, line)\n",
    "\n",
    "    element_name = match.group(1).strip()\n",
    "    element_type = match.group(2).strip()\n",
    "\n",
    "    if element_type in context:\n",
    "        element_properties = deepcopy(context[element_type])\n",
    "    else:\n",
    "        element_properties = {\"element_type\": element_type}\n",
    "\n",
    "    if match.group(3) is not None:\n",
    "        element_properties_string = match.group(4).strip()\n",
    "\n",
    "        property_pattern = r\"([a-z0-9_]+\\s*\\=\\s*\\\"[^\\\"]+\\\"|[a-z0-9]+\\s*\\=\\s*[^\\=\\,\\\"]+)\"\n",
    "        property_matches = re.findall(property_pattern, element_properties_string)\n",
    "\n",
    "        for property_string in property_matches:\n",
    "            property_string = property_string.strip()\n",
    "\n",
    "            property_name, property_expression = property_string.split(\"=\")\n",
    "            property_name = property_name.strip()\n",
    "            property_expression = property_expression.strip()\n",
    "\n",
    "            element_properties[property_name] = evaluate_expression(\n",
    "                property_expression, context\n",
    "            )\n",
    "\n",
    "    context[element_name] = element_properties\n",
    "\n",
    "    return context"
   ]
  },
  {
   "cell_type": "code",
   "execution_count": 15,
   "metadata": {},
   "outputs": [],
   "source": [
    "def define_line(line: str, context: dict) -> dict:\n",
    "    \"\"\"Define a beam line in the context.\"\"\"\n",
    "    pattern = r\"([a-z0-9_]+)\\s*\\:\\s*line\\s*=\\s*\\((.*)\\)\"\n",
    "    match = re.fullmatch(pattern, line)\n",
    "\n",
    "    line_name = match.group(1).strip()\n",
    "    line_elements_string = match.group(2).strip()\n",
    "\n",
    "    line_elements = []\n",
    "    for element_name in line_elements_string.split(\",\"):\n",
    "        element_name = element_name.strip()\n",
    "\n",
    "        line_elements.append(element_name)\n",
    "\n",
    "    context[line_name] = line_elements\n",
    "\n",
    "    return context"
   ]
  },
  {
   "cell_type": "code",
   "execution_count": 16,
   "metadata": {},
   "outputs": [],
   "source": [
    "def define_overlay(line: str, context: dict) -> dict:\n",
    "    \"\"\"Define an overlay in the context.\"\"\"\n",
    "    knot_based_pattern = r\"([a-z0-9_]+)\\s*\\:\\s*overlay\\s*=\\s*\\{(.*)\\}\\s*\\,\\s*var\\s*=\\s*\\{\\s*([a-z0-9_]+)\\s*\\}\\s*\\,\\s*x_knot\\s*=\\s*\\{(.*)\\}\"\n",
    "    expression_based_pattern = r\"([a-z0-9_]+)\\s*\\:\\s*overlay\\s*=\\s*\\{(.*)\\}\\s*\\,\\s*var\\s*=\\s*\\{(.*)\\}\\s*(\\,.*)*\"\n",
    "\n",
    "    expression_match = re.fullmatch(expression_based_pattern, line)\n",
    "    knot_match = re.fullmatch(knot_based_pattern, line)\n",
    "\n",
    "    if knot_match:\n",
    "        overlay_name = knot_match.group(1).strip()\n",
    "        overlay_definition = knot_match.group(2).strip()\n",
    "        overlay_variable = knot_match.group(3).strip()\n",
    "        overlay_x_knot = knot_match.group(4).strip()\n",
    "\n",
    "        context[overlay_name] = {\n",
    "            \"overlay_definition\": overlay_definition,\n",
    "            \"overlay_variable\": overlay_variable,\n",
    "            \"overlay_x_knot\": overlay_x_knot,\n",
    "        }\n",
    "    elif expression_match:\n",
    "        overlay_name = expression_match.group(1).strip()\n",
    "        overlay_definition = expression_match.group(2).strip()\n",
    "        overlay_variables = expression_match.group(3).strip()\n",
    "        if expression_match.group(4) is not None:\n",
    "            overlay_parameters = expression_match.group(4).strip()[1:].strip()\n",
    "        else:\n",
    "            overlay_parameters = None\n",
    "\n",
    "        context[overlay_name] = {\n",
    "            \"overlay_definition\": overlay_definition,\n",
    "            \"overlay_variables\": overlay_variables,\n",
    "            \"overlay_parameters\": overlay_parameters,\n",
    "        }\n",
    "    else:\n",
    "        raise ValueError(f\"Overlay definition {line} not understood.\")\n",
    "\n",
    "    return context"
   ]
  },
  {
   "cell_type": "code",
   "execution_count": 17,
   "metadata": {},
   "outputs": [],
   "source": [
    "def parse_use_line(line: str, context: dict) -> dict:\n",
    "    \"\"\"Parse a use line.\"\"\"\n",
    "    pattern = r\"use\\s*\\,\\s*([a-z0-9_]+)\"\n",
    "    match = re.fullmatch(pattern, line)\n",
    "\n",
    "    use_line_name = match.group(1).strip()\n",
    "    context[\"__use__\"] = use_line_name\n",
    "\n",
    "    return context"
   ]
  },
  {
   "cell_type": "code",
   "execution_count": 18,
   "metadata": {},
   "outputs": [],
   "source": [
    "context = {\n",
    "    \"pi\": scipy.constants.pi,\n",
    "    \"twopi\": 2 * scipy.constants.pi,\n",
    "    \"c_light\": scipy.constants.c,\n",
    "    \"emass\": physical_constants[\"electron mass energy equivalent in MeV\"][0] * 1e-3,\n",
    "    \"m_electron\": physical_constants[\"electron mass energy equivalent in MeV\"][0] * 1e6,\n",
    "    \"sqrt\": math.sqrt,\n",
    "    \"asin\": math.asin,\n",
    "    \"sin\": math.sin,\n",
    "    \"cos\": math.cos,\n",
    "    \"abs_func\": abs,\n",
    "    \"raddeg\": scipy.constants.degree,\n",
    "}\n",
    "for line in merged_lines:\n",
    "    if re.fullmatch(property_assignment_pattern, line):\n",
    "        context = assign_property(line, context)\n",
    "    elif re.fullmatch(variable_assignment_pattern, line):\n",
    "        context = assign_variable(line, context)\n",
    "    elif re.fullmatch(line_definition_pattern, line):\n",
    "        context = define_line(line, context)\n",
    "    elif re.fullmatch(overlay_definition_pattern, line):\n",
    "        context = define_overlay(line, context)\n",
    "    elif re.fullmatch(element_definition_pattern, line):\n",
    "        context = define_element(line, context)\n",
    "    elif re.fullmatch(use_line_pattern, line):\n",
    "        context = parse_use_line(line, context)"
   ]
  },
  {
   "cell_type": "code",
   "execution_count": 23,
   "metadata": {},
   "outputs": [
    {
     "data": {
      "text/plain": [
       "'cu_hxr'"
      ]
     },
     "execution_count": 23,
     "metadata": {},
     "output_type": "execute_result"
    }
   ],
   "source": [
    "context[\"__use__\"]"
   ]
  },
  {
   "cell_type": "code",
   "execution_count": 24,
   "metadata": {},
   "outputs": [
    {
     "data": {
      "text/plain": [
       "['gunl0a', 'l0al0b', 'lcls2cuh']"
      ]
     },
     "execution_count": 24,
     "metadata": {},
     "output_type": "execute_result"
    }
   ],
   "source": [
    "context[\"cu_hxr\"]"
   ]
  },
  {
   "cell_type": "code",
   "execution_count": 26,
   "metadata": {},
   "outputs": [
    {
     "data": {
      "text/plain": [
       "['lcls2cuc', 'bsyltuh']"
      ]
     },
     "execution_count": 26,
     "metadata": {},
     "output_type": "execute_result"
    }
   ],
   "source": [
    "context[\"lcls2cuh\"]"
   ]
  },
  {
   "cell_type": "code",
   "execution_count": 27,
   "metadata": {},
   "outputs": [
    {
     "data": {
      "text/plain": [
       "['dl1', 'l1', 'bc1', 'l2', 'bc2', 'l3']"
      ]
     },
     "execution_count": 27,
     "metadata": {},
     "output_type": "execute_result"
    }
   ],
   "source": [
    "context[\"lcls2cuc\"]"
   ]
  },
  {
   "cell_type": "code",
   "execution_count": 28,
   "metadata": {},
   "outputs": [
    {
     "data": {
      "text/plain": [
       "['dl1_1', 'dl1_2']"
      ]
     },
     "execution_count": 28,
     "metadata": {},
     "output_type": "execute_result"
    }
   ],
   "source": [
    "context[\"dl1\"]"
   ]
  },
  {
   "cell_type": "code",
   "execution_count": 29,
   "metadata": {},
   "outputs": [
    {
     "data": {
      "text/plain": [
       "['begdl1_1',\n",
       " 'emat',\n",
       " 'de00',\n",
       " 'de00a',\n",
       " 'qe01_full',\n",
       " 'de01a',\n",
       " 'im02',\n",
       " 'de01b',\n",
       " 'vv02',\n",
       " 'de01c',\n",
       " 'qe02_full',\n",
       " 'dh00',\n",
       " 'lsrhtr',\n",
       " 'dh06',\n",
       " 'tcav0_full',\n",
       " 'de02',\n",
       " 'qe03_full',\n",
       " 'de03a',\n",
       " 'de03b',\n",
       " 'sc7',\n",
       " 'de03c',\n",
       " 'qe04_full',\n",
       " 'de04',\n",
       " 'ws01',\n",
       " 'de05',\n",
       " 'otr1',\n",
       " 'de05c',\n",
       " 'vv03',\n",
       " 'de06a',\n",
       " 'rst1',\n",
       " 'de06b',\n",
       " 'ws02',\n",
       " 'de05a',\n",
       " 'mrk0',\n",
       " 'de05a',\n",
       " 'otr2',\n",
       " 'de06d',\n",
       " 'bpm10',\n",
       " 'de06e',\n",
       " 'ws03',\n",
       " 'de05',\n",
       " 'otr3',\n",
       " 'de07',\n",
       " 'qm01_full',\n",
       " 'de08',\n",
       " 'sc8',\n",
       " 'de08a',\n",
       " 'vv04',\n",
       " 'de08b',\n",
       " 'qm02_full',\n",
       " 'de09',\n",
       " 'dbmark82',\n",
       " 'enddl1_1']"
      ]
     },
     "execution_count": 29,
     "metadata": {},
     "output_type": "execute_result"
    }
   ],
   "source": [
    "context[\"dl1_1\"]"
   ]
  },
  {
   "cell_type": "code",
   "execution_count": 30,
   "metadata": {},
   "outputs": [
    {
     "data": {
      "text/plain": [
       "{'element_type': 'marker'}"
      ]
     },
     "execution_count": 30,
     "metadata": {},
     "output_type": "execute_result"
    }
   ],
   "source": [
    "context[\"vv02\"]"
   ]
  },
  {
   "cell_type": "code",
   "execution_count": null,
   "metadata": {},
   "outputs": [],
   "source": []
  }
 ],
 "metadata": {
  "kernelspec": {
   "display_name": "cheetah-dev",
   "language": "python",
   "name": "python3"
  },
  "language_info": {
   "codemirror_mode": {
    "name": "ipython",
    "version": 3
   },
   "file_extension": ".py",
   "mimetype": "text/x-python",
   "name": "python",
   "nbconvert_exporter": "python",
   "pygments_lexer": "ipython3",
   "version": "3.9.16"
  },
  "orig_nbformat": 4
 },
 "nbformat": 4,
 "nbformat_minor": 2
}
