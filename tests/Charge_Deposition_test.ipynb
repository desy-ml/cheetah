{
 "cells": [
  {
   "cell_type": "code",
   "execution_count": 8,
   "id": "46802055-9833-4d37-94c7-4b8d09844e91",
   "metadata": {},
   "outputs": [],
   "source": [
    "import torch\n",
    "\n",
    "from cheetah import (\n",
    "    SpaceChargeKick,\n",
    "    ParticleBeam,\n",
    "    Segment,\n",
    ")"
   ]
  },
  {
   "cell_type": "code",
   "execution_count": 9,
   "id": "c6c3fec6-de93-4315-b812-5c2ab26a9445",
   "metadata": {},
   "outputs": [
    {
     "ename": "TypeError",
     "evalue": "Can't instantiate abstract class SpaceChargeKick without an implementation for abstract method 'split'",
     "output_type": "error",
     "traceback": [
      "\u001b[1;31m---------------------------------------------------------------------------\u001b[0m",
      "\u001b[1;31mTypeError\u001b[0m                                 Traceback (most recent call last)",
      "Cell \u001b[1;32mIn[9], line 1\u001b[0m\n\u001b[1;32m----> 1\u001b[0m space_charge \u001b[38;5;241m=\u001b[39m SpaceChargeKick(nx\u001b[38;5;241m=\u001b[39m\u001b[38;5;241m32\u001b[39m,ny\u001b[38;5;241m=\u001b[39m\u001b[38;5;241m32\u001b[39m,ns\u001b[38;5;241m=\u001b[39m\u001b[38;5;241m32\u001b[39m,dx\u001b[38;5;241m=\u001b[39m\u001b[38;5;241m3e-9\u001b[39m,dy\u001b[38;5;241m=\u001b[39m\u001b[38;5;241m3e-9\u001b[39m,ds\u001b[38;5;241m=\u001b[39m\u001b[38;5;241m2e-6\u001b[39m)\n\u001b[0;32m      2\u001b[0m incoming_beam \u001b[38;5;241m=\u001b[39m ParticleBeam\u001b[38;5;241m.\u001b[39mfrom_parameters(\n\u001b[0;32m      3\u001b[0m         num_particles\u001b[38;5;241m=\u001b[39mtorch\u001b[38;5;241m.\u001b[39mtensor(\u001b[38;5;241m1000\u001b[39m),\n\u001b[0;32m      4\u001b[0m         sigma_xp\u001b[38;5;241m=\u001b[39mtorch\u001b[38;5;241m.\u001b[39mtensor(\u001b[38;5;241m2e-7\u001b[39m),\n\u001b[0;32m      5\u001b[0m         sigma_yp\u001b[38;5;241m=\u001b[39mtorch\u001b[38;5;241m.\u001b[39mtensor(\u001b[38;5;241m2e-7\u001b[39m),\n\u001b[0;32m      6\u001b[0m     )\n",
      "\u001b[1;31mTypeError\u001b[0m: Can't instantiate abstract class SpaceChargeKick without an implementation for abstract method 'split'"
     ]
    }
   ],
   "source": [
    "space_charge = SpaceChargeKick(nx=32,ny=32,ns=32,dx=3e-9,dy=3e-9,ds=2e-6)\n",
    "incoming_beam = ParticleBeam.from_parameters(\n",
    "        num_particles=torch.tensor(1000),\n",
    "        sigma_xp=torch.tensor(2e-7),\n",
    "        sigma_yp=torch.tensor(2e-7),\n",
    "    )"
   ]
  },
  {
   "cell_type": "code",
   "execution_count": null,
   "id": "9479b8b9-1e8a-442b-80a7-dfa879512467",
   "metadata": {},
   "outputs": [],
   "source": []
  },
  {
   "cell_type": "code",
   "execution_count": null,
   "id": "f0af05a0-dec7-45e5-95fa-17fd4af53bd9",
   "metadata": {},
   "outputs": [],
   "source": []
  }
 ],
 "metadata": {
  "kernelspec": {
   "display_name": "Python 3 (ipykernel)",
   "language": "python",
   "name": "python3"
  },
  "language_info": {
   "codemirror_mode": {
    "name": "ipython",
    "version": 3
   },
   "file_extension": ".py",
   "mimetype": "text/x-python",
   "name": "python",
   "nbconvert_exporter": "python",
   "pygments_lexer": "ipython3",
   "version": "3.12.1"
  }
 },
 "nbformat": 4,
 "nbformat_minor": 5
}
